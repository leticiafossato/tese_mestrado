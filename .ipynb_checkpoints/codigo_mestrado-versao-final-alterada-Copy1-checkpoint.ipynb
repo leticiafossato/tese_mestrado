{
 "cells": [
  {
   "cell_type": "code",
   "execution_count": 1,
   "metadata": {
    "ExecuteTime": {
     "end_time": "2022-10-14T15:43:49.962013Z",
     "start_time": "2022-10-14T15:42:09.921706Z"
    }
   },
   "outputs": [],
   "source": [
    "import pandas as pd\n",
    "import re\n",
    "import os\n",
    "import collections\n",
    "import nltk\n",
    "import urllib\n",
    "import bs4 as bs\n",
    "import re\n",
    "from gensim.models import Word2Vec\n",
    "from nltk.corpus import stopwords\n",
    "import numpy\n",
    "\n",
    "from numpy import dot\n",
    "from numpy.linalg import norm"
   ]
  },
  {
   "cell_type": "code",
   "execution_count": 2,
   "metadata": {
    "ExecuteTime": {
     "end_time": "2022-10-14T15:43:50.476407Z",
     "start_time": "2022-10-14T15:43:49.968000Z"
    }
   },
   "outputs": [],
   "source": [
    "list_of_files = os.listdir('../top1000_complete')"
   ]
  },
  {
   "cell_type": "code",
   "execution_count": 3,
   "metadata": {
    "ExecuteTime": {
     "end_time": "2022-10-14T15:43:53.206969Z",
     "start_time": "2022-10-14T15:43:50.482378Z"
    }
   },
   "outputs": [],
   "source": [
    "list_of_files2= []\n",
    "for i in list_of_files:\n",
    "    nome = '../top1000_complete/' + i + '/' + 'Documents_xml/' +os.listdir(f'../top1000_complete/{i}/Documents_xml')[0]\n",
    "    list_of_files2.append(nome)"
   ]
  },
  {
   "cell_type": "code",
   "execution_count": 4,
   "metadata": {
    "ExecuteTime": {
     "end_time": "2022-10-14T15:44:54.012553Z",
     "start_time": "2022-10-14T15:43:53.212959Z"
    }
   },
   "outputs": [],
   "source": [
    "lines = []\n",
    "for file in list_of_files2:\n",
    "    f= open(file,'r')\n",
    "    lines.append(f.readlines())\n",
    "    f.close()"
   ]
  },
  {
   "cell_type": "code",
   "execution_count": 5,
   "metadata": {
    "ExecuteTime": {
     "end_time": "2022-10-14T15:44:54.027523Z",
     "start_time": "2022-10-14T15:44:54.015589Z"
    }
   },
   "outputs": [],
   "source": [
    "paper1= lines[2]"
   ]
  },
  {
   "cell_type": "code",
   "execution_count": 6,
   "metadata": {
    "ExecuteTime": {
     "end_time": "2022-10-14T15:44:54.339176Z",
     "start_time": "2022-10-14T15:44:54.031508Z"
    }
   },
   "outputs": [
    {
     "data": {
      "text/plain": [
       "['<PAPER>\\n',\n",
       " '  <S sid=\"0\">Advances In Domain Independent Linear Text Segmentation</S>\\n',\n",
       " '  <ABSTRACT>\\n',\n",
       " '    <S sid=\"1\" ssid=\"1\">This paper describes a method for linear text segmentation which is twice as accurate and over seven times as fast as the state-of-the-art (Reynar, 1998).</S>\\n',\n",
       " '    <S sid=\"2\" ssid=\"2\">Inter-sentence similarity is replaced by rank in the local context.</S>\\n',\n",
       " '    <S sid=\"3\" ssid=\"3\">Boundary locations are discovered by divisive clustering.</S>\\n',\n",
       " '  </ABSTRACT>\\n',\n",
       " '  <SECTION title=\"1 Introduction\" number=\"1\">\\n',\n",
       " '    <S sid=\"4\" ssid=\"1\">Even moderately long documents typically address several topics or different aspects of the same topic.</S>\\n',\n",
       " '    <S sid=\"5\" ssid=\"2\">The aim of linear text segmentation is to discover the topic boundaries.</S>\\n',\n",
       " '    <S sid=\"6\" ssid=\"3\">The uses of this procedure include information retrieval (Hearst and Plaunt, 1993; Hearst, 1994; Yaari, 1997; Reynar, 1999), summarization (Reynar, 1998), text understanding, anaphora resolution (Kozima, 1993), language modelling (Morris and Hirst, 1991; Beeferman et al., 1997b) and improving document navigation for the visually disabled (Choi, 2000).</S>\\n',\n",
       " '    <S sid=\"7\" ssid=\"4\">This paper focuses on domain independent methods for segmenting written text.</S>\\n',\n",
       " '    <S sid=\"8\" ssid=\"5\">We present a new algorithm that builds on previous work by Reynar (Reynar, 1998; Reynar, 1994).</S>\\n',\n",
       " '    <S sid=\"9\" ssid=\"6\">The primary distinction of our method is the use of a ranking scheme and the cosine similarity measure (van Rijsbergen, 1979) in formulating the similarity matrix.</S>\\n',\n",
       " '    <S sid=\"10\" ssid=\"7\">We propose that the similarity values of short text segments is statistically insignificant.</S>\\n',\n",
       " '    <S sid=\"11\" ssid=\"8\">Thus, one can only rely on their order, or rank, for clustering.</S>\\n',\n",
       " '  </SECTION>\\n',\n",
       " '  <SECTION title=\"2 Background\" number=\"2\">\\n',\n",
       " '    <S sid=\"12\" ssid=\"1\">Existing work falls into one of two categories, lexical cohesion methods and multi-source methods (Yaari, 1997).</S>\\n',\n",
       " '    <S sid=\"13\" ssid=\"2\">The former stem from the work of Halliday and Hasan (Halliday and Hasan, 1976).</S>\\n',\n",
       " '    <S sid=\"14\" ssid=\"3\">They proposed that text segments with similar vocabulary are likely to be part of a coherent topic segment.</S>\\n',\n",
       " '    <S sid=\"15\" ssid=\"4\">Implementations of this idea use word stem repetition (Youmans, 1991; Reynar, 1994; Ponte and Croft, 1997), context vectors (Hearst, 1994; Yaari, 1997; Kaufmann, 1999; Eichmann et al., 1999), entity repetition (Kan et al., 1998), semantic similarity (Morris and Hirst, 1991; Kozima, 1993), word distance model (Beeferman et al., 1997a) and word frequency model (Reynar, 1999) to detect cohesion.</S>\\n',\n",
       " '    <S sid=\"16\" ssid=\"5\">Methods for finding the topic boundaries include sliding window (Hearst, 1994), lexical chains (Morris, 1988; Kan et al., 1998), dynamic programming (Ponte and Croft, 1997; Heinonen, 1998), agglomerative clustering (Yaari, 1997) and divisive clustering (Reynar, 1994).</S>\\n',\n",
       " '    <S sid=\"17\" ssid=\"6\">Lexical cohesion methods are typically used for segmenting written text in a collection to improve information retrieval (Hearst, 1994; Reynar, 1998).</S>\\n',\n",
       " '    <S sid=\"18\" ssid=\"7\">Multi-source methods combine lexical cohesion with other indicators of topic shift such as cue phrases, prosodic features, reference, syntax and lexical attraction (Beeferman et al., 1997a) using decision trees (Miike et al., 1994; Kurohashi and Nagao, 1994; Litman and Passonneau, 1995) and probabilistic models (Beeferman et al., 1997b; Hajime et al., 1998; Reynar, 1998).</S>\\n',\n",
       " '    <S sid=\"19\" ssid=\"8\">Work in this area is largely motivated by the topic detection and tracking (TDT) initiative (Allan et al., 1998).</S>\\n',\n",
       " '    <S sid=\"20\" ssid=\"9\">The focus is on the segmentation of transcribed spoken text and broadcast news stories where the presentation format and regular cues can be exploited to improve accuracy.</S>\\n',\n",
       " '  </SECTION>\\n',\n",
       " '  <SECTION title=\"3 Algorithm\" number=\"3\">\\n',\n",
       " '    <S sid=\"21\" ssid=\"1\">Our segmentation algorithm takes a list of tokenized sentences as input.</S>\\n',\n",
       " '    <S sid=\"22\" ssid=\"2\">A tokenizer (Grefenstette and Tapanainen, 1994) and a sentence boundary disambiguation algorithm (Palmer and Hearst, 1994; Reynar and Ratnaparkhi, 1997) or EAGLE (Reynar et al., 1997) may be used to convert a plain text document into the acceptable input format.</S>\\n',\n",
       " '    <S sid=\"23\" ssid=\"3\">Punctuation and uninformative words are removed from each sentence using a simple regular expression pattern matcher and a stopword list.</S>\\n',\n",
       " '    <S sid=\"24\" ssid=\"4\">A stemming algorithm (Porter, 1980) is then applied to the remaining tokens to obtain the word stems.</S>\\n',\n",
       " '    <S sid=\"25\" ssid=\"5\">A dictionary of word stem frequencies is constructed for each sentence.</S>\\n',\n",
       " '    <S sid=\"26\" ssid=\"6\">This is represented as a vector of frequency counts.</S>\\n',\n",
       " '    <S sid=\"27\" ssid=\"7\">Let fi,i denote the frequency of word j in sentence i.</S>\\n',\n",
       " '    <S sid=\"28\" ssid=\"8\">The similarity between a pair of sentences :1:, y For short text segments, the absolute value of sim(x, y) is unreliable.</S>\\n',\n",
       " '    <S sid=\"29\" ssid=\"9\">An additional occurrence of a common word (reflected in the numerator) causes a disproportionate increase in sim(x, y) unless the denominator (related to segment length) is large.</S>\\n',\n",
       " '    <S sid=\"30\" ssid=\"10\">Thus, in the context of text segmentation where a segment has typically &lt; 100 informative tokens, one can only use the metric to estimate the order of similarity between sentences, e.g. a is more similar to b than c. Furthermore, language usage varies throughout a document.</S>\\n',\n",
       " '    <S sid=\"31\" ssid=\"11\">For instance, the introduction section of a document is less cohesive than a section which is about a particular topic.</S>\\n',\n",
       " '    <S sid=\"32\" ssid=\"12\">Consequently, it is inappropriate to directly compare the similarity values from different regions of the similarity matrix.</S>\\n',\n",
       " '    <S sid=\"33\" ssid=\"13\">In non-parametric statistical analysis, one compares the rank of data sets when the qualitative behaviour is similar but the absolute quantities are unreliable.</S>\\n',\n",
       " '    <S sid=\"34\" ssid=\"14\">We present a ranking scheme which is an adaptation of that described in (O\\'Neil and Denos, 1992).</S>\\n',\n",
       " '    <S sid=\"35\" ssid=\"15\">\\'The contrast of the image has been adjusted to highlight the image features.</S>\\n',\n",
       " '    <S sid=\"36\" ssid=\"16\">Each value in the similarity matrix is replaced by its rank in the local region.</S>\\n',\n",
       " '    <S sid=\"37\" ssid=\"17\">The rank is the number of neighbouring elements with a lower similarity value.</S>\\n',\n",
       " '    <S sid=\"38\" ssid=\"18\">Figure 2 shows an example of image ranking using a 3 x 3 rank mask with output range {0, 8).</S>\\n',\n",
       " '    <S sid=\"39\" ssid=\"19\">For segmentation, we used a 11 x 11 rank mask.</S>\\n',\n",
       " '    <S sid=\"40\" ssid=\"20\">The output is expressed as a ratio r (equation 2) to circumvent normalisation problems (consider the cases when the rank mask is not contained in the image).</S>\\n',\n",
       " '    <S sid=\"41\" ssid=\"21\"># of elements with a lower value To demonstrate the effect of image ranking, the process was applied to the matrix shown in figure 1 to produce figure 32.</S>\\n',\n",
       " '    <S sid=\"42\" ssid=\"22\">Notice the contrast has been improved significantly.</S>\\n',\n",
       " '    <S sid=\"43\" ssid=\"23\">Figure 4 illustrates the more subtle effects of our ranking scheme. r(x) is the rank (1 x 11 mask) of (x) which is a sine wave with decaying mean, amplitude and frequency (equation 3).</S>\\n',\n",
       " '    <S sid=\"44\" ssid=\"24\">The final process determines the location of the topic boundaries.</S>\\n',\n",
       " '    <S sid=\"45\" ssid=\"25\">The method is based on Reynar\\'s maximisation algorithm (Reynar, 1998; Helfman, 1996; Church, 1993; Church and Helfman, 1993).</S>\\n',\n",
       " '    <S sid=\"46\" ssid=\"26\">A text segment is defined by two sentences i, j (inclusive).</S>\\n',\n",
       " '    <S sid=\"47\" ssid=\"27\">This is represented as a square region along the diagonal of the rank matrix.</S>\\n',\n",
       " '    <S sid=\"48\" ssid=\"28\">Let si,j denote the sum of the rank values in a segment and ai,j = (j &#8212;i +1)2 be the inside area.</S>\\n',\n",
       " '    <S sid=\"49\" ssid=\"29\">B = {b1, ...,197-4 is a list of in coherent text segments. sk and ak refers to the sum of rank and area of segment k in B.</S>\\n',\n",
       " '    <S sid=\"50\" ssid=\"30\">D is the inside density of B (see equation 4). ak To initialise the process, the entire document is placed in B as one coherent text segment.</S>\\n',\n",
       " '    <S sid=\"51\" ssid=\"31\">Each step of the process splits one of the segments in B.</S>\\n',\n",
       " '    <S sid=\"52\" ssid=\"32\">The split point is a potential boundary which maximises D. Figure 5 shows a working example.</S>\\n',\n",
       " '    <S sid=\"53\" ssid=\"33\">The number of segments to generate, in, is determined automatically.</S>\\n',\n",
       " '    <S sid=\"54\" ssid=\"34\">Den) is the inside density of n segments and SD(n) , Den) Den-1) is the gradient.</S>\\n',\n",
       " '    <S sid=\"55\" ssid=\"35\">For a document with b potential boundaries, b steps of divisive clustering generates {D(1), ...,D(b+1)} and {bD(2), oD(b+1)} (see figure 6 and 7).</S>\\n',\n",
       " '    <S sid=\"56\" ssid=\"36\">An unusually large reduction in 6D suggests the optiinal clustering has been obtained3 (see n = 10 in the threshold, p+c x to dD (c= 1.2 works well in practice) The running time of each step is dominated by the computation of sk.</S>\\n',\n",
       " '    <S sid=\"57\" ssid=\"37\">Given si,j is constant, our algorithm pre-computes all the values to improve speed performance.</S>\\n',\n",
       " '    <S sid=\"58\" ssid=\"38\">The procedure computes the values along diagonals, starting from the main diagonal and works towards the corner.</S>\\n',\n",
       " '    <S sid=\"59\" ssid=\"39\">The method has a complexity of order 171-5.n2.</S>\\n',\n",
       " '    <S sid=\"60\" ssid=\"40\">Let ri,j refer to the rank value in the rank matrix R and S to the sum of rank matrix.</S>\\n',\n",
       " '    <S sid=\"61\" ssid=\"41\">Given R of size n X 77,, S is computed in three steps (see equation 5).</S>\\n',\n",
       " '    <S sid=\"62\" ssid=\"42\">Figure 8 shows the result of applying this procedure to the rank matrix in figure 5.</S>\\n',\n",
       " '  </SECTION>\\n',\n",
       " '  <SECTION title=\"4 Evaluation\" number=\"4\">\\n',\n",
       " '    <S sid=\"63\" ssid=\"1\">The definition of a topic segment ranges from complete stories (Allan et al., 1998) to summaries (Ponte and Croft, 1997).</S>\\n',\n",
       " '    <S sid=\"64\" ssid=\"2\">Given the quality of an algorithm is task dependent, the following experiments focus on the relative performance.</S>\\n',\n",
       " '    <S sid=\"65\" ssid=\"3\">Our evaluation strategy is a variant of that described in (Reynar, 1998, 71-73) and the TDT segmentation task (Allan et al., 1998).</S>\\n',\n",
       " '    <S sid=\"66\" ssid=\"4\">We assume a good algorithm is one that finds the most prominent topic boundaries.</S>\\n',\n",
       " '    <S sid=\"67\" ssid=\"5\">An artificial test corpus of 700 samples is used to assess the accuracy and speed performance of segmentation algorithms.</S>\\n',\n",
       " '    <S sid=\"68\" ssid=\"6\">A sample is a concatenation of ten text segments.</S>\\n',\n",
       " '    <S sid=\"69\" ssid=\"7\">A segment is the first n sentences of a randomly selected document from the Brown corpus\\'.</S>\\n',\n",
       " '    <S sid=\"70\" ssid=\"8\">A sample is characterised by the range of n. The corpus was generated by an automatic procedure5.</S>\\n',\n",
       " '    <S sid=\"71\" ssid=\"9\">Table 1 presents the corpus statistics. p(erroriref, hyp, k) = p(misslref, hyp, diff, k)p(diffl ref, k)+ (6) p(fairef, hyp, same, k)p(samelref, k) Speed performance is measured by the average number of CPU seconds required to process a test sample6.</S>\\n',\n",
       " '    <S sid=\"72\" ssid=\"10\">Segmentation accuracy is measured by the error metric (equation 6, fa false alarms) proposed in (Beeferman et al., 1999).</S>\\n',\n",
       " '    <S sid=\"73\" ssid=\"11\">Low error probability indicates high accuracy.</S>\\n',\n",
       " '    <S sid=\"74\" ssid=\"12\">Other performance measures include the popular precision and recall metric (PR) (Hearst, 1994), fuzzy PR (Reynar, 1998) and edit distance (Ponte and Croft, 1997).</S>\\n',\n",
       " '    <S sid=\"75\" ssid=\"13\">The problems associated with these metrics are discussed in (Beeferman et al., 1999).</S>\\n',\n",
       " '    <S sid=\"76\" ssid=\"14\">Five degenerate algorithms define the baseline for the experiments.</S>\\n',\n",
       " '    <S sid=\"77\" ssid=\"15\">B&#8222; does not propose any boundaries.</S>\\n',\n",
       " '    <S sid=\"78\" ssid=\"16\">B&#8222; reports all potential boundaries as real boundaries.</S>\\n',\n",
       " '    <S sid=\"79\" ssid=\"17\">B&#8222; partitions the sample into regular segments.</S>\\n',\n",
       " '    <S sid=\"80\" ssid=\"18\">B(i.,?) randomly selects any number of boundaries as real boundaries.</S>\\n',\n",
       " '    <S sid=\"81\" ssid=\"19\">B(r,b) randomly selects b boundaries as real boundaries.</S>\\n',\n",
       " '    <S sid=\"82\" ssid=\"20\">The accuracy of the last two algorithms are computed analytically.</S>\\n',\n",
       " '    <S sid=\"83\" ssid=\"21\">We consider the status of in potential boundaries as a bit string (1 -4 topic boundary).</S>\\n',\n",
       " '    <S sid=\"84\" ssid=\"22\">The terms p(iniss) awl p(fa) in equation 6 corresponds to p(samelk) and p(difflk) = 1 -p(samelk).</S>\\n',\n",
       " '    <S sid=\"85\" ssid=\"23\">Equation 7, 8 and 9 gives the general form of p(samelk), B(r,?) and Berm, respectively\\'.</S>\\n',\n",
       " '    <S sid=\"86\" ssid=\"24\">Table 2 presents the experimental results.</S>\\n',\n",
       " '    <S sid=\"87\" ssid=\"25\">The values in row two and three, four and five are not actually the same.</S>\\n',\n",
       " '    <S sid=\"88\" ssid=\"26\">However, their differences are insignificant according to the Kolmogorov-Smirnov, or KS-test (Press et al., 1992).</S>\\n',\n",
       " '    <S sid=\"89\" ssid=\"27\">We compare three versions of the TextTiling algorithm (Hearst, 1994).</S>\\n',\n",
       " '    <S sid=\"90\" ssid=\"28\">H94(c,d) is Hearst\\'s C implementation with default parameters.</S>\\n',\n",
       " '    <S sid=\"91\" ssid=\"29\">H94(e.7.) uses the recommended parameters k = 6, w = 20.</S>\\n',\n",
       " '    <S sid=\"92\" ssid=\"30\">H94(3,,,) is my implementation of the algorithm.</S>\\n',\n",
       " '    <S sid=\"93\" ssid=\"31\">Experimental result (table 3) shows H94(,,d) and H94(,,) are more accurate than H94(j,,,).</S>\\n',\n",
       " '    <S sid=\"94\" ssid=\"32\">We suspect this is due to the use of a different stopword list and stemming algorithm.</S>\\n',\n",
       " '    <S sid=\"95\" ssid=\"33\">Five versions of Reynar\\'s optimisation algorithm (Reynar, 1998) were evaluated.</S>\\n',\n",
       " '    <S sid=\"96\" ssid=\"34\">R98 and R98(7-&#8222;rn) are exact implementations of his maximisation and minimisation algorithm.</S>\\n',\n",
       " '    <S sid=\"97\" ssid=\"35\">R98(8,,08) is my version of the maximisation algorithm which uses the cosine coefficient instead of dot density for measuring similarity.</S>\\n',\n",
       " '    <S sid=\"98\" ssid=\"36\">It incorporates the optimisations described in section 3.4.</S>\\n',\n",
       " '    <S sid=\"99\" ssid=\"37\">R98(,&#8222;,d0t) is the modularised version of R98 for experimenting with different similarity measures.</S>\\n',\n",
       " '    <S sid=\"100\" ssid=\"38\">R98(,,,,&#8222;) uses a variant of Kozima\\'s semantic similarity measure (Kozima, 1993) to compute block similarity.</S>\\n',\n",
       " '    <S sid=\"101\" ssid=\"39\">Word similarity is a function of word cooccurrence statistics in the given document.</S>\\n',\n",
       " '    <S sid=\"102\" ssid=\"40\">Words that belong to the same sentence are considered to be related.</S>\\n',\n",
       " '    <S sid=\"103\" ssid=\"41\">Given the co-occurrence frequencies f (wi, wi), the transition probability matrix t is computed by equation 10.</S>\\n',\n",
       " '    <S sid=\"104\" ssid=\"42\">Equation 11 defines our spread activation scheme. s denotes the word similarity matrix, x is the number of activation steps and norm(y) converts a matrix y into a transition matrix. x = 5 was used in the experiment.</S>\\n',\n",
       " '    <S sid=\"105\" ssid=\"43\">Experimental result (table 4) shows the cosine coefficient and our spread activation method improved segmentation accuracy.</S>\\n',\n",
       " '    <S sid=\"106\" ssid=\"44\">The speed optimisations significantly reduced the execution time.</S>\\n',\n",
       " '    <S sid=\"107\" ssid=\"45\">We compare three versions of Segmenter (Kan et at, 1998).</S>\\n',\n",
       " '    <S sid=\"108\" ssid=\"46\">K98(p) is the original Perl implementation of the algorithm (version 1.6).</S>\\n',\n",
       " '    <S sid=\"109\" ssid=\"47\">K98(i) is my implementation of the algorithm.</S>\\n',\n",
       " '    <S sid=\"110\" ssid=\"48\">K98(j,,i) is a version of K98(i) which uses a document specific chain breaking strategy.</S>\\n',\n",
       " '    <S sid=\"111\" ssid=\"49\">The distribution of link distances are used to identify unusually long links.</S>\\n',\n",
       " '    <S sid=\"112\" ssid=\"50\">The threshold is a function p + c x VT, of the mean p and variance We found c = 1 works well in practice.</S>\\n',\n",
       " '    <S sid=\"113\" ssid=\"51\">Table 5 summarises the experimental results.</S>\\n',\n",
       " '    <S sid=\"114\" ssid=\"52\">K98 performed performed significantly better than K98(J,).</S>\\n',\n",
       " '    <S sid=\"115\" ssid=\"53\">This is due to the use of a different part-of-speech tagger and shallow parser.</S>\\n',\n",
       " '    <S sid=\"116\" ssid=\"54\">The difference in speed is largely due to the programming languages and term clustering strategies.</S>\\n',\n",
       " '    <S sid=\"117\" ssid=\"55\">Our chain breaking strategy improved accuracy (compare K98(i) with K98(j,a))&#8226; Two versions of our algorithm were developed, C99 and C99(b).</S>\\n',\n",
       " '    <S sid=\"118\" ssid=\"56\">The former is an exact implementation of the algorithm described in this paper.</S>\\n',\n",
       " '    <S sid=\"119\" ssid=\"57\">The latter is given the expected number of topic segments for fair comparison with R98.</S>\\n',\n",
       " '    <S sid=\"120\" ssid=\"58\">Both algorithms used a 11 x 11 ranking mask.</S>\\n',\n",
       " '    <S sid=\"121\" ssid=\"59\">The first experiment focuses on the impact of our automatic termination strategy on C99(b) (table 6).</S>\\n',\n",
       " '    <S sid=\"122\" ssid=\"60\">C99(b) is marginally more accurate than C99.</S>\\n',\n",
       " '    <S sid=\"123\" ssid=\"61\">This indicates our automatic termination strategy is effective but not optimal.</S>\\n',\n",
       " '    <S sid=\"124\" ssid=\"62\">The minor reduction in speed performance is acceptable.</S>\\n',\n",
       " '    <S sid=\"125\" ssid=\"63\">The second experiment investigates the effect of different ranking mask size on the performance of C99 (table 7).</S>\\n',\n",
       " '    <S sid=\"126\" ssid=\"64\">Execution time increases with mask size.</S>\\n',\n",
       " '    <S sid=\"127\" ssid=\"65\">A 1 x 1 ranking mask reduces all the elements in the rank matrix to zero.</S>\\n',\n",
       " '    <S sid=\"128\" ssid=\"66\">Interestingly, the increase in ranking mask size beyond 3 x 3 has insignificant effect on segmentation accuracy.</S>\\n',\n",
       " '    <S sid=\"129\" ssid=\"67\">This suggests the use of extrema for clustering has a greater impact on accuracy than linearising the similarity scores (figure 4).</S>\\n',\n",
       " '    <S sid=\"130\" ssid=\"68\">Experimental result (table 8) shows our algorithm C99 is more accurate than existing algorithms.</S>\\n',\n",
       " '    <S sid=\"131\" ssid=\"69\">A two-fold increase in accuracy and seven-fold increase in speed was achieved (compare C99(b) with R98).</S>\\n',\n",
       " '    <S sid=\"132\" ssid=\"70\">If one disregards segmentation accuracy, H94 has the best algorithmic performance (linear).</S>\\n',\n",
       " '    <S sid=\"133\" ssid=\"71\">C99, K98 and R98 are all polynomial time algorithms.</S>\\n',\n",
       " '    <S sid=\"134\" ssid=\"72\">The significance of our results has been confirmed by both t-test and KS-test.</S>\\n',\n",
       " '  </SECTION>\\n',\n",
       " '  <SECTION title=\"5 Conclusions and future work\" number=\"5\">\\n',\n",
       " '    <S sid=\"135\" ssid=\"1\">A segmentation algorithm has two key elements, a, clustering strategy and a similarity measure.</S>\\n',\n",
       " '    <S sid=\"136\" ssid=\"2\">Our results show divisive clustering (R98) is more precise than sliding window (H94) and lexical chains (K98) for locating topic boundaries.</S>\\n',\n",
       " '    <S sid=\"137\" ssid=\"3\">Four similarity measures were examined.</S>\\n',\n",
       " '    <S sid=\"138\" ssid=\"4\">The cosine coefficient (R98(s,&#8222;0) and dot density measure (R98(m,doo ) yield similar results.</S>\\n',\n",
       " '    <S sid=\"139\" ssid=\"5\">Our spread activation based semantic measure (R98(&#8222;,sa)) improved accuracy.</S>\\n',\n",
       " '    <S sid=\"140\" ssid=\"6\">This confirms that although Kozima\\'s approach (Kozima, 1993) is computationally expensive, it does produce more precise segmentation.</S>\\n',\n",
       " '    <S sid=\"141\" ssid=\"7\">The most significant improvement was due to our ranking scheme which linearises the cosine coefficient,.</S>\\n',\n",
       " '    <S sid=\"142\" ssid=\"8\">Our experiments demonstrate that given insufficient data, the qualitative behaviour of the cosine measure is indeed more reliable than the actual values.</S>\\n',\n",
       " '    <S sid=\"143\" ssid=\"9\">Although our evaluation scheme is sufficient for this comparative study, further research requires a large scale, task independent benchmark.</S>\\n',\n",
       " '    <S sid=\"144\" ssid=\"10\">It would be interesting to compare C99 with the multi-source method described in (Beeferman et al., 1999) using the TDT corpus.</S>\\n',\n",
       " '    <S sid=\"145\" ssid=\"11\">We would also like to develop a linear time and multi-source version of the algorithm.</S>\\n',\n",
       " '  </SECTION>\\n',\n",
       " '  <SECTION title=\"Acknowledgements\" number=\"6\">\\n',\n",
       " '    <S sid=\"146\" ssid=\"1\">This paper has benefitted from the comments of Mary McGee Wood and the anonymous reviewers.</S>\\n',\n",
       " '    <S sid=\"147\" ssid=\"2\">Thanks are due to my parents and department for making this work possible; Jeffrey Reynar for discussions and guidance on the segmentation problem; Hideki Kozima for help on the spread activation measure; Min-Yen Kan and Marti Hearst for their segmentation algorithms; Daniel Oram for references to image processing techniques; Magnus Rattray and Stephen Marsland for help on statistics and mathematics.</S>\\n',\n",
       " '  </SECTION>\\n',\n",
       " '</PAPER>\\n']"
      ]
     },
     "execution_count": 6,
     "metadata": {},
     "output_type": "execute_result"
    }
   ],
   "source": [
    "paper1"
   ]
  },
  {
   "cell_type": "markdown",
   "metadata": {
    "ExecuteTime": {
     "end_time": "2022-10-10T00:51:16.847646Z",
     "start_time": "2022-10-10T00:51:16.813741Z"
    }
   },
   "source": [
    "lista3=[]\n",
    "lines2=''\n",
    "for i in range(len(paper1)):\n",
    "    for j in paper1[i]:\n",
    "        lines2= lines2+j\n",
    "    lista3.append(lines2)"
   ]
  },
  {
   "cell_type": "code",
   "execution_count": 7,
   "metadata": {
    "ExecuteTime": {
     "end_time": "2022-10-14T15:44:54.527786Z",
     "start_time": "2022-10-14T15:44:54.342169Z"
    }
   },
   "outputs": [],
   "source": [
    "texto=''\n",
    "for i in paper1:\n",
    "    texto = texto + str(i)"
   ]
  },
  {
   "cell_type": "code",
   "execution_count": 8,
   "metadata": {
    "ExecuteTime": {
     "end_time": "2022-10-14T15:44:54.574673Z",
     "start_time": "2022-10-14T15:44:54.540749Z"
    }
   },
   "outputs": [],
   "source": [
    "def preprocessa_intro(corpus: str):\n",
    "    regIter = re.finditer('(<SECTION.*Introduction.*?>(.*)<\\/SECTION>)', corpus, re.DOTALL|re.MULTILINE)\n",
    "    textos = [ t.group(2) for t in regIter]\n",
    "    lista = []\n",
    "    for texto in textos:\n",
    "        txt = re.sub('\\\\n',' ', texto)\n",
    "        txt = re.sub(',','', txt)\n",
    "        txt = re.sub(';','', txt)\n",
    "        txt = re.sub(':','', txt)\n",
    "        txt = re.sub('[ ]+',' ', txt)\n",
    "        txt = re.sub(r'\\([^)]*\\)', \"\",txt)\n",
    "        txt = re.sub(r'\\<(.*?)\\>',\"\",txt)\n",
    "        txt = re.sub(r'small\\&',\"\",txt)\n",
    "        txt = re.sub(r'tagger&amp',\"\",txt)\n",
    "        txt = re.sub(r';quot',\"\",txt)\n",
    "        txt = re.sub(r'\\&amp',\"\",txt)\n",
    "        txt = re.sub(' +', ' ', txt)\n",
    "        txt = txt.lower()\n",
    "        #txt = '<sos> ' + txt.strip() + ' <eos>'\n",
    "        txt = txt.strip()\n",
    "        txt = re.sub(' . ', '.', txt).strip()\n",
    "        #txt = '<sos> ' + txt.strip() + ' <eos>'\n",
    "        return txt\n",
    "    return txt\n",
    "\n",
    "def preprocessa_abstract(corpus: str):\n",
    "    regIter = re.finditer(\"(<ABSTRACT>)(.+?)(</ABSTRACT>)\", corpus, re.DOTALL|re.MULTILINE)\n",
    "    textos = [ t.group(2) for t in regIter]\n",
    "    lista = []\n",
    "    for texto in textos:\n",
    "        txt = re.sub('\\\\n',' ', texto)\n",
    "        txt = re.sub(',','', txt)\n",
    "        txt = re.sub(';',' ;', txt)\n",
    "        txt = re.sub('[ ]+',' ', txt)\n",
    "        txt = re.sub(r'\\([^)]*\\)', \"\",txt)\n",
    "        txt = re.sub(r'\\<(.*?)\\>',\"\",txt)\n",
    "        txt = txt.lower()\n",
    "        txt = re.sub(' . ', '.', txt).strip()\n",
    "        #txt = '<sos> ' + txt.strip() + ' <eos>'\n",
    "        lista.append(txt)\n",
    "    return txt\n",
    "\n",
    "\n",
    "def preprocessa_conclusion(corpus: str):\n",
    "    regIter = re.finditer('(<SECTION.*Conclusion.*?>(.*)<\\/SECTION>)', corpus, re.DOTALL|re.MULTILINE)\n",
    "    textos = [ t.group(2) for t in regIter]\n",
    "    lista = []\n",
    "    for texto in textos:\n",
    "        txt = re.sub('\\\\n',' ', texto)\n",
    "        txt = re.sub(',','', txt)\n",
    "        txt = re.sub(';','', txt)\n",
    "        txt = re.sub(':','', txt)\n",
    "        txt = re.sub('[ ]+',' ', txt)\n",
    "        txt = re.sub(r'\\([^)]*\\)', \"\",txt)\n",
    "        txt = re.sub(r'\\<(.*?)\\>',\"\",txt)\n",
    "        txt = re.sub(r'small\\&',\"\",txt)\n",
    "        txt = re.sub(r'tagger&amp',\"\",txt)\n",
    "        txt = re.sub(r';quot',\"\",txt)\n",
    "        txt = re.sub(r'\\&amp',\"\",txt)\n",
    "        txt = re.sub(' +', ' ', txt)\n",
    "        txt = txt.lower()\n",
    "        txt = re.sub(' . ', '.', txt).strip()\n",
    "        #txt = '<sos> ' + txt.strip() + ' <eos>'\n",
    "        txt = txt.strip()\n",
    "        #txt = '<sos> ' + txt.strip() + ' <eos>'\n",
    "        return txt\n",
    "    return txt"
   ]
  },
  {
   "cell_type": "code",
   "execution_count": 9,
   "metadata": {
    "ExecuteTime": {
     "end_time": "2022-10-14T15:44:54.638655Z",
     "start_time": "2022-10-14T15:44:54.577649Z"
    }
   },
   "outputs": [],
   "source": [
    "def remove_values_from_list(the_list, val):\n",
    "    return [value for value in the_list if value != val]"
   ]
  },
  {
   "cell_type": "code",
   "execution_count": 10,
   "metadata": {
    "ExecuteTime": {
     "end_time": "2022-10-14T15:44:54.732403Z",
     "start_time": "2022-10-14T15:44:54.648630Z"
    }
   },
   "outputs": [],
   "source": [
    "abstract   = preprocessa_abstract(texto)\n",
    "intro      = preprocessa_intro(texto)\n",
    "conclusion = preprocessa_conclusion(texto)"
   ]
  },
  {
   "cell_type": "code",
   "execution_count": 11,
   "metadata": {
    "ExecuteTime": {
     "end_time": "2022-10-14T15:44:54.764317Z",
     "start_time": "2022-10-14T15:44:54.735396Z"
    }
   },
   "outputs": [],
   "source": [
    "token_abstract   = preprocessa_abstract(texto).split()\n",
    "token_intro      = preprocessa_intro(texto).split()\n",
    "token_conclusion = preprocessa_conclusion(texto).split()"
   ]
  },
  {
   "cell_type": "code",
   "execution_count": 12,
   "metadata": {
    "ExecuteTime": {
     "end_time": "2022-10-14T15:44:54.811257Z",
     "start_time": "2022-10-14T15:44:54.768307Z"
    }
   },
   "outputs": [],
   "source": [
    "tokens = [token_abstract+token_intro+token_conclusion]"
   ]
  },
  {
   "cell_type": "code",
   "execution_count": 13,
   "metadata": {
    "ExecuteTime": {
     "end_time": "2022-10-14T15:44:54.934970Z",
     "start_time": "2022-10-14T15:44:54.813248Z"
    }
   },
   "outputs": [],
   "source": [
    "model = Word2Vec(tokens, min_count=1)"
   ]
  },
  {
   "cell_type": "code",
   "execution_count": 14,
   "metadata": {
    "ExecuteTime": {
     "end_time": "2022-10-14T15:44:54.965934Z",
     "start_time": "2022-10-14T15:44:54.944952Z"
    }
   },
   "outputs": [],
   "source": [
    "#model.wv.key_to_index"
   ]
  },
  {
   "cell_type": "markdown",
   "metadata": {},
   "source": [
    "frases_abstract = abstract.split('.')\n",
    "palavras_frases=[]\n",
    "for i in frases_abstract:\n",
    "    palavras_frases.append(i.split(' '))\n",
    "palavras_frases"
   ]
  },
  {
   "cell_type": "code",
   "execution_count": 15,
   "metadata": {
    "ExecuteTime": {
     "end_time": "2022-10-14T15:44:54.981851Z",
     "start_time": "2022-10-14T15:44:54.971877Z"
    }
   },
   "outputs": [],
   "source": [
    "def funcao_frase_palavra(abstract):\n",
    "    \"\"\"input: lista de frases\n",
    "        output: lista de palavras de cada frase\"\"\"\n",
    "    frases_abstract = abstract.split('.')\n",
    "    palavras_frases=[]\n",
    "    for i in frases_abstract:\n",
    "        palavras_frases.append(i.split(' '))\n",
    "    try:\n",
    "        palavras_frases.remove('')\n",
    "    except:\n",
    "        return palavras_frases\n",
    "    return palavras_frases"
   ]
  },
  {
   "cell_type": "code",
   "execution_count": 16,
   "metadata": {
    "ExecuteTime": {
     "end_time": "2022-10-14T15:44:55.044578Z",
     "start_time": "2022-10-14T15:44:54.986840Z"
    }
   },
   "outputs": [],
   "source": [
    "def vetor_frases(palavras_frases):\n",
    "    \"\"\"input: lista de palavras de cada frase\n",
    "        output: lista de vetores de cada frase\"\"\"\n",
    "    x=[]\n",
    "    for i in palavras_frases:\n",
    "        soma=0\n",
    "        for j in i:\n",
    "            try:\n",
    "                soma = soma +model.wv[j]\n",
    "            except:\n",
    "                soma=soma+0\n",
    "        x.append(soma)\n",
    "    return x"
   ]
  },
  {
   "cell_type": "code",
   "execution_count": 17,
   "metadata": {
    "ExecuteTime": {
     "end_time": "2022-10-14T15:44:55.091442Z",
     "start_time": "2022-10-14T15:44:55.051552Z"
    }
   },
   "outputs": [],
   "source": [
    "def funcao_sim_coseno(a,b):\n",
    "    valor_coseno = (numpy.dot(a, b))/(numpy.linalg.norm(a)* numpy.linalg.norm(b))\n",
    "    if valor_coseno  is None:\n",
    "        return 0\n",
    "    else:\n",
    "        return valor_coseno"
   ]
  },
  {
   "cell_type": "code",
   "execution_count": 18,
   "metadata": {
    "ExecuteTime": {
     "end_time": "2022-10-14T15:44:55.123357Z",
     "start_time": "2022-10-14T15:44:55.094436Z"
    }
   },
   "outputs": [],
   "source": [
    "frases_abstract   = abstract.split('.')\n",
    "palavras_abstract = funcao_frase_palavra(abstract)\n",
    "palavras_abstract = remove_values_from_list(palavras_abstract, [''])\n",
    "vetor_abstract    = vetor_frases(palavras_abstract)"
   ]
  },
  {
   "cell_type": "code",
   "execution_count": 19,
   "metadata": {
    "ExecuteTime": {
     "end_time": "2022-10-14T15:44:55.155272Z",
     "start_time": "2022-10-14T15:44:55.126350Z"
    }
   },
   "outputs": [],
   "source": [
    "frases_intro   = intro.split('.')\n",
    "palavras_intro = funcao_frase_palavra(intro)\n",
    "palavras_intro = remove_values_from_list(palavras_intro, [''])\n",
    "vetor_intro    = vetor_frases(palavras_intro)"
   ]
  },
  {
   "cell_type": "code",
   "execution_count": 20,
   "metadata": {
    "ExecuteTime": {
     "end_time": "2022-10-14T15:44:55.186190Z",
     "start_time": "2022-10-14T15:44:55.158266Z"
    }
   },
   "outputs": [],
   "source": [
    "frases_conclusion   = conclusion.split('.')\n",
    "palavras_conclusion = funcao_frase_palavra(conclusion)\n",
    "palavras_conclusion = remove_values_from_list(palavras_conclusion, [''])\n",
    "vetor_conclusion    = vetor_frases(palavras_conclusion)"
   ]
  },
  {
   "cell_type": "code",
   "execution_count": 21,
   "metadata": {
    "ExecuteTime": {
     "end_time": "2022-10-14T15:44:55.217106Z",
     "start_time": "2022-10-14T15:44:55.189184Z"
    }
   },
   "outputs": [],
   "source": [
    "def funcao_sim_coseno(a,b):\n",
    "    if ((numpy.linalg.norm(a)==0) |(numpy.linalg.norm(b)==0)):\n",
    "        return 0\n",
    "    else:\n",
    "        valor_coseno = (numpy.dot(a, b))/(numpy.linalg.norm(a)* numpy.linalg.norm(b))\n",
    "        return valor_coseno"
   ]
  },
  {
   "cell_type": "code",
   "execution_count": 22,
   "metadata": {
    "ExecuteTime": {
     "end_time": "2022-10-14T15:44:55.451907Z",
     "start_time": "2022-10-14T15:44:55.221097Z"
    }
   },
   "outputs": [],
   "source": [
    "def dicionario_similaridade(vetor_a,vetor_b):\n",
    "    \"\"\"Input: vetor correspondente às frases das seções a e b\n",
    "    Output: \n",
    "    \"\"\"\n",
    "    dicionario={}\n",
    "    for i in range(len(vetor_intro)):\n",
    "        for j in range(len(vetor_abstract)):\n",
    "            dicionario[i,j]= funcao_sim_coseno(vetor_intro[i],vetor_abstract[j])"
   ]
  },
  {
   "cell_type": "code",
   "execution_count": 23,
   "metadata": {
    "ExecuteTime": {
     "end_time": "2022-10-14T15:44:55.483831Z",
     "start_time": "2022-10-14T15:44:55.466874Z"
    }
   },
   "outputs": [
    {
     "data": {
      "text/plain": [
       "['inter-sentence',\n",
       " 'similarity',\n",
       " 'is',\n",
       " 'replaced',\n",
       " 'by',\n",
       " 'rank',\n",
       " 'in',\n",
       " 'the',\n",
       " 'local',\n",
       " 'context']"
      ]
     },
     "execution_count": 23,
     "metadata": {},
     "output_type": "execute_result"
    }
   ],
   "source": [
    "palavras_abstract[2]"
   ]
  },
  {
   "cell_type": "code",
   "execution_count": 24,
   "metadata": {
    "ExecuteTime": {
     "end_time": "2022-10-14T15:44:55.530704Z",
     "start_time": "2022-10-14T15:44:55.489813Z"
    }
   },
   "outputs": [
    {
     "data": {
      "text/plain": [
       "['',\n",
       " 'in',\n",
       " 'non-parametric',\n",
       " 'statistical',\n",
       " 'analysis',\n",
       " 'one',\n",
       " 'compares',\n",
       " 'the',\n",
       " 'rank',\n",
       " 'of',\n",
       " 'data',\n",
       " 'sets',\n",
       " 'when',\n",
       " 'the',\n",
       " 'qualitative',\n",
       " 'behaviour',\n",
       " 'is',\n",
       " 'similar',\n",
       " 'but',\n",
       " 'the',\n",
       " 'absolute',\n",
       " 'quantities',\n",
       " 'are',\n",
       " 'unreliable']"
      ]
     },
     "execution_count": 24,
     "metadata": {},
     "output_type": "execute_result"
    }
   ],
   "source": [
    "palavras_intro[53]"
   ]
  },
  {
   "cell_type": "code",
   "execution_count": 25,
   "metadata": {
    "ExecuteTime": {
     "end_time": "2022-10-14T15:44:55.561623Z",
     "start_time": "2022-10-14T15:44:55.538681Z"
    }
   },
   "outputs": [
    {
     "data": {
      "text/plain": [
       "[(57, 2), (53, 2), (236, 2)]"
      ]
     },
     "execution_count": 25,
     "metadata": {},
     "output_type": "execute_result"
    }
   ],
   "source": [
    "top_3_indices = sorted(dicionario, key=dicionario.get, reverse=True)[:3]\n",
    "top_3_indices"
   ]
  },
  {
   "cell_type": "code",
   "execution_count": 26,
   "metadata": {
    "ExecuteTime": {
     "end_time": "2022-10-14T15:44:55.592541Z",
     "start_time": "2022-10-14T15:44:55.565611Z"
    }
   },
   "outputs": [
    {
     "name": "stdout",
     "output_type": "stream",
     "text": [
      "0.90256083\n",
      "0.7805617\n",
      "0.7568556\n"
     ]
    }
   ],
   "source": [
    "for i in top_3_indices:\n",
    "    print(dicionario[i])"
   ]
  },
  {
   "cell_type": "code",
   "execution_count": 27,
   "metadata": {
    "ExecuteTime": {
     "end_time": "2022-10-14T15:44:55.623456Z",
     "start_time": "2022-10-14T15:44:55.596527Z"
    }
   },
   "outputs": [],
   "source": [
    "x=[]\n",
    "for i in range(len(top_3_indices)):\n",
    "    x.append(top_3_indices[i][1])\n",
    "indice_abstract = list(set(x))"
   ]
  },
  {
   "cell_type": "code",
   "execution_count": 28,
   "metadata": {
    "ExecuteTime": {
     "end_time": "2022-10-14T15:44:55.654372Z",
     "start_time": "2022-10-14T15:44:55.626449Z"
    }
   },
   "outputs": [
    {
     "data": {
      "text/plain": [
       "[2]"
      ]
     },
     "execution_count": 28,
     "metadata": {},
     "output_type": "execute_result"
    }
   ],
   "source": [
    "indice_abstract"
   ]
  },
  {
   "cell_type": "code",
   "execution_count": 29,
   "metadata": {
    "ExecuteTime": {
     "end_time": "2022-10-14T15:44:55.702354Z",
     "start_time": "2022-10-14T15:44:55.657365Z"
    }
   },
   "outputs": [
    {
     "data": {
      "text/plain": [
       "[array([-0.00962645,  0.0800505 ,  0.0064885 ,  0.0375478 , -0.0078932 ,\n",
       "        -0.02742364,  0.05144411,  0.06793626,  0.01115427, -0.0383215 ,\n",
       "         0.05324918, -0.08750988, -0.01239434,  0.03722005,  0.01039016,\n",
       "        -0.00709946,  0.04263488, -0.03031727, -0.06685444, -0.09578289,\n",
       "         0.06093921,  0.00414337,  0.07533089, -0.0430535 ,  0.01515903,\n",
       "        -0.00712454, -0.00790566, -0.03220507,  0.00206772, -0.04983199,\n",
       "         0.03273975,  0.05258805, -0.02769218, -0.02750591, -0.00363311,\n",
       "         0.08689385,  0.04387812, -0.03550651, -0.02793904, -0.0009504 ,\n",
       "         0.01492737,  0.01752939, -0.04179391,  0.00945677,  0.04516114,\n",
       "         0.01479203,  0.01131102,  0.00339035,  0.00292603,  0.00783648,\n",
       "        -0.01358944, -0.04866775, -0.03895125,  0.00599318,  0.00151136,\n",
       "         0.01479341,  0.0473487 , -0.00889287, -0.0270948 ,  0.00736185,\n",
       "         0.02712566, -0.0181335 ,  0.04093422, -0.04522073, -0.02281453,\n",
       "         0.07284584, -0.01199423,  0.05047654, -0.06271337, -0.00186089,\n",
       "        -0.0444721 ,  0.02507073,  0.00552138, -0.02145605,  0.05738008,\n",
       "        -0.0577543 , -0.00433222, -0.01131342, -0.05129566, -0.04612209,\n",
       "        -0.05783138,  0.00414513,  0.00954264,  0.04887789, -0.01319263,\n",
       "         0.00949173,  0.03624953,  0.00591382,  0.0189176 , -0.00598037,\n",
       "         0.01800632, -0.04409309,  0.0177861 , -0.01481679,  0.07797229,\n",
       "         0.0298207 ,  0.04680118, -0.02718254,  0.03373031,  0.04730097],\n",
       "       dtype=float32)]"
      ]
     },
     "execution_count": 29,
     "metadata": {},
     "output_type": "execute_result"
    }
   ],
   "source": [
    "vetor_frases_objetivo_1=[]\n",
    "for i in range(len(indice_abstract)):\n",
    "    vetor_frases_objetivo_1.append(vetor_intro[indice_abstract[i]])\n",
    "vetor_frases_objetivo_1"
   ]
  },
  {
   "cell_type": "code",
   "execution_count": null,
   "metadata": {},
   "outputs": [],
   "source": []
  },
  {
   "cell_type": "code",
   "execution_count": null,
   "metadata": {},
   "outputs": [],
   "source": []
  }
 ],
 "metadata": {
  "hide_input": false,
  "kernelspec": {
   "display_name": "Python 3",
   "language": "python",
   "name": "python3"
  },
  "language_info": {
   "codemirror_mode": {
    "name": "ipython",
    "version": 3
   },
   "file_extension": ".py",
   "mimetype": "text/x-python",
   "name": "python",
   "nbconvert_exporter": "python",
   "pygments_lexer": "ipython3",
   "version": "3.8.5"
  },
  "toc": {
   "base_numbering": 1,
   "nav_menu": {},
   "number_sections": true,
   "sideBar": true,
   "skip_h1_title": false,
   "title_cell": "Table of Contents",
   "title_sidebar": "Contents",
   "toc_cell": false,
   "toc_position": {},
   "toc_section_display": true,
   "toc_window_display": false
  },
  "varInspector": {
   "cols": {
    "lenName": 16,
    "lenType": 16,
    "lenVar": 40
   },
   "kernels_config": {
    "python": {
     "delete_cmd_postfix": "",
     "delete_cmd_prefix": "del ",
     "library": "var_list.py",
     "varRefreshCmd": "print(var_dic_list())"
    },
    "r": {
     "delete_cmd_postfix": ") ",
     "delete_cmd_prefix": "rm(",
     "library": "var_list.r",
     "varRefreshCmd": "cat(var_dic_list()) "
    }
   },
   "types_to_exclude": [
    "module",
    "function",
    "builtin_function_or_method",
    "instance",
    "_Feature"
   ],
   "window_display": false
  }
 },
 "nbformat": 4,
 "nbformat_minor": 4
}
