{
 "cells": [
  {
   "cell_type": "code",
   "execution_count": 1,
   "metadata": {
    "ExecuteTime": {
     "end_time": "2022-10-14T21:41:39.609684Z",
     "start_time": "2022-10-14T21:41:36.309166Z"
    }
   },
   "outputs": [],
   "source": [
    "import pandas as pd\n",
    "import re\n",
    "import os\n",
    "import collections\n",
    "import nltk\n",
    "import urllib\n",
    "import bs4 as bs\n",
    "import re\n",
    "from gensim.models import Word2Vec\n",
    "from nltk.corpus import stopwords\n",
    "import numpy\n",
    "\n",
    "from numpy import dot\n",
    "from numpy.linalg import norm"
   ]
  },
  {
   "cell_type": "code",
   "execution_count": 2,
   "metadata": {
    "ExecuteTime": {
     "end_time": "2022-10-14T21:41:39.641650Z",
     "start_time": "2022-10-14T21:41:39.611730Z"
    }
   },
   "outputs": [],
   "source": [
    "list_of_files = os.listdir('../top1000_complete')"
   ]
  },
  {
   "cell_type": "code",
   "execution_count": 3,
   "metadata": {
    "ExecuteTime": {
     "end_time": "2022-10-14T21:41:40.222110Z",
     "start_time": "2022-10-14T21:41:39.650624Z"
    }
   },
   "outputs": [],
   "source": [
    "#Leitura dos artigos\n",
    "list_of_files2= []\n",
    "for i in list_of_files:\n",
    "    nome = '../top1000_complete/' + i + '/' + 'Documents_xml/' +os.listdir(f'../top1000_complete/{i}/Documents_xml')[0]\n",
    "    list_of_files2.append(nome)\n",
    "    \n",
    "    \n",
    "lines = []\n",
    "for file in list_of_files2:\n",
    "    f= open(file,'r')\n",
    "    lines.append(f.readlines())\n",
    "    f.close()"
   ]
  },
  {
   "cell_type": "code",
   "execution_count": 4,
   "metadata": {
    "ExecuteTime": {
     "end_time": "2022-10-14T21:41:40.519649Z",
     "start_time": "2022-10-14T21:41:40.225089Z"
    }
   },
   "outputs": [],
   "source": [
    "#Leitura do padrão ouro\n",
    "list_of_files3= []\n",
    "for i in list_of_files:\n",
    "    nome = '../top1000_complete/' + i + '/' + 'summary/' +os.listdir(f'../top1000_complete/{i}/summary')[0]\n",
    "    list_of_files3.append(nome)\n",
    "    \n",
    "    \n",
    "lines3 = []\n",
    "for file in list_of_files3:\n",
    "    f= open(file,'r',encoding='utf-8')\n",
    "    lines3.append(f.readlines())\n",
    "    f.close()"
   ]
  },
  {
   "cell_type": "code",
   "execution_count": 5,
   "metadata": {
    "ExecuteTime": {
     "end_time": "2022-10-14T21:41:40.534608Z",
     "start_time": "2022-10-14T21:41:40.523635Z"
    }
   },
   "outputs": [],
   "source": [
    "paper1= lines[4]"
   ]
  },
  {
   "cell_type": "code",
   "execution_count": 6,
   "metadata": {
    "ExecuteTime": {
     "end_time": "2022-10-14T21:41:40.582495Z",
     "start_time": "2022-10-14T21:41:40.537598Z"
    }
   },
   "outputs": [
    {
     "data": {
      "text/plain": [
       "['<PAPER>\\n',\n",
       " '  <S sid=\"0\">A Maximum-Entropy-Inspired Parser</S>\\n',\n",
       " '  <ABSTRACT>\\n',\n",
       " '    <S sid=\"1\" ssid=\"1\">We present a new parser for parsing down to Penn tree-bank style parse trees that achieves 90.1% average precision/recall for sentences of 40 and less, and for of length 100 and less when trained and tested on the previously established [5,9,10,15,17] &amp;quot;standard&amp;quot; sections of the Wall Street Journal treebank.</S>\\n',\n",
       " '    <S sid=\"2\" ssid=\"2\">This represents a 13% decrease in error rate over the best single-parser results on this corpus [9].</S>\\n',\n",
       " '    <S sid=\"3\" ssid=\"3\">The major technical innovation is the use of a &amp;quot;maximum-entropy-inspired&amp;quot; model for conditioning and smoothing that let us successfully to test and combine many different conditioning events.</S>\\n',\n",
       " '    <S sid=\"4\" ssid=\"4\">We also present some partial results showing the effects of different conditioning information, including a surprising 2% improvement due to guessing the lexical head\\'s pre-terminal before guessing the lexical head.</S>\\n',\n",
       " '  </ABSTRACT>\\n',\n",
       " '  <SECTION title=\"1 Introduction\" number=\"1\">\\n',\n",
       " '    <S sid=\"5\" ssid=\"1\">We present a new parser for parsing down to Penn tree-bank style parse trees [16] that achieves 90.1% average precision/recall for sentences of length &lt; 40, and 89.5% for sentences of length &lt; 100, when trained and tested on the previously established [5,9,10,15,17] &amp;quot;standard&amp;quot; sections of the Wall Street Journal tree-bank.</S>\\n',\n",
       " '    <S sid=\"6\" ssid=\"2\">This represents a 13% decrease in error rate over the best single-parser results on this corpus [9].</S>\\n',\n",
       " '    <S sid=\"7\" ssid=\"3\">Following [5,10], our parser is based upon a probabilistic generative model.</S>\\n',\n",
       " '    <S sid=\"8\" ssid=\"4\">That is, for all sentences s and all parses 7r, the parser assigns a probability p(s , 7r) = p(r), the equality holding when we restrict consideration to 7r whose yield * This research was supported in part by NSF grant LIS SBR 9720368.</S>\\n',\n",
       " '    <S sid=\"9\" ssid=\"5\">The author would like to thank Mark Johnson and all the rest of the Brown Laboratory for Linguistic Information Processing. is s. Then for any s the parser returns the parse ir that maximizes this probability.</S>\\n',\n",
       " '    <S sid=\"10\" ssid=\"6\">That is, the parser implements the function arg maxrp(7r s) = arg maxirp(7r, s) = arg maxrp(w).</S>\\n',\n",
       " '    <S sid=\"11\" ssid=\"7\">What fundamentally distinguishes probabilistic generative parsers is how they compute p(r), and it is to that topic we turn next.</S>\\n',\n",
       " '  </SECTION>\\n',\n",
       " '  <SECTION title=\"2 The Generative Model\" number=\"2\">\\n',\n",
       " '    <S sid=\"12\" ssid=\"1\">The model assigns a probability to a parse by a top-down process of considering each constituent c in Ir and for each c first guessing the pre-terminal of c, t(c) (t for &amp;quot;tag&amp;quot;), then the lexical head of c, h(c), and then the expansion of c into further constituents e(c).</S>\\n',\n",
       " '    <S sid=\"13\" ssid=\"2\">Thus the probability of a parse is given by the equation where 1(c) is the label of c (e.g., whether it is a noun phrase (np), verb-phrase, etc.) and H (c) is the relevant history of c &#8212; information outside c that our probability model deems important in determining the probability in question.</S>\\n',\n",
       " '    <S sid=\"14\" ssid=\"3\">Much of the interesting work is determining what goes into H (c).</S>\\n',\n",
       " '    <S sid=\"15\" ssid=\"4\">Whenever it is clear to which constituent we are referring we omit the (c) in, e.g., h(c).</S>\\n',\n",
       " '    <S sid=\"16\" ssid=\"5\">In this notation the above equation takes the following form: Next we describe how we assign a probability to the expansion e of a constituent.</S>\\n',\n",
       " '    <S sid=\"17\" ssid=\"6\">In Section 5 we present some results in which the possible expansions of a constituent are fixed in advanced by extracting a tree-bank grammar [3] from the training corpus.</S>\\n',\n",
       " '    <S sid=\"18\" ssid=\"7\">The method that gives the best results, however, uses a Markov grammar &#8212; a method for assigning probabilities to any possible expansion using statistics gathered from the training corpus [6,10,15].</S>\\n',\n",
       " '    <S sid=\"19\" ssid=\"8\">The method we use follows that of [10].</S>\\n',\n",
       " '    <S sid=\"20\" ssid=\"9\">In this scheme a traditional probabilistic context-free grammar (PCFG) rule can be thought of as consisting of a left-hand side with a label 1(c) drawn from the non-terminal symbols of our grammar, and a right-hand side that is a sequence of one or more such symbols.</S>\\n',\n",
       " '    <S sid=\"21\" ssid=\"10\">(We assume that all terminal symbols are generated by rules of the form &amp;quot;preterm word&amp;quot; and we treat these as a special case.)</S>\\n',\n",
       " '    <S sid=\"22\" ssid=\"11\">For us the non-terminal symbols are those of the tree-bank, augmented by the symbols aux and auxg, which have been assigned deterministically to certain auxiliary verbs such as &amp;quot;have&amp;quot; or &amp;quot;having&amp;quot;.</S>\\n',\n",
       " '    <S sid=\"23\" ssid=\"12\">For each expansion we distinguish one of the right-hand side labels as the &amp;quot;middle&amp;quot; or &amp;quot;head&amp;quot; symbol M(c).</S>\\n',\n",
       " '    <S sid=\"24\" ssid=\"13\">M(c) is the constituent from which the head lexical item h is obtained according to deterministic rules that pick the head of a constituent from among the heads of its children.</S>\\n',\n",
       " '    <S sid=\"25\" ssid=\"14\">To the left of M is a sequence of one or more left labels Li (c) including the special termination symbol A, which indicates that there are no more symbols to the left, and similarly for the labels to the right, Ri(c).</S>\\n',\n",
       " '    <S sid=\"26\" ssid=\"15\">Thus an expansion e(c) looks like: The expansion is generated by guessing first M, then in order L1 through L,&#8222;.+1 (= A), and similarly for RI through In a pure Markov PCFG we are given the left-hand side label 1 and then probabilistically generate the right-hand side conditioning on no information other than 1 and (possibly) previously generated pieces of the right-hand side itself.</S>\\n',\n",
       " '    <S sid=\"27\" ssid=\"16\">In the simplest of such models, a zeroorder Markov grammar, each label on the righthand side is generated conditioned only on / &#8212; that is, according to the distributions p(Li j1), p(M I 1), and p(Ri I 1).</S>\\n',\n",
       " '    <S sid=\"28\" ssid=\"17\">More generally, one can condition on the m previously generated labels, thereby obtaining an mth-order Markov grammar.</S>\\n',\n",
       " '    <S sid=\"29\" ssid=\"18\">So, for example, in a second-order Markov PCFG, L2 would be conditioned on L1 and M. In our complete model, of course, the probability of each label in the expansions is also conditioned on other material as specified in Equation 1, e.g., p(e t, h, H).</S>\\n',\n",
       " '    <S sid=\"30\" ssid=\"19\">Thus we would use p(L2 I L1, M, 1, t, h, H).</S>\\n',\n",
       " '    <S sid=\"31\" ssid=\"20\">Note that the As on both ends of the expansion in Expression 2 are conditioned just like any other label in the expansion.</S>\\n',\n",
       " '  </SECTION>\\n',\n",
       " '  <SECTION title=\"3 Maximum-Entropy-Inspired Parsing\" number=\"3\">\\n',\n",
       " '    <S sid=\"32\" ssid=\"1\">The major problem confronting the author of a generative parser is what information to use to condition the probabilities required in the model, and how to smooth the empirically obtained probabilities to take the sting out of the sparse data problems that are inevitable with even the most modest conditioning.</S>\\n',\n",
       " '    <S sid=\"33\" ssid=\"2\">For example, in a second-order Markov grammar we conditioned the L2 label according to the distribution p(L2 I L1, M,1, t, h, H).</S>\\n',\n",
       " '    <S sid=\"34\" ssid=\"3\">Also, remember that H is a pla,ceholder for any other information beyond the constituent c that may be useful in assigning c a probability.</S>\\n',\n",
       " '    <S sid=\"35\" ssid=\"4\">In the past few years the maximum entropy, or log-linear, approach has recommended itself to probabilistic model builders for its flexibility and its novel approach to smoothing [1,17].</S>\\n',\n",
       " '    <S sid=\"36\" ssid=\"5\">A complete review of log-linear models is beyond the scope of this paper.</S>\\n',\n",
       " '    <S sid=\"37\" ssid=\"6\">Rather, we concentrate on the aspects of these models that most directly influenced the model presented here.</S>\\n',\n",
       " '    <S sid=\"38\" ssid=\"7\">To compute a probability in a log-linear model one first defines a set of &amp;quot;features&amp;quot;, functions from the space of configurations over which one is trying to compute probabilities to integers that denote the number of times some pattern occurs in the input.</S>\\n',\n",
       " '    <S sid=\"39\" ssid=\"8\">In our work we assume that any feature can occur at most once, so features are boolean-valued: 0 if the pattern does not occur, 1 if it does.</S>\\n',\n",
       " '    <S sid=\"40\" ssid=\"9\">In the parser we further assume that features are chosen from certain feature schemata and that every feature is a boolean conjunction of sub-features.</S>\\n',\n",
       " '    <S sid=\"41\" ssid=\"10\">For example, in computing the probability of the head\\'s pre-terminal t we might want a feature schema f (t, 1) that returns 1 if the observed pre-terminal of c = t and the label of c = 1, and zero otherwise.</S>\\n',\n",
       " '    <S sid=\"42\" ssid=\"11\">This feature is obviously composed of two sub-features, one recognizing t, the other 1.</S>\\n',\n",
       " '    <S sid=\"43\" ssid=\"12\">If both return 1, then the feature returns 1.</S>\\n',\n",
       " '    <S sid=\"44\" ssid=\"13\">Now consider computing a conditional probability p(a H) with a set of features h that connect a to the history H. In a log-linear model the probability function takes the following form: Here the Ai are weights between negative and positive infinity that indicate the relative importance of a feature: the more relevant the feature to the value of the probability, the higher the absolute value of the associated A.</S>\\n',\n",
       " '    <S sid=\"45\" ssid=\"14\">The function Z(H), called the partition function, is a normalizing constant (for fixed H), so the probabilities over all a sum to one.</S>\\n',\n",
       " '    <S sid=\"46\" ssid=\"15\">Now for our purposes it is useful to rewrite this as a sequence of multiplicative functions gi(a, H) for 0 &lt; i &lt; j: Here go(a, H) = 11Z (H) and gi(a, H) = eAi(a,H) fi(&#176;,11).</S>\\n',\n",
       " '    <S sid=\"47\" ssid=\"16\">The intuitive idea is that each factor gi is larger than one if the feature in question makes the probability more likely, one if the feature has no effect, and smaller than one if it makes the probability less likely.</S>\\n',\n",
       " '    <S sid=\"48\" ssid=\"17\">Maximum-entropy models have two benefits for a parser builder.</S>\\n',\n",
       " '    <S sid=\"49\" ssid=\"18\">First, as already implicit in our discussion, factoring the probability computation into a sequence of values corresponding to various &amp;quot;features&amp;quot; suggests that the probability model should be easily changeable &#8212; just change the set of features used.</S>\\n',\n",
       " '    <S sid=\"50\" ssid=\"19\">This point is emphasized by Ratnaparkhi in discussing his parser [17).</S>\\n',\n",
       " '    <S sid=\"51\" ssid=\"20\">Second, and this is a point we have not yet mentioned, the features used in these models need have no particular independence of one another.</S>\\n',\n",
       " '    <S sid=\"52\" ssid=\"21\">This is useful if one is using a loglinear model for smoothing.</S>\\n',\n",
       " '    <S sid=\"53\" ssid=\"22\">That is, suppose we want to compute a conditional probability p(a b, c), but we are not sure that we have enough examples of the conditioning event b, c in the training corpus to ensure that the empirically obtained probability P (a I b, c) is accurate.</S>\\n',\n",
       " '    <S sid=\"54\" ssid=\"23\">The traditional way to handle this is also to compute P(a b), and perhaps P(a c) as well, and take some combination of these values as one\\'s best estimate for p(a I b, c).</S>\\n',\n",
       " '    <S sid=\"55\" ssid=\"24\">This method is known as &amp;quot;deleted interpolation&amp;quot; smoothing.</S>\\n',\n",
       " '    <S sid=\"56\" ssid=\"25\">In max-entropy models one can simply include features for all three events f1 (a, b, c), f2 (a, b), and f3(a, c) and combine them in the model according to Equation 3, or equivalently, Equation 4.</S>\\n',\n",
       " '    <S sid=\"57\" ssid=\"26\">The fact that the features are very far from independent is not a concern.</S>\\n',\n",
       " '    <S sid=\"58\" ssid=\"27\">Now let us note that we can get an equation of exactly the same form as Equation 4 in the following fashion: Note that the first term of the equation gives a probability based upon little conditioning information and that each subsequent term is a number from zero to positive infinity that is greater or smaller than one if the new information being considered makes the probability greater or smaller than the previous estimate.</S>\\n',\n",
       " '    <S sid=\"59\" ssid=\"28\">As it stands, this last equation is pretty much content-free.</S>\\n',\n",
       " '    <S sid=\"60\" ssid=\"29\">But let us look at how it works for a particular case in our parsing scheme.</S>\\n',\n",
       " '    <S sid=\"61\" ssid=\"30\">Consider the probability distribution for choosing the pre-terminal for the head of a constituent.</S>\\n',\n",
       " '    <S sid=\"62\" ssid=\"31\">In Equation 1 we wrote this as p(t I 1, H).</S>\\n',\n",
       " '    <S sid=\"63\" ssid=\"32\">As we discuss in more detail in Section 5, several different features in the context surrounding c are useful to include in H: the label, head pre-terminal and head of the parent of c (denoted as lp, tp, hp), the label of c\\'s left sibling (lb for &amp;quot;before&amp;quot;), and the label of the grandparent of c (la).</S>\\n',\n",
       " '    <S sid=\"64\" ssid=\"33\">That is, we wish to compute p(t 1, lp, tp, lb, lg, hp).</S>\\n',\n",
       " '    <S sid=\"65\" ssid=\"34\">We can now rewrite this in the form of Equation 5 as follows: Here we have sequentially conditioned on steadily increasing portions of c\\'s history.</S>\\n',\n",
       " '    <S sid=\"66\" ssid=\"35\">In many cases this is clearly warranted.</S>\\n',\n",
       " '    <S sid=\"67\" ssid=\"36\">For example, it does not seem to make much sense to condition on, say, hp without first conditioning on ti,.</S>\\n',\n",
       " '    <S sid=\"68\" ssid=\"37\">In other cases, however, we seem to be conditioning on apples and oranges, so to speak.</S>\\n',\n",
       " '    <S sid=\"69\" ssid=\"38\">For example, one can well imagine that one might want to condition on the parent\\'s lexical head without conditioning on the left sibling, or the grandparent label.</S>\\n',\n",
       " '    <S sid=\"70\" ssid=\"39\">One way to do this is to modify the simple version shown in Equation 6 to allow this: Note the changes to the last three terms in Equation 7.</S>\\n',\n",
       " '    <S sid=\"71\" ssid=\"40\">Rather than conditioning each term on the previous ones, they are now conditioned only on those aspects of the history that seem most relevant.</S>\\n',\n",
       " '    <S sid=\"72\" ssid=\"41\">The hope is that by doing this we will have less difficulty with the splitting of conditioning events, and thus somewhat less difficulty with sparse data.</S>\\n',\n",
       " '    <S sid=\"73\" ssid=\"42\">We make one more point on the connection of Equation 7 to a maximum entropy formulation.</S>\\n',\n",
       " '    <S sid=\"74\" ssid=\"43\">Suppose we were, in fact, going to compute a true maximum entropy model based upon the features used in Equation 7, Ii (t,1), f2(t,1,1p), f3(t,1,lp) .</S>\\n',\n",
       " '    <S sid=\"75\" ssid=\"44\">...</S>\\n',\n",
       " '    <S sid=\"76\" ssid=\"45\">This requires finding the appropriate Ais for Equation 3, which is accomplished using an algorithm such as iterative scaling [II] in which values for the Ai are initially &amp;quot;guessed&amp;quot; and then modified until they converge on stable values.</S>\\n',\n",
       " '    <S sid=\"77\" ssid=\"46\">With no prior knowledge of values for the Ai one traditionally starts with Ai = 0, this being a neutral assumption that the feature has neither a positive nor negative impact on the probability in question.</S>\\n',\n",
       " '    <S sid=\"78\" ssid=\"47\">With some prior knowledge, non-zero values can greatly speed up this process because fewer iterations are required for convergence.</S>\\n',\n",
       " '    <S sid=\"79\" ssid=\"48\">We comment on this because in our example we can substantially speed up the process by choosing values picked so that, when the maximum-entropy equation is expressed in the form of Equation 4, the gi have as their initial values the values of the corresponding terms in Equation 7.</S>\\n',\n",
       " '    <S sid=\"80\" ssid=\"49\">(Our experience is that rather than requiring 50 or so iterations, three suffice.)</S>\\n',\n",
       " '    <S sid=\"81\" ssid=\"50\">Now we observe that if we were to use a maximum-entropy approach but run iterative scaling zero times, we would, in fact, just have Equation 7.</S>\\n',\n",
       " '    <S sid=\"82\" ssid=\"51\">The major advantage of using Equation 7 is that one can generally get away without computing the partition function Z(H).</S>\\n',\n",
       " '    <S sid=\"83\" ssid=\"52\">In the simple (content-free) form (Equation 6), it is clear that Z(H) = 1.</S>\\n',\n",
       " '    <S sid=\"84\" ssid=\"53\">In the more interesting version, Equation 7, this is not true in general, but one would not expect it to differ much from one, and we assume that as long as we are not publishing the raw probabilities (as we would be doing, for example, in publishing perplexity results) the difference from one should be unimportant.</S>\\n',\n",
       " '    <S sid=\"85\" ssid=\"54\">As partition-function calculation is typically the major on-line computational problem for maximum-entropy models, this simplifies the model significantly.</S>\\n',\n",
       " '    <S sid=\"86\" ssid=\"55\">Naturally, the distributions required by Equation 7 cannot be used without smoothing.</S>\\n',\n",
       " '    <S sid=\"87\" ssid=\"56\">In a pure maximum-entropy model this is done by feature selection, as in Ratnaparkhi\\'s maximum-entropy parser [17].</S>\\n',\n",
       " '    <S sid=\"88\" ssid=\"57\">While we could have smoothed in the same fashion, we choose instead to use standard deleted interpolation.</S>\\n',\n",
       " '    <S sid=\"89\" ssid=\"58\">(Actually, we use a minor variant described in [4].)</S>\\n',\n",
       " '  </SECTION>\\n',\n",
       " '  <SECTION title=\"4 The Experiment\" number=\"4\">\\n',\n",
       " '    <S sid=\"90\" ssid=\"1\">We created a parser based upon the maximumentropy-inspired model of the last section, smoothed using standard deleted interpolation.</S>\\n',\n",
       " '    <S sid=\"91\" ssid=\"2\">As the generative model is top-down and we use a standard bottom-up best-first probabilistic chart parser [2,7], we use the chart parser as a first pass to generate candidate possible parses to be evaluated in the second pass by our probabilistic model.</S>\\n',\n",
       " '    <S sid=\"92\" ssid=\"3\">For runs with the generative model based upon Markov grammar statistics, the first pass uses the same statistics, but conditioned only on standard PCFG information.</S>\\n',\n",
       " '    <S sid=\"93\" ssid=\"4\">This allows the second pass to see expansions not present in the training corpus.</S>\\n',\n",
       " '    <S sid=\"94\" ssid=\"5\">We use the gathered statistics for all observed words, even those with very low counts, though obviously our deleted interpolation smoothing gives less emphasis to observed probabilities for rare words.</S>\\n',\n",
       " '    <S sid=\"95\" ssid=\"6\">We guess the preterminals of words that are not observed in the training data using statistics on capitalization, hyphenation, word endings (the last two letters), and the probability that a given pre-terminal is realized using a previously unobserved word.</S>\\n',\n",
       " '    <S sid=\"96\" ssid=\"7\">As noted above, the probability model uses five smoothed probability distributions, one each for Li, M,Ri,t, and h. The equation for the (unsmoothed) conditional probability distribution for t is given in Equation 7.</S>\\n',\n",
       " '    <S sid=\"97\" ssid=\"8\">The other four equations can be found in a longer version of this paper available on the author\\'s website (www.cs.brown.eduhiec).</S>\\n',\n",
       " '    <S sid=\"98\" ssid=\"9\">L and R are conditioned on three previous labels so we are using a third-order Markov grammar.</S>\\n',\n",
       " '    <S sid=\"99\" ssid=\"10\">Also, the label of the parent constituent lp is conditioned upon even when it is not obviously related to the further conditioning events.</S>\\n',\n",
       " '    <S sid=\"100\" ssid=\"11\">This is due to the importance of this factor in parsing, as noted in, e.g., [14].</S>\\n',\n",
       " '    <S sid=\"101\" ssid=\"12\">In keeping with the standard methodology [5, 9,10,15,17], we used the Penn Wall Street Journal tree-bank [16] with sections 2-21 for training, section 23 for testing, and section 24 for development (debugging and tuning).</S>\\n',\n",
       " '    <S sid=\"102\" ssid=\"13\">Performance on the test corpus is measured using the standard measures from [5,9,10,17].</S>\\n',\n",
       " '    <S sid=\"103\" ssid=\"14\">In particular, we measure labeled precision (LP) and recall (LR), average number of crossbrackets per sentence (CB), percentage of sentences with zero cross brackets (OCB), and percentage of sentences with &lt; 2 cross brackets (2CB).</S>\\n',\n",
       " '    <S sid=\"104\" ssid=\"15\">Again as standard, we take separate measurements for all sentences of length &lt; 40 and all sentences of length &lt; 100.</S>\\n',\n",
       " '    <S sid=\"105\" ssid=\"16\">Note that the definitions of labeled precision and recall are those given in [9] and used in all of the previous work.</S>\\n',\n",
       " '    <S sid=\"106\" ssid=\"17\">As noted in [5], these definitions typically give results about 0.4% higher than the more obvious ones.</S>\\n',\n",
       " '    <S sid=\"107\" ssid=\"18\">The results for the new parser as well as for the previous top-three individual parsers on this corpus are given in Figure 1.</S>\\n',\n",
       " '    <S sid=\"108\" ssid=\"19\">As is typical, all of the standard measures tell pretty much the same story, with the new parser outperforming the other three parsers.</S>\\n',\n",
       " '    <S sid=\"109\" ssid=\"20\">Looking in particular at the precision and recall figures, the new parser\\'s give us a 13% error reduction over the best of the previous work, Co1199 [9].</S>\\n',\n",
       " '  </SECTION>\\n',\n",
       " '  <SECTION title=\"5 Discussion\" number=\"5\">\\n',\n",
       " '    <S sid=\"110\" ssid=\"1\">In the previous sections we have concentrated on the relation of the parser to a maximumentropy approach, the aspect of the parser that is most novel.</S>\\n',\n",
       " '    <S sid=\"111\" ssid=\"2\">However, we do not think this aspect is the sole or even the most important reason for its comparative success.</S>\\n',\n",
       " '    <S sid=\"112\" ssid=\"3\">Here we list what we believe to be the most significant contributions and give some experimental results on how well the program behaves without them.</S>\\n',\n",
       " '    <S sid=\"113\" ssid=\"4\">We take as our starting point the parser labled Char97 in Figure 1 [5], as that is the program from which our current parser derives.</S>\\n',\n",
       " '    <S sid=\"114\" ssid=\"5\">That parser, as stated in Figure 1, achieves an average precision/recall of 87.5.</S>\\n',\n",
       " '    <S sid=\"115\" ssid=\"6\">As noted in [5], that system is based upon a &amp;quot;tree-bank grammar&amp;quot; - a grammar read directly off the training corpus.</S>\\n',\n",
       " '    <S sid=\"116\" ssid=\"7\">This is as opposed to the &amp;quot;Markovgrammar&amp;quot; approach used in the current parser.</S>\\n',\n",
       " '    <S sid=\"117\" ssid=\"8\">Also, the earlier parser uses two techniques not employed in the current parser.</S>\\n',\n",
       " '    <S sid=\"118\" ssid=\"9\">First, it uses a clustering scheme on words to give the system a &amp;quot;soft&amp;quot; clustering of heads and sub-heads.</S>\\n',\n",
       " '    <S sid=\"119\" ssid=\"10\">(It is &amp;quot;soft&amp;quot; clustering in that a word can belong to more than one cluster with different weights - the weights express the probability of producing the word given that one is going to produce a word from that cluster.)</S>\\n',\n",
       " '    <S sid=\"120\" ssid=\"11\">Second, Char97 uses unsupervised learning in that the original system was run on about thirty million words of unparsed text, the output was taken as &amp;quot;correct&amp;quot;, and statistics were collected on the resulting parses.</S>\\n',\n",
       " '    <S sid=\"121\" ssid=\"12\">Without these enhancements Char97 performs at the 86.6% level for sentences of length &lt; 40.</S>\\n',\n",
       " '    <S sid=\"122\" ssid=\"13\">In this section we evaluate the effects of the various changes we have made by running various versions of our current program.</S>\\n',\n",
       " '    <S sid=\"123\" ssid=\"14\">To avoid repeated evaluations based upon the testing corpus, here our evaluation is based upon sentences of length &lt; 40 from the development corpus.</S>\\n',\n",
       " '    <S sid=\"124\" ssid=\"15\">We note here that this corpus is somewhat more difficult than the &amp;quot;official&amp;quot; test corpus.</S>\\n',\n",
       " '    <S sid=\"125\" ssid=\"16\">For example, the final version of our system achieves an average precision/recall of 90.1% on the test corpus but an average precision/recall of only 89.7% on the development corpus.</S>\\n',\n",
       " '    <S sid=\"126\" ssid=\"17\">This is indicated in Figure 2, where the model labeled &amp;quot;Best&amp;quot; has precision of 89.8% and recall of 89.6% for an average of 89.7%, 0.4% lower than the results on the official test corpus.</S>\\n',\n",
       " '    <S sid=\"127\" ssid=\"18\">This is in accord with our experience that developmentcorpus results are from 0.3% to 0.5% lower than those obtained on the test corpus.</S>\\n',\n",
       " '    <S sid=\"128\" ssid=\"19\">The model labeled &amp;quot;Old&amp;quot; attempts to recreate the Char97 system using the current program.</S>\\n',\n",
       " '    <S sid=\"129\" ssid=\"20\">It makes no use of special maximum-entropyinspired features (though their presence made it much easier to perform these experiments), it does not guess the pre-terminal before guessing the lexical head, and it uses a tree-bank grammar rather than a Markov grammar.</S>\\n',\n",
       " '    <S sid=\"130\" ssid=\"21\">This parser achieves an average precision/recall of 86.2%.</S>\\n',\n",
       " '    <S sid=\"131\" ssid=\"22\">This is consistent with the average precision/recall of 86.6% for [5] mentioned above, as the latter was on the test corpus and the former on the development corpus.</S>\\n',\n",
       " '    <S sid=\"132\" ssid=\"23\">Between the Old model and the Best model, Figure 2 gives precision/recall measurements for several different versions of our parser.</S>\\n',\n",
       " '    <S sid=\"133\" ssid=\"24\">One of the first and without doubt the most significant change we made in the current parser is to move from two stages of probabilistic decisions at each node to three.</S>\\n',\n",
       " '    <S sid=\"134\" ssid=\"25\">As already noted, Char97 first guesses the lexical head of a constituent and then, given the head, guesses the PCFG rule used to expand the constituent in question.</S>\\n',\n",
       " '    <S sid=\"135\" ssid=\"26\">In contrast, the current parser first guesses the head\\'s pre-terminal, then the head, and then the expansion.</S>\\n',\n",
       " '    <S sid=\"136\" ssid=\"27\">It turns out that usefulness of this process had already been discovered by Collins [10], who in turn notes (personal communication) that it was previously used by Eisner [12].</S>\\n',\n",
       " '    <S sid=\"137\" ssid=\"28\">However, Collins in [10] does not stress the decision to guess the head\\'s pre-terminal first, and it might be lost on the casual reader.</S>\\n',\n",
       " '    <S sid=\"138\" ssid=\"29\">Indeed, it was lost on the present author until he went back after the fact and found it there.</S>\\n',\n",
       " '    <S sid=\"139\" ssid=\"30\">In Figure 2 we show that this one factor improves performance by nearly 2%.</S>\\n',\n",
       " '    <S sid=\"140\" ssid=\"31\">It may not be obvious why this should make so great a difference, since most words are effectively unambiguous.</S>\\n',\n",
       " '    <S sid=\"141\" ssid=\"32\">(For example, part-ofspeech tagging using the most probable preterminal for each word is 90% accurate [8].)</S>\\n',\n",
       " '    <S sid=\"142\" ssid=\"33\">We believe that two factors contribute to this performance gain.</S>\\n',\n",
       " '    <S sid=\"143\" ssid=\"34\">The first is simply that if we first guess the pre-terminal, when we go to guess the head the first thing we can condition upon is the pre-terminal, i.e., we compute p(h I t).</S>\\n',\n",
       " '    <S sid=\"144\" ssid=\"35\">This quantity is a relatively intuitive one (as, for example, it is the quantity used in a PCFG to relate words to their pre-terminals) and it seems particularly good to condition upon here since we use it, in effect, as the unsmoothed probability upon which all smoothing of p(h) is based.</S>\\n',\n",
       " '    <S sid=\"145\" ssid=\"36\">This one &amp;quot;fix&amp;quot; makes slightly over a percent difference in the results.</S>\\n',\n",
       " '    <S sid=\"146\" ssid=\"37\">The second major reason why first guessing the pre-terminal makes so much difference is that it can be used when backing off the lexical head in computing the probability of the rule expansion.</S>\\n',\n",
       " '    <S sid=\"147\" ssid=\"38\">For example, when we first guess the lexical head we can move from computing p(r I 1,1p, h) to p(r I /, t, /p, h).</S>\\n',\n",
       " '    <S sid=\"148\" ssid=\"39\">So, e.g., even if the word &amp;quot;conflating&amp;quot; does not appear in the training corpus (and it does not), the &amp;quot;ng&amp;quot; ending allows our program to guess with relative security that the word has the vbg pre-terminal, and thus the probability of various rule expansions can be considerable sharpened.</S>\\n',\n",
       " '    <S sid=\"149\" ssid=\"40\">For example, the tree-bank PCFG probability of the rule &amp;quot;VP --+ vbg np&amp;quot; is 0.0145, whereas once we condition on the fact that the lexical head is a vbg we get a probability of 0.214.</S>\\n',\n",
       " '    <S sid=\"150\" ssid=\"41\">The second modification is the explicit marking of noun and verb-phrase coordination.</S>\\n',\n",
       " '    <S sid=\"151\" ssid=\"42\">We have already noted the importance of conditioning on the parent label /p.</S>\\n',\n",
       " '    <S sid=\"152\" ssid=\"43\">So, for example, information about an np is conditioned on the parent &#8212; e.g., an s, vp, pp, etc.</S>\\n',\n",
       " '    <S sid=\"153\" ssid=\"44\">Note that when an np is part of an np coordinate structure the parent will itself be an np, and similarly for a vp.</S>\\n',\n",
       " '    <S sid=\"154\" ssid=\"45\">But nps and vps can occur with np and vp parents in non-coordinate structures as well.</S>\\n',\n",
       " '    <S sid=\"155\" ssid=\"46\">For example, in the Penn Treebank a vp with both main and auxiliary verbs has the structure shown in Figure 3.</S>\\n',\n",
       " '    <S sid=\"156\" ssid=\"47\">Note that the subordinate vp has a vp parent.</S>\\n',\n",
       " '    <S sid=\"157\" ssid=\"48\">Thus np and vp parents of constituents are marked to indicate if the parents are a coordinate structure.</S>\\n',\n",
       " '    <S sid=\"158\" ssid=\"49\">A vp coordinate structure is defined here as a constituent with two or more vp children, one or more of the constituents comma, cc, conjp (conjunctive phrase), and nothing else; coordinate np phrases are defined similarly.</S>\\n',\n",
       " '    <S sid=\"159\" ssid=\"50\">Something very much like this is done in [15].</S>\\n',\n",
       " '    <S sid=\"160\" ssid=\"51\">As shown in Figure 2, conditioning on this information gives a 0.6% improvement.</S>\\n',\n",
       " '    <S sid=\"161\" ssid=\"52\">We believe that this is mostly due to improvements in guessing the sub-constituent\\'s pre-terminal and head.</S>\\n',\n",
       " '    <S sid=\"162\" ssid=\"53\">Given we are already at the 88% level of accuracy, we judge a 0.6% improvement to be very much worth while.</S>\\n',\n",
       " '    <S sid=\"163\" ssid=\"54\">Next we add the less obvious conditioning events noted in our previous discussion of the final model &#8212; grandparent label lg and left sibling label /b.</S>\\n',\n",
       " '    <S sid=\"164\" ssid=\"55\">When we do so using our maximum-entropy-inspired conditioning, we get another 0.45% improvement in average precision/recall, as indicated in Figure 2 on the line labeled &amp;quot;MaxEnt-Inspired\\'.</S>\\n',\n",
       " '    <S sid=\"165\" ssid=\"56\">Note that we also tried including this information using a standard deleted-interpolation model.</S>\\n',\n",
       " '    <S sid=\"166\" ssid=\"57\">The results here are shown in the line &amp;quot;Standard Interpolation&amp;quot;.</S>\\n',\n",
       " '    <S sid=\"167\" ssid=\"58\">Including this information within a standard deleted-interpolation model causes a 0.6% decrease from the results using the less conventional model.</S>\\n',\n",
       " '    <S sid=\"168\" ssid=\"59\">Indeed, the resulting performance is worse than not using this information at all.</S>\\n',\n",
       " '    <S sid=\"169\" ssid=\"60\">Up to this point all the models considered in this section are tree-bank grammar models.</S>\\n',\n",
       " '    <S sid=\"170\" ssid=\"61\">That is, the PCFG grammar rules are read directly off the training corpus.</S>\\n',\n",
       " '    <S sid=\"171\" ssid=\"62\">As already noted, our best model uses a Markov-grammar approach.</S>\\n',\n",
       " '    <S sid=\"172\" ssid=\"63\">As one can see in Figure 2, a firstorder Markov grammar (with all the aforementioned improvements) performs slightly worse than the equivalent tree-bank-grammar parser.</S>\\n',\n",
       " '    <S sid=\"173\" ssid=\"64\">However, a second-order grammar does slightly better and a third-order grammar does significantly better than the tree-bank parser.</S>\\n',\n",
       " '  </SECTION>\\n',\n",
       " '  <SECTION title=\"6 Conclusion\" number=\"6\">\\n',\n",
       " '    <S sid=\"174\" ssid=\"1\">We have presented a lexicalized Markov grammar parsing model that achieves (using the now standard training/testing/development sections of the Penn treebank) an average precision/recall of 91.1% on sentences of length &lt; 40 and 89.5% on sentences of length &lt; 100.</S>\\n',\n",
       " '    <S sid=\"175\" ssid=\"2\">This corresponds to an error reduction of 13% over the best previously published single parser results on this test set, those of Collins [9].</S>\\n',\n",
       " '    <S sid=\"176\" ssid=\"3\">That the previous three best parsers on this test [5,9,17] all perform within a percentage point of each other, despite quite different basic mechanisms, led some researchers to wonder if there might be some maximum level of parsing performance that could be obtained using the treebank for training, and to conjecture that perhaps we were at it.</S>\\n',\n",
       " '    <S sid=\"177\" ssid=\"4\">The results reported here disprove this conjecture.</S>\\n',\n",
       " '    <S sid=\"178\" ssid=\"5\">The results of [13] achieved by combining the aforementioned three-best parsers also suggest that the limit on tree-bank trained parsers is much higher than previously thought.</S>\\n',\n",
       " '    <S sid=\"179\" ssid=\"6\">Indeed, it may be that adding this new parser to the mix may yield still higher results.</S>\\n',\n",
       " '    <S sid=\"180\" ssid=\"7\">From our perspective, perhaps the two most important numbers to come out of this research are the overall error reduction of 13% over the results in [9] and the intermediateresult improvement of nearly 2% on labeled precision/recall due to the simple idea of guessing the head\\'s pre-terminal before guessing the head.</S>\\n',\n",
       " '    <S sid=\"181\" ssid=\"8\">Neither of these results were anticipated at the start of this research.</S>\\n',\n",
       " '    <S sid=\"182\" ssid=\"9\">As noted above, the main methodological innovation presented here is our &amp;quot;maximumentropy-inspired&amp;quot; model for conditioning and smoothing.</S>\\n',\n",
       " '    <S sid=\"183\" ssid=\"10\">Two aspects of this model deserve some comment.</S>\\n',\n",
       " '    <S sid=\"184\" ssid=\"11\">The first is the slight, but important, improvement achieved by using this model over conventional deleted interpolation, as indicated in Figure 2.</S>\\n',\n",
       " '    <S sid=\"185\" ssid=\"12\">We expect that as we experiment with other, more semantic conditioning information, the importance of this aspect of the model will increase.</S>\\n',\n",
       " '    <S sid=\"186\" ssid=\"13\">More important in our eyes, though, is the flexibility of the maximum-entropy-inspired model.</S>\\n',\n",
       " '    <S sid=\"187\" ssid=\"14\">Though in some respects not quite as flexible as true maximum entropy, it is much simpler and, in our estimation, has benefits when it comes to smoothing.</S>\\n',\n",
       " '    <S sid=\"188\" ssid=\"15\">Ultimately it is this flexibility that let us try the various conditioning events, to move on to a Markov grammar approach, and to try several Markov grammars of different orders, without significant programming.</S>\\n',\n",
       " '    <S sid=\"189\" ssid=\"16\">Indeed, we initiated this line of work in an attempt to create a parser that would be flexible enough to allow modifications for parsing down to more semantic levels of detail.</S>\\n',\n",
       " '    <S sid=\"190\" ssid=\"17\">It is to this project that our future parsing work will be devoted.</S>\\n',\n",
       " '  </SECTION>\\n',\n",
       " '</PAPER>\\n']"
      ]
     },
     "execution_count": 6,
     "metadata": {},
     "output_type": "execute_result"
    }
   ],
   "source": [
    "paper1"
   ]
  },
  {
   "cell_type": "code",
   "execution_count": 7,
   "metadata": {
    "ExecuteTime": {
     "end_time": "2022-10-14T21:41:40.596439Z",
     "start_time": "2022-10-14T21:41:40.587465Z"
    }
   },
   "outputs": [],
   "source": [
    "summary1= lines3[4]"
   ]
  },
  {
   "cell_type": "code",
   "execution_count": 8,
   "metadata": {
    "ExecuteTime": {
     "end_time": "2022-10-14T21:41:40.612406Z",
     "start_time": "2022-10-14T21:41:40.601428Z"
    }
   },
   "outputs": [
    {
     "data": {
      "text/plain": [
       "['A Maximum-Entropy-Inspired Parser\\n',\n",
       " 'We present a new parser for parsing down to Penn tree-bank style parse trees that achieves 90.1% average precision/recall for sentences of length 40 and less, and 89.5% for sentences of length 100 and less when trained and tested on the previously established [5,9,10,15,17] \"standard\" sections of the Wall Street Journal tree- bank.\\n',\n",
       " 'This represents a 13% decrease in error rate over the best single-parser results on this corpus [9].\\n',\n",
       " 'The major technical innovation is the use of a \"maximum-entropy-inspired\" model for conditioning and smoothing that let us successfully to test and combine many different conditioning events.\\n',\n",
       " \"We also present some partial results showing the effects of different conditioning information, including a surprising 2% improvement due to guessing the lexical head's pre-terminal before guessing the lexical head.\\n\",\n",
       " 'As an alternative to hard coded heuristics, we proposed to recover the Penn functional tags automatically.\\n',\n",
       " 'Our parser is also a two-stage ctf model, where the first stage is a smoothed Markov grammar (it uses up to three previous constituents as context), and the second stage is a lexicalized Markov grammar with extra annotations about parents and grandparents.\\n']"
      ]
     },
     "execution_count": 8,
     "metadata": {},
     "output_type": "execute_result"
    }
   ],
   "source": [
    "summary1"
   ]
  },
  {
   "cell_type": "markdown",
   "metadata": {
    "ExecuteTime": {
     "end_time": "2022-10-10T00:51:16.847646Z",
     "start_time": "2022-10-10T00:51:16.813741Z"
    }
   },
   "source": [
    "lista3=[]\n",
    "lines2=''\n",
    "for i in range(len(paper1)):\n",
    "    for j in paper1[i]:\n",
    "        lines2= lines2+j\n",
    "    lista3.append(lines2)"
   ]
  },
  {
   "cell_type": "code",
   "execution_count": 9,
   "metadata": {
    "ExecuteTime": {
     "end_time": "2022-10-14T21:41:40.628356Z",
     "start_time": "2022-10-14T21:41:40.615389Z"
    }
   },
   "outputs": [],
   "source": [
    "texto=''\n",
    "for i in paper1:\n",
    "    texto = texto + str(i)"
   ]
  },
  {
   "cell_type": "code",
   "execution_count": 10,
   "metadata": {
    "ExecuteTime": {
     "end_time": "2022-10-14T21:41:40.675228Z",
     "start_time": "2022-10-14T21:41:40.635336Z"
    }
   },
   "outputs": [],
   "source": [
    "def preprocessa_intro(corpus: str):\n",
    "    regIter = re.finditer('(<SECTION.*Introduction.*?>(.*)<\\/SECTION>)', corpus, re.DOTALL|re.MULTILINE)\n",
    "    textos = [ t.group(2) for t in regIter]\n",
    "    lista = []\n",
    "    for texto in textos:\n",
    "        txt = re.sub('\\\\n',' ', texto)\n",
    "        txt = re.sub(',','', txt)\n",
    "        txt = re.sub(';','', txt)\n",
    "        txt = re.sub(':','', txt)\n",
    "        txt = re.sub('[ ]+',' ', txt)\n",
    "        txt = re.sub(r'\\([^)]*\\)', \"\",txt)\n",
    "        txt = re.sub(r'\\<(.*?)\\>',\"\",txt)\n",
    "        txt = re.sub(r'small\\&',\"\",txt)\n",
    "        txt = re.sub(r'tagger&amp',\"\",txt)\n",
    "        txt = re.sub(r';quot',\"\",txt)\n",
    "        txt = re.sub(r'\\&amp',\"\",txt)\n",
    "        txt = re.sub(' +', ' ', txt)\n",
    "        txt = txt.lower()\n",
    "        #txt = '<sos> ' + txt.strip() + ' <eos>'\n",
    "        txt = txt.strip()\n",
    "        txt = re.sub(' . ', '.', txt).strip()\n",
    "        #txt = '<sos> ' + txt.strip() + ' <eos>'\n",
    "        return txt\n",
    "    return txt\n",
    "\n",
    "def preprocessa_abstract(corpus: str):\n",
    "    regIter = re.finditer(\"(<ABSTRACT>)(.+?)(</ABSTRACT>)\", corpus, re.DOTALL|re.MULTILINE)\n",
    "    textos = [ t.group(2) for t in regIter]\n",
    "    lista = []\n",
    "    for texto in textos:\n",
    "        txt = re.sub('\\\\n',' ', texto)\n",
    "        txt = re.sub(',','', txt)\n",
    "        txt = re.sub(';',' ;', txt)\n",
    "        txt = re.sub('[ ]+',' ', txt)\n",
    "        txt = re.sub(r'\\([^)]*\\)', \"\",txt)\n",
    "        txt = re.sub(r'\\<(.*?)\\>',\"\",txt)\n",
    "        txt = txt.lower()\n",
    "        txt = re.sub(' . ', '.', txt).strip()\n",
    "        #txt = '<sos> ' + txt.strip() + ' <eos>'\n",
    "        lista.append(txt)\n",
    "    return txt\n",
    "\n",
    "\n",
    "def preprocessa_conclusion(corpus: str):\n",
    "    regIter = re.finditer('(<SECTION.*Conclusion.*?>(.*)<\\/SECTION>)', corpus, re.DOTALL|re.MULTILINE)\n",
    "    textos = [ t.group(2) for t in regIter]\n",
    "    lista = []\n",
    "    for texto in textos:\n",
    "        txt = re.sub('\\\\n',' ', texto)\n",
    "        txt = re.sub(',','', txt)\n",
    "        txt = re.sub(';','', txt)\n",
    "        txt = re.sub(':','', txt)\n",
    "        txt = re.sub('[ ]+',' ', txt)\n",
    "        txt = re.sub(r'\\([^)]*\\)', \"\",txt)\n",
    "        txt = re.sub(r'\\<(.*?)\\>',\"\",txt)\n",
    "        txt = re.sub(r'small\\&',\"\",txt)\n",
    "        txt = re.sub(r'tagger&amp',\"\",txt)\n",
    "        txt = re.sub(r';quot',\"\",txt)\n",
    "        txt = re.sub(r'\\&amp',\"\",txt)\n",
    "        txt = re.sub(' +', ' ', txt)\n",
    "        txt = txt.lower()\n",
    "        txt = re.sub(' . ', '.', txt).strip()\n",
    "        #txt = '<sos> ' + txt.strip() + ' <eos>'\n",
    "        txt = txt.strip()\n",
    "        #txt = '<sos> ' + txt.strip() + ' <eos>'\n",
    "        return txt\n",
    "    return txt"
   ]
  },
  {
   "cell_type": "code",
   "execution_count": 11,
   "metadata": {
    "ExecuteTime": {
     "end_time": "2022-10-14T21:41:40.737064Z",
     "start_time": "2022-10-14T21:41:40.677224Z"
    }
   },
   "outputs": [],
   "source": [
    "def remove_values_from_list(the_list, val):\n",
    "    return [value for value in the_list if value != val]"
   ]
  },
  {
   "cell_type": "code",
   "execution_count": 12,
   "metadata": {
    "ExecuteTime": {
     "end_time": "2022-10-14T21:41:40.768983Z",
     "start_time": "2022-10-14T21:41:40.744046Z"
    }
   },
   "outputs": [],
   "source": [
    "abstract   = preprocessa_abstract(texto)\n",
    "intro      = preprocessa_intro(texto)\n",
    "conclusion = preprocessa_conclusion(texto)"
   ]
  },
  {
   "cell_type": "code",
   "execution_count": 13,
   "metadata": {
    "ExecuteTime": {
     "end_time": "2022-10-14T21:41:40.989299Z",
     "start_time": "2022-10-14T21:41:40.771972Z"
    }
   },
   "outputs": [],
   "source": [
    "token_abstract   = preprocessa_abstract(texto).split()\n",
    "token_intro      = preprocessa_intro(texto).split()\n",
    "token_conclusion = preprocessa_conclusion(texto).split()"
   ]
  },
  {
   "cell_type": "code",
   "execution_count": 14,
   "metadata": {
    "ExecuteTime": {
     "end_time": "2022-10-14T21:41:41.004259Z",
     "start_time": "2022-10-14T21:41:40.995283Z"
    }
   },
   "outputs": [],
   "source": [
    "tokens = [token_abstract+token_intro+token_conclusion]"
   ]
  },
  {
   "cell_type": "code",
   "execution_count": 15,
   "metadata": {
    "ExecuteTime": {
     "end_time": "2022-10-14T21:41:41.112906Z",
     "start_time": "2022-10-14T21:41:41.007252Z"
    }
   },
   "outputs": [],
   "source": [
    "model = Word2Vec(tokens, min_count=1)"
   ]
  },
  {
   "cell_type": "code",
   "execution_count": 16,
   "metadata": {
    "ExecuteTime": {
     "end_time": "2022-10-14T21:41:41.143818Z",
     "start_time": "2022-10-14T21:41:41.123874Z"
    }
   },
   "outputs": [],
   "source": [
    "#model.wv.key_to_index"
   ]
  },
  {
   "cell_type": "markdown",
   "metadata": {},
   "source": [
    "frases_abstract = abstract.split('.')\n",
    "palavras_frases=[]\n",
    "for i in frases_abstract:\n",
    "    palavras_frases.append(i.split(' '))\n",
    "palavras_frases"
   ]
  },
  {
   "cell_type": "code",
   "execution_count": 17,
   "metadata": {
    "ExecuteTime": {
     "end_time": "2022-10-14T21:41:41.159776Z",
     "start_time": "2022-10-14T21:41:41.149811Z"
    }
   },
   "outputs": [],
   "source": [
    "def funcao_frase_palavra(abstract):\n",
    "    \"\"\"input: lista de frases\n",
    "        output: lista de palavras de cada frase\"\"\"\n",
    "    frases_abstract = abstract.split('.')\n",
    "    palavras_frases=[]\n",
    "    for i in frases_abstract:\n",
    "        palavras_frases.append(i.split(' '))\n",
    "    try:\n",
    "        palavras_frases.remove('')\n",
    "    except:\n",
    "        return palavras_frases\n",
    "    return palavras_frases"
   ]
  },
  {
   "cell_type": "code",
   "execution_count": 18,
   "metadata": {
    "ExecuteTime": {
     "end_time": "2022-10-14T21:41:41.174738Z",
     "start_time": "2022-10-14T21:41:41.166758Z"
    }
   },
   "outputs": [],
   "source": [
    "def vetor_frases(palavras_frases):\n",
    "    \"\"\"input: lista de palavras de cada frase\n",
    "        output: lista de vetores de cada frase\"\"\"\n",
    "    x=[]\n",
    "    for i in palavras_frases:\n",
    "        soma=0\n",
    "        for j in i:\n",
    "            try:\n",
    "                soma = soma +model.wv[j]\n",
    "            except:\n",
    "                soma=soma+0\n",
    "        x.append(soma)\n",
    "    return x"
   ]
  },
  {
   "cell_type": "code",
   "execution_count": 19,
   "metadata": {
    "ExecuteTime": {
     "end_time": "2022-10-14T21:41:41.206650Z",
     "start_time": "2022-10-14T21:41:41.177728Z"
    }
   },
   "outputs": [],
   "source": [
    "def funcao_sim_coseno(a,b):\n",
    "    valor_coseno = (numpy.dot(a, b))/(numpy.linalg.norm(a)* numpy.linalg.norm(b))\n",
    "    if valor_coseno  is None:\n",
    "        return 0\n",
    "    else:\n",
    "        return valor_coseno"
   ]
  },
  {
   "cell_type": "code",
   "execution_count": 20,
   "metadata": {
    "ExecuteTime": {
     "end_time": "2022-10-14T21:41:41.221611Z",
     "start_time": "2022-10-14T21:41:41.210654Z"
    }
   },
   "outputs": [],
   "source": [
    "frases_abstract   = abstract.split('.')\n",
    "palavras_abstract = funcao_frase_palavra(abstract)\n",
    "palavras_abstract = remove_values_from_list(palavras_abstract, [''])\n",
    "vetor_abstract    = vetor_frases(palavras_abstract)"
   ]
  },
  {
   "cell_type": "code",
   "execution_count": 21,
   "metadata": {
    "ExecuteTime": {
     "end_time": "2022-10-14T21:41:41.267488Z",
     "start_time": "2022-10-14T21:41:41.224603Z"
    }
   },
   "outputs": [],
   "source": [
    "frases_intro   = intro.split('.')\n",
    "palavras_intro = funcao_frase_palavra(intro)\n",
    "palavras_intro = remove_values_from_list(palavras_intro, [''])\n",
    "vetor_intro    = vetor_frases(palavras_intro)"
   ]
  },
  {
   "cell_type": "code",
   "execution_count": 22,
   "metadata": {
    "ExecuteTime": {
     "end_time": "2022-10-14T21:41:41.283445Z",
     "start_time": "2022-10-14T21:41:41.275466Z"
    }
   },
   "outputs": [],
   "source": [
    "frases_conclusion   = conclusion.split('.')\n",
    "palavras_conclusion = funcao_frase_palavra(conclusion)\n",
    "palavras_conclusion = remove_values_from_list(palavras_conclusion, [''])\n",
    "vetor_conclusion    = vetor_frases(palavras_conclusion)"
   ]
  },
  {
   "cell_type": "code",
   "execution_count": 23,
   "metadata": {
    "ExecuteTime": {
     "end_time": "2022-10-14T21:41:41.299402Z",
     "start_time": "2022-10-14T21:41:41.288433Z"
    }
   },
   "outputs": [],
   "source": [
    "def funcao_sim_coseno(a,b):\n",
    "    if ((numpy.linalg.norm(a)==0) |(numpy.linalg.norm(b)==0)):\n",
    "        return 0\n",
    "    else:\n",
    "        valor_coseno = (numpy.dot(a, b))/(numpy.linalg.norm(a)* numpy.linalg.norm(b))\n",
    "        return valor_coseno"
   ]
  },
  {
   "cell_type": "code",
   "execution_count": 24,
   "metadata": {
    "ExecuteTime": {
     "end_time": "2022-10-14T21:41:41.315370Z",
     "start_time": "2022-10-14T21:41:41.303392Z"
    }
   },
   "outputs": [],
   "source": [
    "def dicionario_similaridade(vetor_a,vetor_b):\n",
    "    \"\"\"Input: vetor correspondente às frases das seções a e b\n",
    "    Output: \n",
    "    \"\"\"\n",
    "    dicionario={}\n",
    "    for i in range(len(vetor_a)):\n",
    "        for j in range(len(vetor_b)):\n",
    "            dicionario[i,j]= funcao_sim_coseno(vetor_a[i],vetor_b[j])\n",
    "    return dicionario"
   ]
  },
  {
   "cell_type": "code",
   "execution_count": 25,
   "metadata": {
    "ExecuteTime": {
     "end_time": "2022-10-14T21:41:41.548736Z",
     "start_time": "2022-10-14T21:41:41.320346Z"
    }
   },
   "outputs": [],
   "source": [
    "dicionario = dicionario_similaridade(vetor_abstract, vetor_intro)"
   ]
  },
  {
   "cell_type": "code",
   "execution_count": 26,
   "metadata": {
    "ExecuteTime": {
     "end_time": "2022-10-14T21:41:41.596606Z",
     "start_time": "2022-10-14T21:41:41.551730Z"
    }
   },
   "outputs": [
    {
     "data": {
      "text/plain": [
       "[(4, 4), (0, 0), (5, 5)]"
      ]
     },
     "execution_count": 26,
     "metadata": {},
     "output_type": "execute_result"
    }
   ],
   "source": [
    "top_3_indices = sorted(dicionario, key=dicionario.get, reverse=True)[:3]\n",
    "top_3_indices"
   ]
  },
  {
   "cell_type": "code",
   "execution_count": 27,
   "metadata": {
    "ExecuteTime": {
     "end_time": "2022-10-14T21:41:41.611570Z",
     "start_time": "2022-10-14T21:41:41.601596Z"
    }
   },
   "outputs": [
    {
     "name": "stdout",
     "output_type": "stream",
     "text": [
      "1.0000001\n",
      "1.0\n",
      "1.0\n"
     ]
    }
   ],
   "source": [
    "for i in top_3_indices:\n",
    "    print(dicionario[i])"
   ]
  },
  {
   "cell_type": "code",
   "execution_count": 28,
   "metadata": {
    "ExecuteTime": {
     "end_time": "2022-10-14T21:41:41.641487Z",
     "start_time": "2022-10-14T21:41:41.617552Z"
    }
   },
   "outputs": [],
   "source": [
    "x=[]\n",
    "for i in range(len(top_3_indices)):\n",
    "    x.append(top_3_indices[i][0])\n",
    "indice_abstract = list(set(x))"
   ]
  },
  {
   "cell_type": "code",
   "execution_count": 29,
   "metadata": {
    "ExecuteTime": {
     "end_time": "2022-10-14T21:41:41.672404Z",
     "start_time": "2022-10-14T21:41:41.644480Z"
    }
   },
   "outputs": [
    {
     "data": {
      "text/plain": [
       "[0, 4, 5]"
      ]
     },
     "execution_count": 29,
     "metadata": {},
     "output_type": "execute_result"
    }
   ],
   "source": [
    "indice_abstract"
   ]
  },
  {
   "cell_type": "code",
   "execution_count": 30,
   "metadata": {
    "ExecuteTime": {
     "end_time": "2022-10-14T21:41:41.704321Z",
     "start_time": "2022-10-14T21:41:41.675396Z"
    }
   },
   "outputs": [
    {
     "data": {
      "text/plain": [
       "[array([-0.02728748,  0.01632557,  0.00221955,  0.00257971,  0.00192509,\n",
       "        -0.04115362,  0.02328084,  0.06711588, -0.02734399, -0.01915182,\n",
       "        -0.01015315, -0.02085561, -0.02201623,  0.02554366,  0.00402589,\n",
       "        -0.02290612, -0.00049584, -0.01995485, -0.01418897, -0.05465411,\n",
       "         0.01697383, -0.00563399,  0.01977037,  0.00327611,  0.00041953,\n",
       "         0.01290847, -0.02054577, -0.01113396, -0.03020561,  0.00741656,\n",
       "         0.02760772,  0.00322055,  0.01196965, -0.02077815, -0.00015326,\n",
       "         0.02408354,  0.01246118, -0.01871097, -0.01979257, -0.0458454 ,\n",
       "         0.01620316, -0.01887285, -0.02552225,  0.01766346,  0.02402374,\n",
       "        -0.02519953, -0.01828353, -0.0050073 ,  0.00847415, -0.00221595,\n",
       "         0.01309613, -0.02439694, -0.00178752, -0.01187825, -0.01294066,\n",
       "         0.01023848,  0.00355543, -0.01672422, -0.01753071, -0.00675693,\n",
       "         0.0217683 ,  0.0024905 , -0.00699062, -0.01117368, -0.03220685,\n",
       "         0.02611551,  0.01544785,  0.03255321, -0.0442327 ,  0.03633269,\n",
       "        -0.02785542,  0.01790289,  0.02262559, -0.01006677,  0.02737512,\n",
       "         0.02304649,  0.00728483,  0.00627116, -0.00530918, -0.000239  ,\n",
       "        -0.0149018 , -0.00312773, -0.01326254,  0.03129397, -0.0096981 ,\n",
       "        -0.01400183,  0.01377166,  0.01772092,  0.02027346, -0.00696559,\n",
       "         0.03913643,  0.00650219, -0.00208146, -0.00601362,  0.05247111,\n",
       "         0.00645137,  0.0193707 , -0.00609022,  0.01513923, -0.01221766],\n",
       "       dtype=float32),\n",
       " array([-0.00881495,  0.01729868,  0.01338545,  0.00948064, -0.0072809 ,\n",
       "        -0.04001502,  0.02081657,  0.05609278, -0.02518491, -0.02410856,\n",
       "        -0.00953348, -0.02749095, -0.00399187,  0.01506796,  0.01149051,\n",
       "        -0.01197463,  0.01468058, -0.01785089, -0.01793086, -0.06082264,\n",
       "         0.01722758,  0.01483258,  0.01934705, -0.0146711 , -0.00991284,\n",
       "         0.01023725, -0.01896005, -0.00600725, -0.02993687,  0.00891343,\n",
       "         0.02207797,  0.00333102,  0.01111403, -0.02841891, -0.01848363,\n",
       "         0.02908269,  0.00373049, -0.02467288, -0.02791088, -0.03757865,\n",
       "         0.01400189, -0.01986567, -0.01027465,  0.00278028,  0.02852281,\n",
       "        -0.01440429, -0.0212613 , -0.0086015 ,  0.02256471,  0.01491992,\n",
       "         0.00036061, -0.02090904, -0.00131972, -0.0067127 , -0.01446526,\n",
       "         0.01745915,  0.00689087,  0.00061876, -0.01920125,  0.0111676 ,\n",
       "         0.01764475,  0.00103478, -0.00456485,  0.00248009, -0.02249145,\n",
       "         0.03090603, -0.00497316,  0.02917721, -0.03578347,  0.0181505 ,\n",
       "        -0.01163208,  0.01604126,  0.02848058, -0.00758226,  0.02008275,\n",
       "         0.01478191,  0.00890125, -0.00266061, -0.00733115, -0.00771693,\n",
       "        -0.01845354,  0.00018271, -0.02901255,  0.03583631, -0.00609994,\n",
       "        -0.00582231,  0.00877179,  0.02621385,  0.0316295 ,  0.00371688,\n",
       "         0.03176484,  0.00774482, -0.00541172,  0.01175911,  0.04180215,\n",
       "         0.02023366,  0.00616005, -0.02554259,  0.01384197, -0.01044844],\n",
       "       dtype=float32),\n",
       " array([-0.07753586,  0.1395789 ,  0.03252671, -0.02853285, -0.03777079,\n",
       "        -0.25983194,  0.13585672,  0.3957778 , -0.15479909, -0.12995508,\n",
       "        -0.06786931, -0.19435064, -0.05640151,  0.10570871,  0.07047179,\n",
       "        -0.15586635,  0.05304687, -0.10759951, -0.09801283, -0.3781156 ,\n",
       "         0.1137705 ,  0.08326504,  0.12252803, -0.07395431, -0.01530734,\n",
       "         0.01492173, -0.10482861, -0.12052136, -0.19792855,  0.02948487,\n",
       "         0.19313665, -0.0069303 ,  0.12501633, -0.1401294 , -0.1020622 ,\n",
       "         0.19338754,  0.06596147, -0.140224  , -0.14269494, -0.27289227,\n",
       "         0.03038419, -0.09898374, -0.10807128,  0.01403239,  0.14296621,\n",
       "        -0.0612773 , -0.09710489, -0.05202233,  0.09500755,  0.13453479,\n",
       "         0.03302853, -0.13504037, -0.08538361, -0.00703978, -0.11310536,\n",
       "         0.07381207,  0.08945663, -0.05518777, -0.13184011,  0.0459595 ,\n",
       "         0.08033116,  0.04828653,  0.00219473, -0.06611907, -0.18052055,\n",
       "         0.18389116,  0.03514635,  0.13615295, -0.23612349,  0.14795105,\n",
       "        -0.10066757,  0.13608964,  0.17424871, -0.00731949,  0.15913653,\n",
       "         0.1152617 ,  0.04427178,  0.02220032, -0.07557666, -0.00733544,\n",
       "        -0.05272844, -0.00760639, -0.14606218,  0.24921158, -0.06685331,\n",
       "        -0.03809142,  0.04882301,  0.10482623,  0.17407796,  0.07457362,\n",
       "         0.16756113,  0.07309192,  0.01546338,  0.04381384,  0.27728644,\n",
       "         0.1671538 ,  0.07560372, -0.17344709,  0.04994449, -0.07807028],\n",
       "       dtype=float32)]"
      ]
     },
     "execution_count": 30,
     "metadata": {},
     "output_type": "execute_result"
    }
   ],
   "source": [
    "vetor_frases_objetivo_1=[]\n",
    "for i in range(len(indice_abstract)):\n",
    "    vetor_frases_objetivo_1.append(vetor_intro[indice_abstract[i]])\n",
    "vetor_frases_objetivo_1"
   ]
  },
  {
   "cell_type": "code",
   "execution_count": 31,
   "metadata": {
    "ExecuteTime": {
     "end_time": "2022-10-14T21:41:41.735239Z",
     "start_time": "2022-10-14T21:41:41.708309Z"
    }
   },
   "outputs": [],
   "source": [
    "dicionario = dicionario_similaridade(vetor_abstract, vetor_conclusion)"
   ]
  },
  {
   "cell_type": "code",
   "execution_count": 32,
   "metadata": {
    "ExecuteTime": {
     "end_time": "2022-10-14T21:41:41.751193Z",
     "start_time": "2022-10-14T21:41:41.739226Z"
    }
   },
   "outputs": [
    {
     "data": {
      "text/plain": [
       "[(9, 15), (6, 10), (5, 4)]"
      ]
     },
     "execution_count": 32,
     "metadata": {},
     "output_type": "execute_result"
    }
   ],
   "source": [
    "top_3_indices = sorted(dicionario, key=dicionario.get, reverse=True)[:3]\n",
    "top_3_indices"
   ]
  },
  {
   "cell_type": "code",
   "execution_count": 33,
   "metadata": {
    "ExecuteTime": {
     "end_time": "2022-10-14T21:41:41.767153Z",
     "start_time": "2022-10-14T21:41:41.756182Z"
    }
   },
   "outputs": [
    {
     "name": "stdout",
     "output_type": "stream",
     "text": [
      "0.99118465\n",
      "0.98977053\n",
      "0.98917323\n"
     ]
    }
   ],
   "source": [
    "for i in top_3_indices:\n",
    "    print(dicionario[i])"
   ]
  },
  {
   "cell_type": "code",
   "execution_count": 34,
   "metadata": {
    "ExecuteTime": {
     "end_time": "2022-10-14T21:41:41.783107Z",
     "start_time": "2022-10-14T21:41:41.772137Z"
    }
   },
   "outputs": [],
   "source": [
    "x=[]\n",
    "for i in range(len(top_3_indices)):\n",
    "    x.append(top_3_indices[i][0])\n",
    "indice_abstract = list(set(x))"
   ]
  },
  {
   "cell_type": "code",
   "execution_count": 35,
   "metadata": {
    "ExecuteTime": {
     "end_time": "2022-10-14T21:41:41.814025Z",
     "start_time": "2022-10-14T21:41:41.786101Z"
    }
   },
   "outputs": [
    {
     "data": {
      "text/plain": [
       "[array([-0.07823716,  0.09580041,  0.02683538,  0.01079913, -0.00441369,\n",
       "        -0.14804745,  0.07787856,  0.19914927, -0.08087862, -0.06989818,\n",
       "        -0.02900805, -0.09462047,  0.01060875,  0.05417459,  0.04872794,\n",
       "        -0.05723944,  0.03303472, -0.05731393, -0.05514907, -0.18451026,\n",
       "         0.07052866,  0.04800124,  0.06093913, -0.03499268,  0.01221963,\n",
       "         0.0123376 , -0.03587793, -0.04285754, -0.08860978, -0.00841041,\n",
       "         0.08553695, -0.00142937,  0.05162355, -0.06638402, -0.04351277,\n",
       "         0.11564371,  0.02396262, -0.06110545, -0.0748954 , -0.15986326,\n",
       "         0.02041036, -0.03792544, -0.03317028,  0.00383806,  0.0480101 ,\n",
       "        -0.04081042, -0.05726702, -0.0023928 ,  0.06197588,  0.06988463,\n",
       "         0.0331066 , -0.05647109, -0.02841944, -0.02355552, -0.00790779,\n",
       "         0.00119575,  0.08153088, -0.0216416 , -0.07464842,  0.01564708,\n",
       "         0.02458653,  0.00827728,  0.00208555, -0.03690244, -0.07212068,\n",
       "         0.0774187 ,  0.00234101,  0.06577178, -0.1119159 ,  0.09309765,\n",
       "        -0.02756233,  0.04119753,  0.07745524,  0.00116269,  0.08079973,\n",
       "         0.03857504,  0.01088598,  0.00865109, -0.03446199, -0.00989527,\n",
       "        -0.0344656 ,  0.01846207, -0.05909859,  0.12619093, -0.00726322,\n",
       "        -0.00858639,  0.01190527,  0.05533214,  0.07100784,  0.0378947 ,\n",
       "         0.11325949,  0.03893214,  0.04132513,  0.00316119,  0.14496951,\n",
       "         0.08207252,  0.00033228, -0.09208293,  0.03866911, -0.02519151],\n",
       "       dtype=float32),\n",
       " array([-0.07753586,  0.1395789 ,  0.03252671, -0.02853285, -0.03777079,\n",
       "        -0.25983194,  0.13585672,  0.3957778 , -0.15479909, -0.12995508,\n",
       "        -0.06786931, -0.19435064, -0.05640151,  0.10570871,  0.07047179,\n",
       "        -0.15586635,  0.05304687, -0.10759951, -0.09801283, -0.3781156 ,\n",
       "         0.1137705 ,  0.08326504,  0.12252803, -0.07395431, -0.01530734,\n",
       "         0.01492173, -0.10482861, -0.12052136, -0.19792855,  0.02948487,\n",
       "         0.19313665, -0.0069303 ,  0.12501633, -0.1401294 , -0.1020622 ,\n",
       "         0.19338754,  0.06596147, -0.140224  , -0.14269494, -0.27289227,\n",
       "         0.03038419, -0.09898374, -0.10807128,  0.01403239,  0.14296621,\n",
       "        -0.0612773 , -0.09710489, -0.05202233,  0.09500755,  0.13453479,\n",
       "         0.03302853, -0.13504037, -0.08538361, -0.00703978, -0.11310536,\n",
       "         0.07381207,  0.08945663, -0.05518777, -0.13184011,  0.0459595 ,\n",
       "         0.08033116,  0.04828653,  0.00219473, -0.06611907, -0.18052055,\n",
       "         0.18389116,  0.03514635,  0.13615295, -0.23612349,  0.14795105,\n",
       "        -0.10066757,  0.13608964,  0.17424871, -0.00731949,  0.15913653,\n",
       "         0.1152617 ,  0.04427178,  0.02220032, -0.07557666, -0.00733544,\n",
       "        -0.05272844, -0.00760639, -0.14606218,  0.24921158, -0.06685331,\n",
       "        -0.03809142,  0.04882301,  0.10482623,  0.17407796,  0.07457362,\n",
       "         0.16756113,  0.07309192,  0.01546338,  0.04381384,  0.27728644,\n",
       "         0.1671538 ,  0.07560372, -0.17344709,  0.04994449, -0.07807028],\n",
       "       dtype=float32),\n",
       " array([-0.04018199,  0.07587845,  0.0077787 , -0.02454083,  0.02026146,\n",
       "        -0.11212273,  0.06678355,  0.15923303, -0.02911809, -0.06407449,\n",
       "        -0.0195585 , -0.10002784, -0.03875774,  0.03161414,  0.04984722,\n",
       "        -0.04054804,  0.02656824, -0.06833705, -0.02687272, -0.15970288,\n",
       "         0.05586588,  0.01795994,  0.04665807, -0.02141437, -0.03453815,\n",
       "         0.03068236, -0.01041397, -0.04291927, -0.06541221,  0.03180183,\n",
       "         0.08896193, -0.01002735,  0.00527993, -0.05770084, -0.0625853 ,\n",
       "         0.08023638,  0.04707249, -0.03977078, -0.02595332, -0.11668426,\n",
       "         0.02053823, -0.07660828, -0.01000027,  0.01937976,  0.07302449,\n",
       "        -0.0001725 , -0.05313238, -0.03364369,  0.05389747,  0.03351338,\n",
       "         0.01848103, -0.01582965, -0.01567053,  0.015398  , -0.05570821,\n",
       "         0.01214799,  0.05320988,  0.00052264, -0.06267453, -0.00364112,\n",
       "         0.02702461,  0.00160237, -0.01028507, -0.00610693, -0.04146839,\n",
       "         0.08099749, -0.01618369,  0.04889306, -0.0781501 ,  0.03181836,\n",
       "        -0.0470772 ,  0.04384458,  0.07372358,  0.00849493,  0.04522082,\n",
       "         0.04366728,  0.00443617, -0.008218  , -0.02529462,  0.00842828,\n",
       "        -0.01489682, -0.00470698, -0.02388908,  0.06058117,  0.01103608,\n",
       "         0.00950439,  0.04584403,  0.05290565,  0.0486565 ,  0.01842086,\n",
       "         0.1084076 ,  0.04377829,  0.00661771,  0.00315207,  0.13079315,\n",
       "         0.05920918,  0.01843519, -0.0609402 ,  0.02667489, -0.02117207],\n",
       "       dtype=float32)]"
      ]
     },
     "execution_count": 35,
     "metadata": {},
     "output_type": "execute_result"
    }
   ],
   "source": [
    "vetor_frases_objetivo_1=[]\n",
    "for i in range(len(indice_abstract)):\n",
    "    vetor_frases_objetivo_1.append(vetor_intro[indice_abstract[i]])\n",
    "vetor_frases_objetivo_1"
   ]
  },
  {
   "cell_type": "code",
   "execution_count": 36,
   "metadata": {
    "ExecuteTime": {
     "end_time": "2022-10-14T21:41:41.828987Z",
     "start_time": "2022-10-14T21:41:41.817017Z"
    }
   },
   "outputs": [
    {
     "name": "stdout",
     "output_type": "stream",
     "text": [
      " we also present some partial results showing the effects of different conditioning information including\n",
      "13% decrease in error rate over the best single-parser results on this corpus [9]\n",
      " the major technical innovation is the use of\n"
     ]
    }
   ],
   "source": [
    "for i in indice_abstract:\n",
    "    print(frases_abstract[i])"
   ]
  },
  {
   "cell_type": "code",
   "execution_count": 37,
   "metadata": {
    "ExecuteTime": {
     "end_time": "2022-10-14T21:41:41.859904Z",
     "start_time": "2022-10-14T21:41:41.832975Z"
    }
   },
   "outputs": [
    {
     "data": {
      "text/plain": [
       "['A Maximum-Entropy-Inspired Parser\\n',\n",
       " 'We present a new parser for parsing down to Penn tree-bank style parse trees that achieves 90.1% average precision/recall for sentences of length 40 and less, and 89.5% for sentences of length 100 and less when trained and tested on the previously established [5,9,10,15,17] \"standard\" sections of the Wall Street Journal tree- bank.\\n',\n",
       " 'This represents a 13% decrease in error rate over the best single-parser results on this corpus [9].\\n',\n",
       " 'The major technical innovation is the use of a \"maximum-entropy-inspired\" model for conditioning and smoothing that let us successfully to test and combine many different conditioning events.\\n',\n",
       " \"We also present some partial results showing the effects of different conditioning information, including a surprising 2% improvement due to guessing the lexical head's pre-terminal before guessing the lexical head.\\n\",\n",
       " 'As an alternative to hard coded heuristics, we proposed to recover the Penn functional tags automatically.\\n',\n",
       " 'Our parser is also a two-stage ctf model, where the first stage is a smoothed Markov grammar (it uses up to three previous constituents as context), and the second stage is a lexicalized Markov grammar with extra annotations about parents and grandparents.\\n']"
      ]
     },
     "execution_count": 37,
     "metadata": {},
     "output_type": "execute_result"
    }
   ],
   "source": [
    "summary1"
   ]
  },
  {
   "cell_type": "code",
   "execution_count": 38,
   "metadata": {
    "ExecuteTime": {
     "end_time": "2022-10-14T21:41:41.890820Z",
     "start_time": "2022-10-14T21:41:41.865887Z"
    }
   },
   "outputs": [
    {
     "data": {
      "text/plain": [
       "\"we present.new parser for parsing down to penn tree-bank style parse trees that achieves 90.1% average precision/recall for sentences of 40 and less and for of length 100 and less when trained and tested on the previously established [59101517] &amp ;quot ;standard&amp ;quot.sections of the wall street journal treebank. this represents.13% decrease in error rate over the best single-parser results on this corpus [9]. the major technical innovation is the use of.&amp ;quot ;maximum-entropy-inspired&amp ;quot.model for conditioning and smoothing that let us successfully to test and combine many different conditioning events. we also present some partial results showing the effects of different conditioning information including.surprising 2% improvement due to guessing the lexical head's pre-terminal before guessing the lexical head.\""
      ]
     },
     "execution_count": 38,
     "metadata": {},
     "output_type": "execute_result"
    }
   ],
   "source": [
    "abstract"
   ]
  },
  {
   "cell_type": "code",
   "execution_count": null,
   "metadata": {},
   "outputs": [],
   "source": []
  }
 ],
 "metadata": {
  "hide_input": false,
  "kernelspec": {
   "display_name": "Python 3",
   "language": "python",
   "name": "python3"
  },
  "language_info": {
   "codemirror_mode": {
    "name": "ipython",
    "version": 3
   },
   "file_extension": ".py",
   "mimetype": "text/x-python",
   "name": "python",
   "nbconvert_exporter": "python",
   "pygments_lexer": "ipython3",
   "version": "3.8.5"
  },
  "toc": {
   "base_numbering": 1,
   "nav_menu": {},
   "number_sections": true,
   "sideBar": true,
   "skip_h1_title": false,
   "title_cell": "Table of Contents",
   "title_sidebar": "Contents",
   "toc_cell": false,
   "toc_position": {},
   "toc_section_display": true,
   "toc_window_display": false
  },
  "varInspector": {
   "cols": {
    "lenName": 16,
    "lenType": 16,
    "lenVar": 40
   },
   "kernels_config": {
    "python": {
     "delete_cmd_postfix": "",
     "delete_cmd_prefix": "del ",
     "library": "var_list.py",
     "varRefreshCmd": "print(var_dic_list())"
    },
    "r": {
     "delete_cmd_postfix": ") ",
     "delete_cmd_prefix": "rm(",
     "library": "var_list.r",
     "varRefreshCmd": "cat(var_dic_list()) "
    }
   },
   "types_to_exclude": [
    "module",
    "function",
    "builtin_function_or_method",
    "instance",
    "_Feature"
   ],
   "window_display": false
  }
 },
 "nbformat": 4,
 "nbformat_minor": 4
}
