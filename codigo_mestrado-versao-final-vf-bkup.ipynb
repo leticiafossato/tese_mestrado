{
 "cells": [
  {
   "cell_type": "code",
   "execution_count": 1,
   "metadata": {
    "ExecuteTime": {
     "end_time": "2022-10-17T00:16:13.295277Z",
     "start_time": "2022-10-17T00:15:46.901650Z"
    }
   },
   "outputs": [],
   "source": [
    "import pandas as pd\n",
    "import re\n",
    "import os\n",
    "import collections\n",
    "import nltk\n",
    "import urllib\n",
    "import bs4 as bs\n",
    "import re\n",
    "from gensim.models import Word2Vec\n",
    "from nltk.corpus import stopwords\n",
    "import numpy\n",
    "\n",
    "from numpy import dot\n",
    "from numpy.linalg import norm"
   ]
  },
  {
   "cell_type": "code",
   "execution_count": 2,
   "metadata": {
    "ExecuteTime": {
     "end_time": "2022-10-17T00:16:13.314892Z",
     "start_time": "2022-10-17T00:16:13.295277Z"
    }
   },
   "outputs": [],
   "source": [
    "list_of_files = os.listdir('../top1000_complete')"
   ]
  },
  {
   "cell_type": "code",
   "execution_count": 3,
   "metadata": {
    "ExecuteTime": {
     "end_time": "2022-10-17T00:16:42.873557Z",
     "start_time": "2022-10-17T00:16:13.314892Z"
    }
   },
   "outputs": [],
   "source": [
    "#Leitura dos artigos\n",
    "list_of_files2= []\n",
    "for i in list_of_files:\n",
    "    nome = '../top1000_complete/' + i + '/' + 'Documents_xml/' +os.listdir(f'../top1000_complete/{i}/Documents_xml')[0]\n",
    "    list_of_files2.append(nome)\n",
    "    \n",
    "    \n",
    "lines = []\n",
    "for file in list_of_files2:\n",
    "    f= open(file,'r')\n",
    "    lines.append(f.readlines())\n",
    "    f.close()"
   ]
  },
  {
   "cell_type": "code",
   "execution_count": 4,
   "metadata": {
    "ExecuteTime": {
     "end_time": "2022-10-17T00:17:01.577861Z",
     "start_time": "2022-10-17T00:16:42.880543Z"
    }
   },
   "outputs": [],
   "source": [
    "#Leitura do padrão ouro\n",
    "list_of_files3= []\n",
    "for i in list_of_files:\n",
    "    nome = '../top1000_complete/' + i + '/' + 'summary/' +os.listdir(f'../top1000_complete/{i}/summary')[0]\n",
    "    list_of_files3.append(nome)\n",
    "    \n",
    "    \n",
    "lines3 = []\n",
    "for file in list_of_files3:\n",
    "    f= open(file,'r',encoding='utf-8')\n",
    "    lines3.append(f.readlines())\n",
    "    f.close()"
   ]
  },
  {
   "cell_type": "code",
   "execution_count": 5,
   "metadata": {
    "ExecuteTime": {
     "end_time": "2022-10-17T00:17:01.595011Z",
     "start_time": "2022-10-17T00:17:01.579925Z"
    }
   },
   "outputs": [],
   "source": [
    "paper1= lines[2]"
   ]
  },
  {
   "cell_type": "code",
   "execution_count": 6,
   "metadata": {
    "ExecuteTime": {
     "end_time": "2022-10-17T00:17:01.784639Z",
     "start_time": "2022-10-17T00:17:01.595011Z"
    }
   },
   "outputs": [
    {
     "data": {
      "text/plain": [
       "['<PAPER>\\n',\n",
       " '  <S sid=\"0\">Advances In Domain Independent Linear Text Segmentation</S>\\n',\n",
       " '  <ABSTRACT>\\n',\n",
       " '    <S sid=\"1\" ssid=\"1\">This paper describes a method for linear text segmentation which is twice as accurate and over seven times as fast as the state-of-the-art (Reynar, 1998).</S>\\n',\n",
       " '    <S sid=\"2\" ssid=\"2\">Inter-sentence similarity is replaced by rank in the local context.</S>\\n',\n",
       " '    <S sid=\"3\" ssid=\"3\">Boundary locations are discovered by divisive clustering.</S>\\n',\n",
       " '  </ABSTRACT>\\n',\n",
       " '  <SECTION title=\"1 Introduction\" number=\"1\">\\n',\n",
       " '    <S sid=\"4\" ssid=\"1\">Even moderately long documents typically address several topics or different aspects of the same topic.</S>\\n',\n",
       " '    <S sid=\"5\" ssid=\"2\">The aim of linear text segmentation is to discover the topic boundaries.</S>\\n',\n",
       " '    <S sid=\"6\" ssid=\"3\">The uses of this procedure include information retrieval (Hearst and Plaunt, 1993; Hearst, 1994; Yaari, 1997; Reynar, 1999), summarization (Reynar, 1998), text understanding, anaphora resolution (Kozima, 1993), language modelling (Morris and Hirst, 1991; Beeferman et al., 1997b) and improving document navigation for the visually disabled (Choi, 2000).</S>\\n',\n",
       " '    <S sid=\"7\" ssid=\"4\">This paper focuses on domain independent methods for segmenting written text.</S>\\n',\n",
       " '    <S sid=\"8\" ssid=\"5\">We present a new algorithm that builds on previous work by Reynar (Reynar, 1998; Reynar, 1994).</S>\\n',\n",
       " '    <S sid=\"9\" ssid=\"6\">The primary distinction of our method is the use of a ranking scheme and the cosine similarity measure (van Rijsbergen, 1979) in formulating the similarity matrix.</S>\\n',\n",
       " '    <S sid=\"10\" ssid=\"7\">We propose that the similarity values of short text segments is statistically insignificant.</S>\\n',\n",
       " '    <S sid=\"11\" ssid=\"8\">Thus, one can only rely on their order, or rank, for clustering.</S>\\n',\n",
       " '  </SECTION>\\n',\n",
       " '  <SECTION title=\"2 Background\" number=\"2\">\\n',\n",
       " '    <S sid=\"12\" ssid=\"1\">Existing work falls into one of two categories, lexical cohesion methods and multi-source methods (Yaari, 1997).</S>\\n',\n",
       " '    <S sid=\"13\" ssid=\"2\">The former stem from the work of Halliday and Hasan (Halliday and Hasan, 1976).</S>\\n',\n",
       " '    <S sid=\"14\" ssid=\"3\">They proposed that text segments with similar vocabulary are likely to be part of a coherent topic segment.</S>\\n',\n",
       " '    <S sid=\"15\" ssid=\"4\">Implementations of this idea use word stem repetition (Youmans, 1991; Reynar, 1994; Ponte and Croft, 1997), context vectors (Hearst, 1994; Yaari, 1997; Kaufmann, 1999; Eichmann et al., 1999), entity repetition (Kan et al., 1998), semantic similarity (Morris and Hirst, 1991; Kozima, 1993), word distance model (Beeferman et al., 1997a) and word frequency model (Reynar, 1999) to detect cohesion.</S>\\n',\n",
       " '    <S sid=\"16\" ssid=\"5\">Methods for finding the topic boundaries include sliding window (Hearst, 1994), lexical chains (Morris, 1988; Kan et al., 1998), dynamic programming (Ponte and Croft, 1997; Heinonen, 1998), agglomerative clustering (Yaari, 1997) and divisive clustering (Reynar, 1994).</S>\\n',\n",
       " '    <S sid=\"17\" ssid=\"6\">Lexical cohesion methods are typically used for segmenting written text in a collection to improve information retrieval (Hearst, 1994; Reynar, 1998).</S>\\n',\n",
       " '    <S sid=\"18\" ssid=\"7\">Multi-source methods combine lexical cohesion with other indicators of topic shift such as cue phrases, prosodic features, reference, syntax and lexical attraction (Beeferman et al., 1997a) using decision trees (Miike et al., 1994; Kurohashi and Nagao, 1994; Litman and Passonneau, 1995) and probabilistic models (Beeferman et al., 1997b; Hajime et al., 1998; Reynar, 1998).</S>\\n',\n",
       " '    <S sid=\"19\" ssid=\"8\">Work in this area is largely motivated by the topic detection and tracking (TDT) initiative (Allan et al., 1998).</S>\\n',\n",
       " '    <S sid=\"20\" ssid=\"9\">The focus is on the segmentation of transcribed spoken text and broadcast news stories where the presentation format and regular cues can be exploited to improve accuracy.</S>\\n',\n",
       " '  </SECTION>\\n',\n",
       " '  <SECTION title=\"3 Algorithm\" number=\"3\">\\n',\n",
       " '    <S sid=\"21\" ssid=\"1\">Our segmentation algorithm takes a list of tokenized sentences as input.</S>\\n',\n",
       " '    <S sid=\"22\" ssid=\"2\">A tokenizer (Grefenstette and Tapanainen, 1994) and a sentence boundary disambiguation algorithm (Palmer and Hearst, 1994; Reynar and Ratnaparkhi, 1997) or EAGLE (Reynar et al., 1997) may be used to convert a plain text document into the acceptable input format.</S>\\n',\n",
       " '    <S sid=\"23\" ssid=\"3\">Punctuation and uninformative words are removed from each sentence using a simple regular expression pattern matcher and a stopword list.</S>\\n',\n",
       " '    <S sid=\"24\" ssid=\"4\">A stemming algorithm (Porter, 1980) is then applied to the remaining tokens to obtain the word stems.</S>\\n',\n",
       " '    <S sid=\"25\" ssid=\"5\">A dictionary of word stem frequencies is constructed for each sentence.</S>\\n',\n",
       " '    <S sid=\"26\" ssid=\"6\">This is represented as a vector of frequency counts.</S>\\n',\n",
       " '    <S sid=\"27\" ssid=\"7\">Let fi,i denote the frequency of word j in sentence i.</S>\\n',\n",
       " '    <S sid=\"28\" ssid=\"8\">The similarity between a pair of sentences :1:, y For short text segments, the absolute value of sim(x, y) is unreliable.</S>\\n',\n",
       " '    <S sid=\"29\" ssid=\"9\">An additional occurrence of a common word (reflected in the numerator) causes a disproportionate increase in sim(x, y) unless the denominator (related to segment length) is large.</S>\\n',\n",
       " '    <S sid=\"30\" ssid=\"10\">Thus, in the context of text segmentation where a segment has typically &lt; 100 informative tokens, one can only use the metric to estimate the order of similarity between sentences, e.g. a is more similar to b than c. Furthermore, language usage varies throughout a document.</S>\\n',\n",
       " '    <S sid=\"31\" ssid=\"11\">For instance, the introduction section of a document is less cohesive than a section which is about a particular topic.</S>\\n',\n",
       " '    <S sid=\"32\" ssid=\"12\">Consequently, it is inappropriate to directly compare the similarity values from different regions of the similarity matrix.</S>\\n',\n",
       " '    <S sid=\"33\" ssid=\"13\">In non-parametric statistical analysis, one compares the rank of data sets when the qualitative behaviour is similar but the absolute quantities are unreliable.</S>\\n',\n",
       " '    <S sid=\"34\" ssid=\"14\">We present a ranking scheme which is an adaptation of that described in (O\\'Neil and Denos, 1992).</S>\\n',\n",
       " '    <S sid=\"35\" ssid=\"15\">\\'The contrast of the image has been adjusted to highlight the image features.</S>\\n',\n",
       " '    <S sid=\"36\" ssid=\"16\">Each value in the similarity matrix is replaced by its rank in the local region.</S>\\n',\n",
       " '    <S sid=\"37\" ssid=\"17\">The rank is the number of neighbouring elements with a lower similarity value.</S>\\n',\n",
       " '    <S sid=\"38\" ssid=\"18\">Figure 2 shows an example of image ranking using a 3 x 3 rank mask with output range {0, 8).</S>\\n',\n",
       " '    <S sid=\"39\" ssid=\"19\">For segmentation, we used a 11 x 11 rank mask.</S>\\n',\n",
       " '    <S sid=\"40\" ssid=\"20\">The output is expressed as a ratio r (equation 2) to circumvent normalisation problems (consider the cases when the rank mask is not contained in the image).</S>\\n',\n",
       " '    <S sid=\"41\" ssid=\"21\"># of elements with a lower value To demonstrate the effect of image ranking, the process was applied to the matrix shown in figure 1 to produce figure 32.</S>\\n',\n",
       " '    <S sid=\"42\" ssid=\"22\">Notice the contrast has been improved significantly.</S>\\n',\n",
       " '    <S sid=\"43\" ssid=\"23\">Figure 4 illustrates the more subtle effects of our ranking scheme. r(x) is the rank (1 x 11 mask) of (x) which is a sine wave with decaying mean, amplitude and frequency (equation 3).</S>\\n',\n",
       " '    <S sid=\"44\" ssid=\"24\">The final process determines the location of the topic boundaries.</S>\\n',\n",
       " '    <S sid=\"45\" ssid=\"25\">The method is based on Reynar\\'s maximisation algorithm (Reynar, 1998; Helfman, 1996; Church, 1993; Church and Helfman, 1993).</S>\\n',\n",
       " '    <S sid=\"46\" ssid=\"26\">A text segment is defined by two sentences i, j (inclusive).</S>\\n',\n",
       " '    <S sid=\"47\" ssid=\"27\">This is represented as a square region along the diagonal of the rank matrix.</S>\\n',\n",
       " '    <S sid=\"48\" ssid=\"28\">Let si,j denote the sum of the rank values in a segment and ai,j = (j &#8212;i +1)2 be the inside area.</S>\\n',\n",
       " '    <S sid=\"49\" ssid=\"29\">B = {b1, ...,197-4 is a list of in coherent text segments. sk and ak refers to the sum of rank and area of segment k in B.</S>\\n',\n",
       " '    <S sid=\"50\" ssid=\"30\">D is the inside density of B (see equation 4). ak To initialise the process, the entire document is placed in B as one coherent text segment.</S>\\n',\n",
       " '    <S sid=\"51\" ssid=\"31\">Each step of the process splits one of the segments in B.</S>\\n',\n",
       " '    <S sid=\"52\" ssid=\"32\">The split point is a potential boundary which maximises D. Figure 5 shows a working example.</S>\\n',\n",
       " '    <S sid=\"53\" ssid=\"33\">The number of segments to generate, in, is determined automatically.</S>\\n',\n",
       " '    <S sid=\"54\" ssid=\"34\">Den) is the inside density of n segments and SD(n) , Den) Den-1) is the gradient.</S>\\n',\n",
       " '    <S sid=\"55\" ssid=\"35\">For a document with b potential boundaries, b steps of divisive clustering generates {D(1), ...,D(b+1)} and {bD(2), oD(b+1)} (see figure 6 and 7).</S>\\n',\n",
       " '    <S sid=\"56\" ssid=\"36\">An unusually large reduction in 6D suggests the optiinal clustering has been obtained3 (see n = 10 in the threshold, p+c x to dD (c= 1.2 works well in practice) The running time of each step is dominated by the computation of sk.</S>\\n',\n",
       " '    <S sid=\"57\" ssid=\"37\">Given si,j is constant, our algorithm pre-computes all the values to improve speed performance.</S>\\n',\n",
       " '    <S sid=\"58\" ssid=\"38\">The procedure computes the values along diagonals, starting from the main diagonal and works towards the corner.</S>\\n',\n",
       " '    <S sid=\"59\" ssid=\"39\">The method has a complexity of order 171-5.n2.</S>\\n',\n",
       " '    <S sid=\"60\" ssid=\"40\">Let ri,j refer to the rank value in the rank matrix R and S to the sum of rank matrix.</S>\\n',\n",
       " '    <S sid=\"61\" ssid=\"41\">Given R of size n X 77,, S is computed in three steps (see equation 5).</S>\\n',\n",
       " '    <S sid=\"62\" ssid=\"42\">Figure 8 shows the result of applying this procedure to the rank matrix in figure 5.</S>\\n',\n",
       " '  </SECTION>\\n',\n",
       " '  <SECTION title=\"4 Evaluation\" number=\"4\">\\n',\n",
       " '    <S sid=\"63\" ssid=\"1\">The definition of a topic segment ranges from complete stories (Allan et al., 1998) to summaries (Ponte and Croft, 1997).</S>\\n',\n",
       " '    <S sid=\"64\" ssid=\"2\">Given the quality of an algorithm is task dependent, the following experiments focus on the relative performance.</S>\\n',\n",
       " '    <S sid=\"65\" ssid=\"3\">Our evaluation strategy is a variant of that described in (Reynar, 1998, 71-73) and the TDT segmentation task (Allan et al., 1998).</S>\\n',\n",
       " '    <S sid=\"66\" ssid=\"4\">We assume a good algorithm is one that finds the most prominent topic boundaries.</S>\\n',\n",
       " '    <S sid=\"67\" ssid=\"5\">An artificial test corpus of 700 samples is used to assess the accuracy and speed performance of segmentation algorithms.</S>\\n',\n",
       " '    <S sid=\"68\" ssid=\"6\">A sample is a concatenation of ten text segments.</S>\\n',\n",
       " '    <S sid=\"69\" ssid=\"7\">A segment is the first n sentences of a randomly selected document from the Brown corpus\\'.</S>\\n',\n",
       " '    <S sid=\"70\" ssid=\"8\">A sample is characterised by the range of n. The corpus was generated by an automatic procedure5.</S>\\n',\n",
       " '    <S sid=\"71\" ssid=\"9\">Table 1 presents the corpus statistics. p(erroriref, hyp, k) = p(misslref, hyp, diff, k)p(diffl ref, k)+ (6) p(fairef, hyp, same, k)p(samelref, k) Speed performance is measured by the average number of CPU seconds required to process a test sample6.</S>\\n',\n",
       " '    <S sid=\"72\" ssid=\"10\">Segmentation accuracy is measured by the error metric (equation 6, fa false alarms) proposed in (Beeferman et al., 1999).</S>\\n',\n",
       " '    <S sid=\"73\" ssid=\"11\">Low error probability indicates high accuracy.</S>\\n',\n",
       " '    <S sid=\"74\" ssid=\"12\">Other performance measures include the popular precision and recall metric (PR) (Hearst, 1994), fuzzy PR (Reynar, 1998) and edit distance (Ponte and Croft, 1997).</S>\\n',\n",
       " '    <S sid=\"75\" ssid=\"13\">The problems associated with these metrics are discussed in (Beeferman et al., 1999).</S>\\n',\n",
       " '    <S sid=\"76\" ssid=\"14\">Five degenerate algorithms define the baseline for the experiments.</S>\\n',\n",
       " '    <S sid=\"77\" ssid=\"15\">B&#8222; does not propose any boundaries.</S>\\n',\n",
       " '    <S sid=\"78\" ssid=\"16\">B&#8222; reports all potential boundaries as real boundaries.</S>\\n',\n",
       " '    <S sid=\"79\" ssid=\"17\">B&#8222; partitions the sample into regular segments.</S>\\n',\n",
       " '    <S sid=\"80\" ssid=\"18\">B(i.,?) randomly selects any number of boundaries as real boundaries.</S>\\n',\n",
       " '    <S sid=\"81\" ssid=\"19\">B(r,b) randomly selects b boundaries as real boundaries.</S>\\n',\n",
       " '    <S sid=\"82\" ssid=\"20\">The accuracy of the last two algorithms are computed analytically.</S>\\n',\n",
       " '    <S sid=\"83\" ssid=\"21\">We consider the status of in potential boundaries as a bit string (1 -4 topic boundary).</S>\\n',\n",
       " '    <S sid=\"84\" ssid=\"22\">The terms p(iniss) awl p(fa) in equation 6 corresponds to p(samelk) and p(difflk) = 1 -p(samelk).</S>\\n',\n",
       " '    <S sid=\"85\" ssid=\"23\">Equation 7, 8 and 9 gives the general form of p(samelk), B(r,?) and Berm, respectively\\'.</S>\\n',\n",
       " '    <S sid=\"86\" ssid=\"24\">Table 2 presents the experimental results.</S>\\n',\n",
       " '    <S sid=\"87\" ssid=\"25\">The values in row two and three, four and five are not actually the same.</S>\\n',\n",
       " '    <S sid=\"88\" ssid=\"26\">However, their differences are insignificant according to the Kolmogorov-Smirnov, or KS-test (Press et al., 1992).</S>\\n',\n",
       " '    <S sid=\"89\" ssid=\"27\">We compare three versions of the TextTiling algorithm (Hearst, 1994).</S>\\n',\n",
       " '    <S sid=\"90\" ssid=\"28\">H94(c,d) is Hearst\\'s C implementation with default parameters.</S>\\n',\n",
       " '    <S sid=\"91\" ssid=\"29\">H94(e.7.) uses the recommended parameters k = 6, w = 20.</S>\\n',\n",
       " '    <S sid=\"92\" ssid=\"30\">H94(3,,,) is my implementation of the algorithm.</S>\\n',\n",
       " '    <S sid=\"93\" ssid=\"31\">Experimental result (table 3) shows H94(,,d) and H94(,,) are more accurate than H94(j,,,).</S>\\n',\n",
       " '    <S sid=\"94\" ssid=\"32\">We suspect this is due to the use of a different stopword list and stemming algorithm.</S>\\n',\n",
       " '    <S sid=\"95\" ssid=\"33\">Five versions of Reynar\\'s optimisation algorithm (Reynar, 1998) were evaluated.</S>\\n',\n",
       " '    <S sid=\"96\" ssid=\"34\">R98 and R98(7-&#8222;rn) are exact implementations of his maximisation and minimisation algorithm.</S>\\n',\n",
       " '    <S sid=\"97\" ssid=\"35\">R98(8,,08) is my version of the maximisation algorithm which uses the cosine coefficient instead of dot density for measuring similarity.</S>\\n',\n",
       " '    <S sid=\"98\" ssid=\"36\">It incorporates the optimisations described in section 3.4.</S>\\n',\n",
       " '    <S sid=\"99\" ssid=\"37\">R98(,&#8222;,d0t) is the modularised version of R98 for experimenting with different similarity measures.</S>\\n',\n",
       " '    <S sid=\"100\" ssid=\"38\">R98(,,,,&#8222;) uses a variant of Kozima\\'s semantic similarity measure (Kozima, 1993) to compute block similarity.</S>\\n',\n",
       " '    <S sid=\"101\" ssid=\"39\">Word similarity is a function of word cooccurrence statistics in the given document.</S>\\n',\n",
       " '    <S sid=\"102\" ssid=\"40\">Words that belong to the same sentence are considered to be related.</S>\\n',\n",
       " '    <S sid=\"103\" ssid=\"41\">Given the co-occurrence frequencies f (wi, wi), the transition probability matrix t is computed by equation 10.</S>\\n',\n",
       " '    <S sid=\"104\" ssid=\"42\">Equation 11 defines our spread activation scheme. s denotes the word similarity matrix, x is the number of activation steps and norm(y) converts a matrix y into a transition matrix. x = 5 was used in the experiment.</S>\\n',\n",
       " '    <S sid=\"105\" ssid=\"43\">Experimental result (table 4) shows the cosine coefficient and our spread activation method improved segmentation accuracy.</S>\\n',\n",
       " '    <S sid=\"106\" ssid=\"44\">The speed optimisations significantly reduced the execution time.</S>\\n',\n",
       " '    <S sid=\"107\" ssid=\"45\">We compare three versions of Segmenter (Kan et at, 1998).</S>\\n',\n",
       " '    <S sid=\"108\" ssid=\"46\">K98(p) is the original Perl implementation of the algorithm (version 1.6).</S>\\n',\n",
       " '    <S sid=\"109\" ssid=\"47\">K98(i) is my implementation of the algorithm.</S>\\n',\n",
       " '    <S sid=\"110\" ssid=\"48\">K98(j,,i) is a version of K98(i) which uses a document specific chain breaking strategy.</S>\\n',\n",
       " '    <S sid=\"111\" ssid=\"49\">The distribution of link distances are used to identify unusually long links.</S>\\n',\n",
       " '    <S sid=\"112\" ssid=\"50\">The threshold is a function p + c x VT, of the mean p and variance We found c = 1 works well in practice.</S>\\n',\n",
       " '    <S sid=\"113\" ssid=\"51\">Table 5 summarises the experimental results.</S>\\n',\n",
       " '    <S sid=\"114\" ssid=\"52\">K98 performed performed significantly better than K98(J,).</S>\\n',\n",
       " '    <S sid=\"115\" ssid=\"53\">This is due to the use of a different part-of-speech tagger and shallow parser.</S>\\n',\n",
       " '    <S sid=\"116\" ssid=\"54\">The difference in speed is largely due to the programming languages and term clustering strategies.</S>\\n',\n",
       " '    <S sid=\"117\" ssid=\"55\">Our chain breaking strategy improved accuracy (compare K98(i) with K98(j,a))&#8226; Two versions of our algorithm were developed, C99 and C99(b).</S>\\n',\n",
       " '    <S sid=\"118\" ssid=\"56\">The former is an exact implementation of the algorithm described in this paper.</S>\\n',\n",
       " '    <S sid=\"119\" ssid=\"57\">The latter is given the expected number of topic segments for fair comparison with R98.</S>\\n',\n",
       " '    <S sid=\"120\" ssid=\"58\">Both algorithms used a 11 x 11 ranking mask.</S>\\n',\n",
       " '    <S sid=\"121\" ssid=\"59\">The first experiment focuses on the impact of our automatic termination strategy on C99(b) (table 6).</S>\\n',\n",
       " '    <S sid=\"122\" ssid=\"60\">C99(b) is marginally more accurate than C99.</S>\\n',\n",
       " '    <S sid=\"123\" ssid=\"61\">This indicates our automatic termination strategy is effective but not optimal.</S>\\n',\n",
       " '    <S sid=\"124\" ssid=\"62\">The minor reduction in speed performance is acceptable.</S>\\n',\n",
       " '    <S sid=\"125\" ssid=\"63\">The second experiment investigates the effect of different ranking mask size on the performance of C99 (table 7).</S>\\n',\n",
       " '    <S sid=\"126\" ssid=\"64\">Execution time increases with mask size.</S>\\n',\n",
       " '    <S sid=\"127\" ssid=\"65\">A 1 x 1 ranking mask reduces all the elements in the rank matrix to zero.</S>\\n',\n",
       " '    <S sid=\"128\" ssid=\"66\">Interestingly, the increase in ranking mask size beyond 3 x 3 has insignificant effect on segmentation accuracy.</S>\\n',\n",
       " '    <S sid=\"129\" ssid=\"67\">This suggests the use of extrema for clustering has a greater impact on accuracy than linearising the similarity scores (figure 4).</S>\\n',\n",
       " '    <S sid=\"130\" ssid=\"68\">Experimental result (table 8) shows our algorithm C99 is more accurate than existing algorithms.</S>\\n',\n",
       " '    <S sid=\"131\" ssid=\"69\">A two-fold increase in accuracy and seven-fold increase in speed was achieved (compare C99(b) with R98).</S>\\n',\n",
       " '    <S sid=\"132\" ssid=\"70\">If one disregards segmentation accuracy, H94 has the best algorithmic performance (linear).</S>\\n',\n",
       " '    <S sid=\"133\" ssid=\"71\">C99, K98 and R98 are all polynomial time algorithms.</S>\\n',\n",
       " '    <S sid=\"134\" ssid=\"72\">The significance of our results has been confirmed by both t-test and KS-test.</S>\\n',\n",
       " '  </SECTION>\\n',\n",
       " '  <SECTION title=\"5 Conclusions and future work\" number=\"5\">\\n',\n",
       " '    <S sid=\"135\" ssid=\"1\">A segmentation algorithm has two key elements, a, clustering strategy and a similarity measure.</S>\\n',\n",
       " '    <S sid=\"136\" ssid=\"2\">Our results show divisive clustering (R98) is more precise than sliding window (H94) and lexical chains (K98) for locating topic boundaries.</S>\\n',\n",
       " '    <S sid=\"137\" ssid=\"3\">Four similarity measures were examined.</S>\\n',\n",
       " '    <S sid=\"138\" ssid=\"4\">The cosine coefficient (R98(s,&#8222;0) and dot density measure (R98(m,doo ) yield similar results.</S>\\n',\n",
       " '    <S sid=\"139\" ssid=\"5\">Our spread activation based semantic measure (R98(&#8222;,sa)) improved accuracy.</S>\\n',\n",
       " '    <S sid=\"140\" ssid=\"6\">This confirms that although Kozima\\'s approach (Kozima, 1993) is computationally expensive, it does produce more precise segmentation.</S>\\n',\n",
       " '    <S sid=\"141\" ssid=\"7\">The most significant improvement was due to our ranking scheme which linearises the cosine coefficient,.</S>\\n',\n",
       " '    <S sid=\"142\" ssid=\"8\">Our experiments demonstrate that given insufficient data, the qualitative behaviour of the cosine measure is indeed more reliable than the actual values.</S>\\n',\n",
       " '    <S sid=\"143\" ssid=\"9\">Although our evaluation scheme is sufficient for this comparative study, further research requires a large scale, task independent benchmark.</S>\\n',\n",
       " '    <S sid=\"144\" ssid=\"10\">It would be interesting to compare C99 with the multi-source method described in (Beeferman et al., 1999) using the TDT corpus.</S>\\n',\n",
       " '    <S sid=\"145\" ssid=\"11\">We would also like to develop a linear time and multi-source version of the algorithm.</S>\\n',\n",
       " '  </SECTION>\\n',\n",
       " '  <SECTION title=\"Acknowledgements\" number=\"6\">\\n',\n",
       " '    <S sid=\"146\" ssid=\"1\">This paper has benefitted from the comments of Mary McGee Wood and the anonymous reviewers.</S>\\n',\n",
       " '    <S sid=\"147\" ssid=\"2\">Thanks are due to my parents and department for making this work possible; Jeffrey Reynar for discussions and guidance on the segmentation problem; Hideki Kozima for help on the spread activation measure; Min-Yen Kan and Marti Hearst for their segmentation algorithms; Daniel Oram for references to image processing techniques; Magnus Rattray and Stephen Marsland for help on statistics and mathematics.</S>\\n',\n",
       " '  </SECTION>\\n',\n",
       " '</PAPER>\\n']"
      ]
     },
     "execution_count": 6,
     "metadata": {},
     "output_type": "execute_result"
    }
   ],
   "source": [
    "paper1"
   ]
  },
  {
   "cell_type": "code",
   "execution_count": 7,
   "metadata": {
    "ExecuteTime": {
     "end_time": "2022-10-17T00:17:01.864996Z",
     "start_time": "2022-10-17T00:17:01.784639Z"
    }
   },
   "outputs": [],
   "source": [
    "summary1= lines3[2]"
   ]
  },
  {
   "cell_type": "code",
   "execution_count": 8,
   "metadata": {
    "ExecuteTime": {
     "end_time": "2022-10-17T00:17:02.144977Z",
     "start_time": "2022-10-17T00:17:01.864996Z"
    }
   },
   "outputs": [
    {
     "data": {
      "text/plain": [
       "['Advances In Domain Independent Linear Text Segmentation\\n',\n",
       " 'This paper describes a method for linear text segmentation which is twice as accurate and over seven times as fast as the state-of-the-art (Reynar, 1998).\\n',\n",
       " 'Inter-sentence similarity is replaced by rank in the local context.\\n',\n",
       " 'Boundary locations are discovered by divisive clustering.\\n',\n",
       " 'We design an artificial dataset, built by concatenating short pieces of texts that have been extracted from the Brown corpus.\\n']"
      ]
     },
     "execution_count": 8,
     "metadata": {},
     "output_type": "execute_result"
    }
   ],
   "source": [
    "summary1"
   ]
  },
  {
   "cell_type": "markdown",
   "metadata": {
    "ExecuteTime": {
     "end_time": "2022-10-10T00:51:16.847646Z",
     "start_time": "2022-10-10T00:51:16.813741Z"
    }
   },
   "source": [
    "lista3=[]\n",
    "lines2=''\n",
    "for i in range(len(paper1)):\n",
    "    for j in paper1[i]:\n",
    "        lines2= lines2+j\n",
    "    lista3.append(lines2)"
   ]
  },
  {
   "cell_type": "code",
   "execution_count": 9,
   "metadata": {
    "ExecuteTime": {
     "end_time": "2022-10-17T00:17:02.164659Z",
     "start_time": "2022-10-17T00:17:02.144977Z"
    }
   },
   "outputs": [],
   "source": [
    "texto=''\n",
    "for i in paper1:\n",
    "    texto = texto + str(i)"
   ]
  },
  {
   "cell_type": "code",
   "execution_count": 10,
   "metadata": {
    "ExecuteTime": {
     "end_time": "2022-10-17T00:17:02.195009Z",
     "start_time": "2022-10-17T00:17:02.164659Z"
    }
   },
   "outputs": [],
   "source": [
    "def preprocessa_intro(corpus: str):\n",
    "    regIter = re.finditer('(<SECTION.*Introduction.*?>(.*)<\\/SECTION>)', corpus, re.DOTALL|re.MULTILINE)\n",
    "    textos = [ t.group(2) for t in regIter]\n",
    "    lista = []\n",
    "    for texto in textos:\n",
    "        txt = re.sub('\\\\n',' ', texto)\n",
    "        txt = re.sub(',','', txt)\n",
    "        txt = re.sub(';','', txt)\n",
    "        txt = re.sub(':','', txt)\n",
    "        txt = re.sub('[ ]+',' ', txt)\n",
    "        txt = re.sub(r'\\([^)]*\\)', \"\",txt)\n",
    "        txt = re.sub(r'\\<(.*?)\\>',\"\",txt)\n",
    "        txt = re.sub(r'small\\&',\"\",txt)\n",
    "        txt = re.sub(r'tagger&amp',\"\",txt)\n",
    "        txt = re.sub(r';quot',\"\",txt)\n",
    "        txt = re.sub(r'\\&amp',\"\",txt)\n",
    "        txt = re.sub(' +', ' ', txt)\n",
    "        txt = txt.lower()\n",
    "        #txt = '<sos> ' + txt.strip() + ' <eos>'\n",
    "        txt = txt.strip()\n",
    "        txt = re.sub(' . ', '.', txt).strip()\n",
    "        #txt = '<sos> ' + txt.strip() + ' <eos>'\n",
    "        return txt\n",
    "    return txt\n",
    "\n",
    "def preprocessa_abstract(corpus: str):\n",
    "    regIter = re.finditer(\"(<ABSTRACT>)(.+?)(</ABSTRACT>)\", corpus, re.DOTALL|re.MULTILINE)\n",
    "    textos = [ t.group(2) for t in regIter]\n",
    "    lista = []\n",
    "    for texto in textos:\n",
    "        txt = re.sub('\\\\n',' ', texto)\n",
    "        txt = re.sub(',','', txt)\n",
    "        txt = re.sub(';',' ;', txt)\n",
    "        txt = re.sub('[ ]+',' ', txt)\n",
    "        txt = re.sub(r'\\([^)]*\\)', \"\",txt)\n",
    "        txt = re.sub(r'\\<(.*?)\\>',\"\",txt)\n",
    "        txt = txt.lower()\n",
    "        txt = re.sub(' . ', '.', txt).strip()\n",
    "        #txt = '<sos> ' + txt.strip() + ' <eos>'\n",
    "        lista.append(txt)\n",
    "    return txt\n",
    "\n",
    "\n",
    "def preprocessa_conclusion(corpus: str):\n",
    "    regIter = re.finditer('(<SECTION.*Conclusion.*?>(.*)<\\/SECTION>)', corpus, re.DOTALL|re.MULTILINE)\n",
    "    textos = [ t.group(2) for t in regIter]\n",
    "    lista = []\n",
    "    for texto in textos:\n",
    "        txt = re.sub('\\\\n',' ', texto)\n",
    "        txt = re.sub(',','', txt)\n",
    "        txt = re.sub(';','', txt)\n",
    "        txt = re.sub(':','', txt)\n",
    "        txt = re.sub('[ ]+',' ', txt)\n",
    "        txt = re.sub(r'\\([^)]*\\)', \"\",txt)\n",
    "        txt = re.sub(r'\\<(.*?)\\>',\"\",txt)\n",
    "        txt = re.sub(r'small\\&',\"\",txt)\n",
    "        txt = re.sub(r'tagger&amp',\"\",txt)\n",
    "        txt = re.sub(r';quot',\"\",txt)\n",
    "        txt = re.sub(r'\\&amp',\"\",txt)\n",
    "        txt = re.sub(' +', ' ', txt)\n",
    "        txt = txt.lower()\n",
    "        txt = re.sub(' . ', '.', txt).strip()\n",
    "        #txt = '<sos> ' + txt.strip() + ' <eos>'\n",
    "        txt = txt.strip()\n",
    "        #txt = '<sos> ' + txt.strip() + ' <eos>'\n",
    "        return txt\n",
    "    return txt"
   ]
  },
  {
   "cell_type": "code",
   "execution_count": 11,
   "metadata": {
    "ExecuteTime": {
     "end_time": "2022-10-17T00:17:02.225050Z",
     "start_time": "2022-10-17T00:17:02.195009Z"
    }
   },
   "outputs": [],
   "source": [
    "def remove_values_from_list(the_list, val):\n",
    "    return [value for value in the_list if value != val]"
   ]
  },
  {
   "cell_type": "code",
   "execution_count": 12,
   "metadata": {
    "ExecuteTime": {
     "end_time": "2022-10-17T00:17:02.254923Z",
     "start_time": "2022-10-17T00:17:02.225050Z"
    }
   },
   "outputs": [],
   "source": [
    "abstract   = preprocessa_abstract(texto)\n",
    "intro      = preprocessa_intro(texto)\n",
    "conclusion = preprocessa_conclusion(texto)"
   ]
  },
  {
   "cell_type": "code",
   "execution_count": 13,
   "metadata": {
    "ExecuteTime": {
     "end_time": "2022-10-17T00:17:02.335099Z",
     "start_time": "2022-10-17T00:17:02.254923Z"
    }
   },
   "outputs": [],
   "source": [
    "token_abstract   = preprocessa_abstract(texto).split()\n",
    "token_intro      = preprocessa_intro(texto).split()\n",
    "token_conclusion = preprocessa_conclusion(texto).split()"
   ]
  },
  {
   "cell_type": "code",
   "execution_count": 14,
   "metadata": {
    "ExecuteTime": {
     "end_time": "2022-10-17T00:17:02.354834Z",
     "start_time": "2022-10-17T00:17:02.339164Z"
    }
   },
   "outputs": [],
   "source": [
    "tokens = [token_abstract+token_intro+token_conclusion]"
   ]
  },
  {
   "cell_type": "code",
   "execution_count": 15,
   "metadata": {
    "ExecuteTime": {
     "end_time": "2022-10-17T00:17:02.414761Z",
     "start_time": "2022-10-17T00:17:02.354834Z"
    }
   },
   "outputs": [],
   "source": [
    "model = Word2Vec(tokens, min_count=1)"
   ]
  },
  {
   "cell_type": "code",
   "execution_count": 16,
   "metadata": {
    "ExecuteTime": {
     "end_time": "2022-10-17T00:17:02.425036Z",
     "start_time": "2022-10-17T00:17:02.414761Z"
    }
   },
   "outputs": [
    {
     "data": {
      "text/plain": [
       "798"
      ]
     },
     "execution_count": 16,
     "metadata": {},
     "output_type": "execute_result"
    }
   ],
   "source": [
    "len(model.wv.key_to_index)"
   ]
  },
  {
   "cell_type": "markdown",
   "metadata": {
    "ExecuteTime": {
     "end_time": "2022-10-14T22:10:22.891664Z",
     "start_time": "2022-10-14T22:10:22.831824Z"
    }
   },
   "source": [
    "model.wv.key_to_index"
   ]
  },
  {
   "cell_type": "markdown",
   "metadata": {},
   "source": [
    "frases_abstract = abstract.split('.')\n",
    "palavras_frases=[]\n",
    "for i in frases_abstract:\n",
    "    palavras_frases.append(i.split(' '))\n",
    "palavras_frases"
   ]
  },
  {
   "cell_type": "code",
   "execution_count": 17,
   "metadata": {
    "ExecuteTime": {
     "end_time": "2022-10-17T00:17:02.434829Z",
     "start_time": "2022-10-17T00:17:02.425036Z"
    }
   },
   "outputs": [],
   "source": [
    "def funcao_frase_palavra(abstract):\n",
    "    \"\"\"input: lista de frases\n",
    "        output: lista de palavras de cada frase\"\"\"\n",
    "    frases_abstract = abstract.split('.')\n",
    "    palavras_frases=[]\n",
    "    for i in frases_abstract:\n",
    "        palavras_frases.append(i.split(' '))\n",
    "    try:\n",
    "        palavras_frases.remove('')\n",
    "    except:\n",
    "        return palavras_frases\n",
    "    return palavras_frases"
   ]
  },
  {
   "cell_type": "code",
   "execution_count": 18,
   "metadata": {
    "ExecuteTime": {
     "end_time": "2022-10-17T00:17:02.454969Z",
     "start_time": "2022-10-17T00:17:02.434829Z"
    }
   },
   "outputs": [],
   "source": [
    "def vetor_frases(palavras_frases):\n",
    "    \"\"\"input: lista de palavras de cada frase\n",
    "        output: lista de vetores de cada frase\"\"\"\n",
    "    x=[]\n",
    "    for i in palavras_frases:\n",
    "        soma=0\n",
    "        for j in i:\n",
    "            try:\n",
    "                soma = soma +model.wv[j]\n",
    "            except:\n",
    "                soma=soma+0\n",
    "        x.append(soma)\n",
    "    return x"
   ]
  },
  {
   "cell_type": "code",
   "execution_count": 19,
   "metadata": {
    "ExecuteTime": {
     "end_time": "2022-10-17T00:17:02.464718Z",
     "start_time": "2022-10-17T00:17:02.454969Z"
    }
   },
   "outputs": [],
   "source": [
    "def funcao_sim_coseno(a,b):\n",
    "    valor_coseno = (numpy.dot(a, b))/(numpy.linalg.norm(a)* numpy.linalg.norm(b))\n",
    "    if valor_coseno is None:\n",
    "        return 0\n",
    "    else:\n",
    "        return valor_coseno"
   ]
  },
  {
   "cell_type": "code",
   "execution_count": 20,
   "metadata": {
    "ExecuteTime": {
     "end_time": "2022-10-17T00:17:02.484669Z",
     "start_time": "2022-10-17T00:17:02.464718Z"
    }
   },
   "outputs": [],
   "source": [
    "frases_abstract   = abstract.split('.')\n",
    "palavras_abstract = funcao_frase_palavra(abstract)\n",
    "palavras_abstract = remove_values_from_list(palavras_abstract, [''])\n",
    "vetor_abstract    = vetor_frases(palavras_abstract)"
   ]
  },
  {
   "cell_type": "code",
   "execution_count": 21,
   "metadata": {
    "ExecuteTime": {
     "end_time": "2022-10-17T00:17:02.504997Z",
     "start_time": "2022-10-17T00:17:02.486700Z"
    }
   },
   "outputs": [],
   "source": [
    "frases_intro   = intro.split('.')\n",
    "palavras_intro = funcao_frase_palavra(intro)\n",
    "palavras_intro = remove_values_from_list(palavras_intro, [''])\n",
    "vetor_intro    = vetor_frases(palavras_intro)"
   ]
  },
  {
   "cell_type": "code",
   "execution_count": 22,
   "metadata": {
    "ExecuteTime": {
     "end_time": "2022-10-17T00:17:02.524961Z",
     "start_time": "2022-10-17T00:17:02.504997Z"
    }
   },
   "outputs": [],
   "source": [
    "frases_conclusion   = conclusion.split('.')\n",
    "palavras_conclusion = funcao_frase_palavra(conclusion)\n",
    "palavras_conclusion = remove_values_from_list(palavras_conclusion, [''])\n",
    "vetor_conclusion    = vetor_frases(palavras_conclusion)"
   ]
  },
  {
   "cell_type": "code",
   "execution_count": 23,
   "metadata": {
    "ExecuteTime": {
     "end_time": "2022-10-17T00:17:02.544646Z",
     "start_time": "2022-10-17T00:17:02.524961Z"
    }
   },
   "outputs": [],
   "source": [
    "def funcao_sim_coseno(a,b):\n",
    "    if ((numpy.linalg.norm(a)==0) |(numpy.linalg.norm(b)==0)):\n",
    "        return 0\n",
    "    else:\n",
    "        valor_coseno = (numpy.dot(a, b))/(numpy.linalg.norm(a)* numpy.linalg.norm(b))\n",
    "        return valor_coseno"
   ]
  },
  {
   "cell_type": "code",
   "execution_count": 24,
   "metadata": {
    "ExecuteTime": {
     "end_time": "2022-10-17T00:17:02.554701Z",
     "start_time": "2022-10-17T00:17:02.549653Z"
    }
   },
   "outputs": [
    {
     "data": {
      "text/plain": [
       "4"
      ]
     },
     "execution_count": 24,
     "metadata": {},
     "output_type": "execute_result"
    }
   ],
   "source": [
    "len(vetor_abstract)"
   ]
  },
  {
   "cell_type": "code",
   "execution_count": 25,
   "metadata": {
    "ExecuteTime": {
     "end_time": "2022-10-17T00:17:02.575136Z",
     "start_time": "2022-10-17T00:17:02.554701Z"
    }
   },
   "outputs": [
    {
     "data": {
      "text/plain": [
       "269"
      ]
     },
     "execution_count": 25,
     "metadata": {},
     "output_type": "execute_result"
    }
   ],
   "source": [
    "len(vetor_intro)"
   ]
  },
  {
   "cell_type": "code",
   "execution_count": 26,
   "metadata": {
    "ExecuteTime": {
     "end_time": "2022-10-17T00:17:02.594949Z",
     "start_time": "2022-10-17T00:17:02.575136Z"
    }
   },
   "outputs": [],
   "source": [
    "def dicionario_similaridade(vetor_a,vetor_b):\n",
    "    \"\"\"Input: vetor correspondente às frases das seções a e b\n",
    "    Output: \n",
    "    \"\"\"\n",
    "    dicionario={}\n",
    "    for i in range(len(vetor_a)):\n",
    "        for j in range(len(vetor_b)):\n",
    "            dicionario[i,j]= funcao_sim_coseno(vetor_a[i],vetor_b[j])\n",
    "    return dicionario"
   ]
  },
  {
   "cell_type": "code",
   "execution_count": 27,
   "metadata": {
    "ExecuteTime": {
     "end_time": "2022-10-17T00:17:02.664754Z",
     "start_time": "2022-10-17T00:17:02.600601Z"
    }
   },
   "outputs": [],
   "source": [
    "dicionario = dicionario_similaridade(vetor_abstract, vetor_intro)"
   ]
  },
  {
   "cell_type": "code",
   "execution_count": 28,
   "metadata": {
    "ExecuteTime": {
     "end_time": "2022-10-17T00:17:02.755084Z",
     "start_time": "2022-10-17T00:17:02.664754Z"
    }
   },
   "outputs": [
    {
     "data": {
      "text/plain": [
       "{(0, 0): 0.18698132,\n",
       " (0, 1): 0.31748244,\n",
       " (0, 2): 0.41978619,\n",
       " (0, 3): 0.5768641,\n",
       " (0, 4): -0.0010114287,\n",
       " (0, 5): 0.22411558,\n",
       " (0, 6): 0.36146435,\n",
       " (0, 7): 0.26999545,\n",
       " (0, 8): 0.3545784,\n",
       " (0, 9): 0.062535144,\n",
       " (0, 10): 0.13475116,\n",
       " (0, 11): 0.31968787,\n",
       " (0, 12): 0.2666547,\n",
       " (0, 13): -0.00047176675,\n",
       " (0, 14): 0.2519467,\n",
       " (0, 15): 0.25906244,\n",
       " (0, 16): 0.21608771,\n",
       " (0, 17): 0.14200792,\n",
       " (0, 18): 0.13753152,\n",
       " (0, 19): 0.4593475,\n",
       " (0, 20): 0.35359693,\n",
       " (0, 21): 0.18104412,\n",
       " (0, 22): 0.25255957,\n",
       " (0, 23): 0.15913786,\n",
       " (0, 24): 0.22331819,\n",
       " (0, 25): 0.19213398,\n",
       " (0, 26): 0.24525656,\n",
       " (0, 27): 0.11547595,\n",
       " (0, 28): 0.10146417,\n",
       " (0, 29): 0.23384567,\n",
       " (0, 30): 0.37664807,\n",
       " (0, 31): 0.575559,\n",
       " (0, 32): 0.17210668,\n",
       " (0, 33): 0.081433564,\n",
       " (0, 34): 0.2004906,\n",
       " (0, 35): 0.19331047,\n",
       " (0, 36): 0.26600462,\n",
       " (0, 37): 0.36050668,\n",
       " (0, 38): 0.0007179894,\n",
       " (0, 39): -0.15909173,\n",
       " (0, 40): 0.3383465,\n",
       " (0, 41): 0.28760174,\n",
       " (0, 42): 0.24824803,\n",
       " (0, 43): 0,\n",
       " (0, 44): 0.33818468,\n",
       " (0, 45): 0.34029472,\n",
       " (0, 46): 0.22746594,\n",
       " (0, 47): 0.08692484,\n",
       " (0, 48): 0.29131323,\n",
       " (0, 49): 0.38039285,\n",
       " (0, 50): 0.22346292,\n",
       " (0, 51): -0.03964928,\n",
       " (0, 52): 0.27206817,\n",
       " (0, 53): 0.33566645,\n",
       " (0, 54): -0.0010114287,\n",
       " (0, 55): 0.3134706,\n",
       " (0, 56): 0.274609,\n",
       " (0, 57): 0.33130342,\n",
       " (0, 58): 0.3419218,\n",
       " (0, 59): 0.14922184,\n",
       " (0, 60): 0.031934593,\n",
       " (0, 61): 0.31603736,\n",
       " (0, 62): 0,\n",
       " (0, 63): 0.22257735,\n",
       " (0, 64): 0.23364522,\n",
       " (0, 65): -0.015348689,\n",
       " (0, 66): 0.101927646,\n",
       " (0, 67): 0.3082724,\n",
       " (0, 68): 0,\n",
       " (0, 69): 0.10082449,\n",
       " (0, 70): 0.28274834,\n",
       " (0, 71): 0.2717225,\n",
       " (0, 72): 0.08253237,\n",
       " (0, 73): 0.12988809,\n",
       " (0, 74): 0.031934593,\n",
       " (0, 75): 0.2992851,\n",
       " (0, 76): 0.3427304,\n",
       " (0, 77): 0.23309417,\n",
       " (0, 78): 0.25869825,\n",
       " (0, 79): 0.24466158,\n",
       " (0, 80): 0.32764626,\n",
       " (0, 81): 0,\n",
       " (0, 82): 0.575559,\n",
       " (0, 83): 0.14899915,\n",
       " (0, 84): 0.30082086,\n",
       " (0, 85): 0.13621569,\n",
       " (0, 86): 0.20325293,\n",
       " (0, 87): 0.11478787,\n",
       " (0, 88): 0.34804645,\n",
       " (0, 89): 0.23905362,\n",
       " (0, 90): 0.24742766,\n",
       " (0, 91): 0.24257618,\n",
       " (0, 92): 0.34401664,\n",
       " (0, 93): 0.27158067,\n",
       " (0, 94): 0.081060156,\n",
       " (0, 95): 0.28841698,\n",
       " (0, 96): 0.23805934,\n",
       " (0, 97): 0.031032052,\n",
       " (0, 98): 0.031934593,\n",
       " (0, 99): 0.11668459,\n",
       " (0, 100): -0.055706646,\n",
       " (0, 101): 0.25706264,\n",
       " (0, 102): 0.32463074,\n",
       " (0, 103): 0.21328941,\n",
       " (0, 104): 0.23546822,\n",
       " (0, 105): 0.19483876,\n",
       " (0, 106): 0.08377909,\n",
       " (0, 107): 0.24332762,\n",
       " (0, 108): -0.005619501,\n",
       " (0, 109): 0.35189325,\n",
       " (0, 110): 0.38869452,\n",
       " (0, 111): 0.2256668,\n",
       " (0, 112): 0.16126087,\n",
       " (0, 113): 0.072565995,\n",
       " (0, 114): 0,\n",
       " (0, 115): 0.21894458,\n",
       " (0, 116): 0.15913786,\n",
       " (0, 117): 0.23534375,\n",
       " (0, 118): 0.17638361,\n",
       " (0, 119): 0.08750181,\n",
       " (0, 120): 0,\n",
       " (0, 121): 0.3978735,\n",
       " (0, 122): 0.031934593,\n",
       " (0, 123): 0.38699514,\n",
       " (0, 124): 0.252169,\n",
       " (0, 125): 0.07688238,\n",
       " (0, 126): 0.31065145,\n",
       " (0, 127): 0.26757318,\n",
       " (0, 128): 0.3150482,\n",
       " (0, 129): -0.0010114287,\n",
       " (0, 130): 0.1726434,\n",
       " (0, 131): 0.31018928,\n",
       " (0, 132): 0.36412114,\n",
       " (0, 133): 0.10214032,\n",
       " (0, 134): 0.2714347,\n",
       " (0, 135): 0.26600462,\n",
       " (0, 136): 0.25243074,\n",
       " (0, 137): 0.39632547,\n",
       " (0, 138): 0.19714402,\n",
       " (0, 139): 0,\n",
       " (0, 140): 0.1065934,\n",
       " (0, 141): 0.32731348,\n",
       " (0, 142): -0.1182388,\n",
       " (0, 143): 0.30656564,\n",
       " (0, 144): -0.09834795,\n",
       " (0, 145): 0.3220152,\n",
       " (0, 146): 0.33271915,\n",
       " (0, 147): 0.31015602,\n",
       " (0, 148): 0.096832365,\n",
       " (0, 149): 0.15894891,\n",
       " (0, 150): 0.2798896,\n",
       " (0, 151): 0.18074384,\n",
       " (0, 152): -0.12936726,\n",
       " (0, 153): 0.20359385,\n",
       " (0, 154): 0.22127739,\n",
       " (0, 155): 0.32053488,\n",
       " (0, 156): 0,\n",
       " (0, 157): 0.22726253,\n",
       " (0, 158): 0,\n",
       " (0, 159): 0.10387087,\n",
       " (0, 160): 0.087038554,\n",
       " (0, 161): 0.15913786,\n",
       " (0, 162): 0,\n",
       " (0, 163): 0,\n",
       " (0, 164): -0.14018571,\n",
       " (0, 165): 0.15913786,\n",
       " (0, 166): 0.20501973,\n",
       " (0, 167): 0.12087989,\n",
       " (0, 168): 0,\n",
       " (0, 169): 0.0672673,\n",
       " (0, 170): 0.3322532,\n",
       " (0, 171): 0.2273218,\n",
       " (0, 172): 0.25395992,\n",
       " (0, 173): 0.36412695,\n",
       " (0, 174): 0.08018297,\n",
       " (0, 175): 0.21343708,\n",
       " (0, 176): 0,\n",
       " (0, 177): 0,\n",
       " (0, 178): 0,\n",
       " (0, 179): 0.30324364,\n",
       " (0, 180): 0.31915033,\n",
       " (0, 181): 0.43194732,\n",
       " (0, 182): 0.18825455,\n",
       " (0, 183): 0.14329183,\n",
       " (0, 184): 0.16575731,\n",
       " (0, 185): 0.2895642,\n",
       " (0, 186): 0.21696658,\n",
       " (0, 187): 0,\n",
       " (0, 188): 0.3226574,\n",
       " (0, 189): 0.090224154,\n",
       " (0, 190): 0.21924782,\n",
       " (0, 191): 0.11736077,\n",
       " (0, 192): 0.18293253,\n",
       " (0, 193): 0.19956286,\n",
       " (0, 194): 0.30698904,\n",
       " (0, 195): 0.09445379,\n",
       " (0, 196): 0.19217658,\n",
       " (0, 197): 0.09628563,\n",
       " (0, 198): 0.04522405,\n",
       " (0, 199): 0.31327525,\n",
       " (0, 200): -0.035604753,\n",
       " (0, 201): 0.30899101,\n",
       " (0, 202): -0.044499498,\n",
       " (0, 203): 0,\n",
       " (0, 204): 0.26075003,\n",
       " (0, 205): 0.25871584,\n",
       " (0, 206): 0.3381122,\n",
       " (0, 207): 0.23228985,\n",
       " (0, 208): 0.2604827,\n",
       " (0, 209): 0.28489247,\n",
       " (0, 210): 0.3219648,\n",
       " (0, 211): 0.2055614,\n",
       " (0, 212): 0.26082677,\n",
       " (0, 213): 0.26449773,\n",
       " (0, 214): 0.30918515,\n",
       " (0, 215): 0,\n",
       " (0, 216): 0,\n",
       " (0, 217): 0.2367669,\n",
       " (0, 218): 0.007872993,\n",
       " (0, 219): 0,\n",
       " (0, 220): -0.073180765,\n",
       " (0, 221): 0,\n",
       " (0, 222): 0.0672673,\n",
       " (0, 223): 0.2342595,\n",
       " (0, 224): 0.49519765,\n",
       " (0, 225): 0.16885024,\n",
       " (0, 226): 0.30709922,\n",
       " (0, 227): 0.31957293,\n",
       " (0, 228): 0.52434176,\n",
       " (0, 229): 0.34730685,\n",
       " (0, 230): 0.17467338,\n",
       " (0, 231): -0.015348689,\n",
       " (0, 232): 0.12812653,\n",
       " (0, 233): 0.3050396,\n",
       " (0, 234): 0.30097488,\n",
       " (0, 235): 0.35954532,\n",
       " (0, 236): 0.368847,\n",
       " (0, 237): 0.3048155,\n",
       " (0, 238): 0.166953,\n",
       " (0, 239): 0,\n",
       " (0, 240): 0.23027,\n",
       " (0, 241): 0.31670433,\n",
       " (0, 242): 0,\n",
       " (0, 243): 0.22167972,\n",
       " (0, 244): 0.4007095,\n",
       " (0, 245): 0.30748466,\n",
       " (0, 246): 0.24514438,\n",
       " (0, 247): 0.3118345,\n",
       " (0, 248): 0.21044357,\n",
       " (0, 249): 0.21087955,\n",
       " (0, 250): 0.2454848,\n",
       " (0, 251): 0.11343461,\n",
       " (0, 252): 0.13558297,\n",
       " (0, 253): 0.114904344,\n",
       " (0, 254): 0.3164524,\n",
       " (0, 255): 0.06724528,\n",
       " (0, 256): 0.23069417,\n",
       " (0, 257): 0.19042166,\n",
       " (0, 258): 0.07874766,\n",
       " (0, 259): 0.36211255,\n",
       " (0, 260): 0.22723486,\n",
       " (0, 261): 0.3635971,\n",
       " (0, 262): 0.46812963,\n",
       " (0, 263): 0.07926293,\n",
       " (0, 264): 0.30810407,\n",
       " (0, 265): 0.14256617,\n",
       " (0, 266): 0.2683056,\n",
       " (0, 267): 0.48715988,\n",
       " (0, 268): 0.33668265,\n",
       " (1, 0): 0.3337307,\n",
       " (1, 1): 0.6912285,\n",
       " (1, 2): 0.571129,\n",
       " (1, 3): 0.43402302,\n",
       " (1, 4): 0.11092253,\n",
       " (1, 5): 0.3977543,\n",
       " (1, 6): 0.62581503,\n",
       " (1, 7): 0.6141738,\n",
       " (1, 8): 0.5549174,\n",
       " (1, 9): 0.34261551,\n",
       " (1, 10): 0.50666094,\n",
       " (1, 11): 0.62041247,\n",
       " (1, 12): 0.43285382,\n",
       " (1, 13): 0.10331112,\n",
       " (1, 14): 0.33854827,\n",
       " (1, 15): 0.47536093,\n",
       " (1, 16): 0.44953743,\n",
       " (1, 17): 0.19549403,\n",
       " (1, 18): 0.39185652,\n",
       " (1, 19): 0.62033075,\n",
       " (1, 20): 0.71960753,\n",
       " (1, 21): 0.48844466,\n",
       " (1, 22): 0.3016352,\n",
       " (1, 23): 0.27365762,\n",
       " (1, 24): 0.3694767,\n",
       " (1, 25): 0.29080084,\n",
       " (1, 26): 0.25323954,\n",
       " (1, 27): 0.3298389,\n",
       " (1, 28): 0.036274545,\n",
       " (1, 29): 0.586959,\n",
       " (1, 30): 0.51318955,\n",
       " (1, 31): 0.6039153,\n",
       " (1, 32): 0.1981655,\n",
       " (1, 33): 0.34750727,\n",
       " (1, 34): 0.39069396,\n",
       " (1, 35): 0.5679524,\n",
       " (1, 36): 0.2088243,\n",
       " (1, 37): 0.5840265,\n",
       " (1, 38): 0.23967889,\n",
       " (1, 39): 0.06312476,\n",
       " (1, 40): 0.5497744,\n",
       " (1, 41): 0.6336604,\n",
       " (1, 42): 0.5610376,\n",
       " (1, 43): 0,\n",
       " (1, 44): 0.46832946,\n",
       " (1, 45): 0.21466614,\n",
       " (1, 46): 0.12317282,\n",
       " (1, 47): 0.15179801,\n",
       " (1, 48): 0.5743384,\n",
       " (1, 49): 0.3460592,\n",
       " (1, 50): 0.53485745,\n",
       " (1, 51): 0.020822566,\n",
       " (1, 52): 0.5477011,\n",
       " (1, 53): 0.6354657,\n",
       " (1, 54): 0.11092253,\n",
       " (1, 55): 0.64063066,\n",
       " (1, 56): 0.5003471,\n",
       " (1, 57): 0.58116764,\n",
       " (1, 58): 0.6076303,\n",
       " (1, 59): 0.12541217,\n",
       " (1, 60): -0.13078716,\n",
       " (1, 61): 0.4577544,\n",
       " (1, 62): 0,\n",
       " (1, 63): 0.38033327,\n",
       " (1, 64): 0.56312096,\n",
       " (1, 65): 0.035353687,\n",
       " (1, 66): 0.32209453,\n",
       " (1, 67): 0.7147985,\n",
       " (1, 68): 0,\n",
       " (1, 69): 0.20501679,\n",
       " (1, 70): 0.26042008,\n",
       " (1, 71): 0.57711756,\n",
       " (1, 72): 0.1714226,\n",
       " (1, 73): 0.33136165,\n",
       " (1, 74): -0.13078716,\n",
       " (1, 75): 0.5471599,\n",
       " (1, 76): 0.7002947,\n",
       " (1, 77): 0.055426434,\n",
       " (1, 78): 0.6066023,\n",
       " (1, 79): 0.6353236,\n",
       " (1, 80): 0.513928,\n",
       " (1, 81): 0,\n",
       " (1, 82): 0.6039153,\n",
       " (1, 83): 0.5236791,\n",
       " (1, 84): 0.63900965,\n",
       " (1, 85): 0.30897918,\n",
       " (1, 86): 0.47093523,\n",
       " (1, 87): 0.1295461,\n",
       " (1, 88): 0.439995,\n",
       " (1, 89): 0.42226392,\n",
       " (1, 90): 0.59885526,\n",
       " (1, 91): 0.39861602,\n",
       " (1, 92): 0.6405965,\n",
       " (1, 93): 0.7018841,\n",
       " (1, 94): 0.51037586,\n",
       " (1, 95): 0.63702077,\n",
       " (1, 96): 0.6440248,\n",
       " (1, 97): 0.39948148,\n",
       " (1, 98): -0.13078716,\n",
       " (1, 99): 0.021817425,\n",
       " (1, 100): 0.30675253,\n",
       " (1, 101): 0.62989527,\n",
       " (1, 102): 0.62841135,\n",
       " (1, 103): 0.5919253,\n",
       " (1, 104): 0.45466095,\n",
       " (1, 105): 0.21345595,\n",
       " (1, 106): 0.1925379,\n",
       " (1, 107): 0.20739157,\n",
       " (1, 108): 0.2318425,\n",
       " (1, 109): 0.6479989,\n",
       " (1, 110): 0.5698781,\n",
       " (1, 111): 0.5481659,\n",
       " (1, 112): 0.5569451,\n",
       " (1, 113): 0.26538414,\n",
       " (1, 114): 0,\n",
       " (1, 115): 0.5125843,\n",
       " (1, 116): 0.27365762,\n",
       " (1, 117): 0.6020251,\n",
       " (1, 118): 0.048363965,\n",
       " (1, 119): 0.34663403,\n",
       " (1, 120): 0,\n",
       " (1, 121): 0.3644284,\n",
       " (1, 122): -0.13078716,\n",
       " (1, 123): 0.56650853,\n",
       " (1, 124): 0.4991979,\n",
       " (1, 125): 0.25025615,\n",
       " (1, 126): 0.6912079,\n",
       " (1, 127): 0.5312587,\n",
       " (1, 128): 0.6502512,\n",
       " (1, 129): 0.11092253,\n",
       " (1, 130): 0.5266115,\n",
       " (1, 131): 0.6338613,\n",
       " (1, 132): 0.25557467,\n",
       " (1, 133): 0.4017764,\n",
       " (1, 134): 0.61793035,\n",
       " (1, 135): 0.2088243,\n",
       " (1, 136): 0.47698846,\n",
       " (1, 137): 0.57179296,\n",
       " (1, 138): 0.51742023,\n",
       " (1, 139): 0,\n",
       " (1, 140): 0.45147964,\n",
       " (1, 141): 0.6543122,\n",
       " (1, 142): 0.022186084,\n",
       " (1, 143): 0.62461966,\n",
       " (1, 144): 0.14051186,\n",
       " (1, 145): 0.4839192,\n",
       " (1, 146): 0.39582917,\n",
       " (1, 147): 0.5729386,\n",
       " (1, 148): 0.22528324,\n",
       " (1, 149): 0.4544553,\n",
       " (1, 150): 0.43587008,\n",
       " (1, 151): 0.43941617,\n",
       " (1, 152): 0.021050736,\n",
       " (1, 153): 0.44051224,\n",
       " (1, 154): 0.571471,\n",
       " (1, 155): 0.6774222,\n",
       " (1, 156): 0,\n",
       " (1, 157): 0.6288554,\n",
       " (1, 158): 0,\n",
       " (1, 159): 0.3617548,\n",
       " (1, 160): 0.2962602,\n",
       " (1, 161): 0.27365762,\n",
       " (1, 162): 0,\n",
       " (1, 163): 0,\n",
       " (1, 164): 0.07592371,\n",
       " (1, 165): 0.27365762,\n",
       " (1, 166): 0.47886276,\n",
       " (1, 167): 0.269166,\n",
       " (1, 168): 0,\n",
       " (1, 169): 0.4551853,\n",
       " (1, 170): 0.55154604,\n",
       " (1, 171): 0.4362495,\n",
       " (1, 172): 0.5346376,\n",
       " (1, 173): 0.41882163,\n",
       " (1, 174): 0.14693932,\n",
       " (1, 175): 0.47135603,\n",
       " (1, 176): 0,\n",
       " (1, 177): 0,\n",
       " (1, 178): 0,\n",
       " (1, 179): 0.58780456,\n",
       " (1, 180): 0.3742932,\n",
       " (1, 181): 0.5643724,\n",
       " (1, 182): 0.2318744,\n",
       " (1, 183): 0.2780931,\n",
       " (1, 184): 0.35162428,\n",
       " (1, 185): 0.6703487,\n",
       " (1, 186): 0.5943923,\n",
       " (1, 187): 0,\n",
       " (1, 188): 0.6257998,\n",
       " (1, 189): 0.2325657,\n",
       " (1, 190): 0.4553093,\n",
       " (1, 191): 0.40011296,\n",
       " (1, 192): 0.5492104,\n",
       " (1, 193): 0.45480826,\n",
       " (1, 194): 0.35026434,\n",
       " (1, 195): 0.39196348,\n",
       " (1, 196): 0.30710357,\n",
       " (1, 197): 0.4104358,\n",
       " (1, 198): 0.4841478,\n",
       " (1, 199): 0.54230326,\n",
       " (1, 200): 0.016373128,\n",
       " (1, 201): 0.10335937,\n",
       " (1, 202): 0.03758283,\n",
       " (1, 203): 0,\n",
       " (1, 204): 0.60288167,\n",
       " (1, 205): 0.67012566,\n",
       " (1, 206): 0.53876525,\n",
       " (1, 207): 0.36419597,\n",
       " (1, 208): 0.63601524,\n",
       " (1, 209): 0.59904015,\n",
       " (1, 210): 0.45657536,\n",
       " (1, 211): 0.49358213,\n",
       " (1, 212): 0.3020245,\n",
       " (1, 213): 0.45073965,\n",
       " (1, 214): 0.6201645,\n",
       " (1, 215): 0,\n",
       " (1, 216): 0,\n",
       " (1, 217): 0.43473825,\n",
       " (1, 218): 0.17584592,\n",
       " (1, 219): 0,\n",
       " (1, 220): 0.23600036,\n",
       " (1, 221): 0,\n",
       " (1, 222): 0.4551853,\n",
       " (1, 223): 0.27194962,\n",
       " (1, 224): 0.58789176,\n",
       " (1, 225): 0.3761915,\n",
       " (1, 226): 0.65468115,\n",
       " (1, 227): 0.45744488,\n",
       " (1, 228): 0.670619,\n",
       " (1, 229): 0.5903468,\n",
       " (1, 230): 0.27451,\n",
       " (1, 231): 0.035353687,\n",
       " (1, 232): 0.2993313,\n",
       " (1, 233): 0.6399442,\n",
       " (1, 234): 0.36815226,\n",
       " (1, 235): 0.52630776,\n",
       " (1, 236): 0.52773046,\n",
       " (1, 237): 0.671934,\n",
       " (1, 238): 0.29113445,\n",
       " (1, 239): 0,\n",
       " (1, 240): 0.6248794,\n",
       " (1, 241): 0.56985915,\n",
       " (1, 242): 0,\n",
       " (1, 243): 0.4024309,\n",
       " (1, 244): 0.5615329,\n",
       " (1, 245): 0.57836425,\n",
       " (1, 246): 0.39953506,\n",
       " (1, 247): 0.48784044,\n",
       " (1, 248): 0.5194805,\n",
       " (1, 249): 0.36211574,\n",
       " (1, 250): 0.53409404,\n",
       " (1, 251): 0.33072603,\n",
       " (1, 252): 0.35002366,\n",
       " (1, 253): 0.2264548,\n",
       " (1, 254): 0.48683062,\n",
       " (1, 255): 0.08179665,\n",
       " (1, 256): 0.50609446,\n",
       " (1, 257): 0.38135242,\n",
       " (1, 258): 0.20818742,\n",
       " (1, 259): 0.5254655,\n",
       " (1, 260): 0.62126356,\n",
       " (1, 261): 0.6533926,\n",
       " (1, 262): 0.558244,\n",
       " (1, 263): 0.08658707,\n",
       " (1, 264): 0.5897009,\n",
       " (1, 265): 0.37697527,\n",
       " (1, 266): 0.57055265,\n",
       " (1, 267): 0.5753263,\n",
       " (1, 268): 0.66536903,\n",
       " (2, 0): 0.530883,\n",
       " (2, 1): 0.63806397,\n",
       " (2, 2): 0.45513114,\n",
       " (2, 3): 0.46649805,\n",
       " (2, 4): 0.037327483,\n",
       " (2, 5): 0.5196002,\n",
       " (2, 6): 0.66561985,\n",
       " (2, 7): 0.72804064,\n",
       " (2, 8): 0.6427182,\n",
       " (2, 9): 0.4405967,\n",
       " (2, 10): 0.44898358,\n",
       " (2, 11): 0.605817,\n",
       " (2, 12): 0.423368,\n",
       " (2, 13): 0.13585621,\n",
       " (2, 14): 0.4558612,\n",
       " (2, 15): 0.4619956,\n",
       " (2, 16): 0.583144,\n",
       " (2, 17): 0.2788561,\n",
       " (2, 18): 0.4311081,\n",
       " (2, 19): 0.72489005,\n",
       " (2, 20): 0.6419276,\n",
       " (2, 21): 0.34630528,\n",
       " (2, 22): 0.35157898,\n",
       " (2, 23): 0.056217037,\n",
       " (2, 24): 0.2878728,\n",
       " (2, 25): 0.41862285,\n",
       " (2, 26): 0.21685106,\n",
       " (2, 27): 0.25696066,\n",
       " (2, 28): 0.118028745,\n",
       " (2, 29): 0.679573,\n",
       " (2, 30): 0.50508255,\n",
       " (2, 31): 0.6255929,\n",
       " (2, 32): 0.22054984,\n",
       " (2, 33): 0.38879332,\n",
       " (2, 34): 0.51620734,\n",
       " (2, 35): 0.6267502,\n",
       " (2, 36): 0.20324183,\n",
       " (2, 37): 0.69349134,\n",
       " (2, 38): 0.11946538,\n",
       " (2, 39): 0.023313168,\n",
       " (2, 40): 0.6113895,\n",
       " (2, 41): 0.6809008,\n",
       " (2, 42): 0.6320163,\n",
       " (2, 43): 0,\n",
       " (2, 44): 0.6096684,\n",
       " (2, 45): 0.29498443,\n",
       " (2, 46): 0.1198362,\n",
       " (2, 47): 0.056668937,\n",
       " (2, 48): 0.50475115,\n",
       " (2, 49): 0.3951493,\n",
       " (2, 50): 0.43680862,\n",
       " (2, 51): 0.103347674,\n",
       " (2, 52): 0.6812534,\n",
       " (2, 53): 0.7805617,\n",
       " (2, 54): 0.037327483,\n",
       " (2, 55): 0.60432047,\n",
       " (2, 56): 0.64159906,\n",
       " (2, 57): 0.90256083,\n",
       " (2, 58): 0.66834784,\n",
       " (2, 59): 0.39412323,\n",
       " (2, 60): 0.007448694,\n",
       " (2, 61): 0.50280523,\n",
       " (2, 62): 0,\n",
       " (2, 63): 0.4334745,\n",
       " (2, 64): 0.42053652,\n",
       " (2, 65): -0.041418392,\n",
       " (2, 66): 0.3444517,\n",
       " (2, 67): 0.6518366,\n",
       " (2, 68): 0,\n",
       " (2, 69): 0.2242165,\n",
       " (2, 70): 0.24695191,\n",
       " (2, 71): 0.7457582,\n",
       " (2, 72): 0.32144353,\n",
       " (2, 73): 0.38617417,\n",
       " (2, 74): 0.007448694,\n",
       " (2, 75): 0.59307534,\n",
       " (2, 76): 0.719963,\n",
       " (2, 77): 0.11582737,\n",
       " (2, 78): 0.5474853,\n",
       " (2, 79): 0.6060561,\n",
       " (2, 80): 0.6028213,\n",
       " (2, 81): 0,\n",
       " (2, 82): 0.6255929,\n",
       " (2, 83): 0.6216524,\n",
       " (2, 84): 0.72750056,\n",
       " (2, 85): 0.1418819,\n",
       " (2, 86): 0.3952894,\n",
       " (2, 87): 0.18316947,\n",
       " (2, 88): 0.5408615,\n",
       " (2, 89): 0.5165435,\n",
       " (2, 90): 0.50138164,\n",
       " (2, 91): 0.55440986,\n",
       " (2, 92): 0.5782103,\n",
       " (2, 93): 0.6992755,\n",
       " (2, 94): 0.31244648,\n",
       " (2, 95): 0.6333103,\n",
       " (2, 96): 0.6220583,\n",
       " (2, 97): 0.062065016,\n",
       " (2, 98): 0.007448694,\n",
       " (2, 99): 0.10351717,\n",
       " (2, 100): 0.24222374,\n",
       " (2, 101): 0.6775045,\n",
       " (2, 102): 0.58332103,\n",
       " (2, 103): 0.6531847,\n",
       " (2, 104): 0.38960874,\n",
       " (2, 105): 0.14415824,\n",
       " (2, 106): -0.019189714,\n",
       " (2, 107): 0.31534475,\n",
       " (2, 108): -0.06435205,\n",
       " (2, 109): 0.73518205,\n",
       " (2, 110): 0.6483312,\n",
       " (2, 111): 0.6008562,\n",
       " (2, 112): 0.562807,\n",
       " (2, 113): 0.22007053,\n",
       " (2, 114): 0,\n",
       " (2, 115): 0.7197323,\n",
       " (2, 116): 0.056217037,\n",
       " (2, 117): 0.65897304,\n",
       " (2, 118): 0.116354465,\n",
       " (2, 119): 0.23908755,\n",
       " (2, 120): 0,\n",
       " (2, 121): 0.523553,\n",
       " (2, 122): 0.007448694,\n",
       " (2, 123): 0.7005866,\n",
       " (2, 124): 0.47235796,\n",
       " (2, 125): 0.32171565,\n",
       " (2, 126): 0.63481605,\n",
       " (2, 127): 0.55177927,\n",
       " (2, 128): 0.5882623,\n",
       " (2, 129): 0.037327483,\n",
       " (2, 130): 0.51137894,\n",
       " (2, 131): 0.60865253,\n",
       " (2, 132): 0.38690317,\n",
       " (2, 133): 0.34459725,\n",
       " (2, 134): 0.6110692,\n",
       " (2, 135): 0.20324183,\n",
       " (2, 136): 0.468276,\n",
       " (2, 137): 0.67076695,\n",
       " (2, 138): 0.5961634,\n",
       " (2, 139): 0,\n",
       " (2, 140): 0.50544095,\n",
       " (2, 141): 0.6879979,\n",
       " (2, 142): 0.025221223,\n",
       " (2, 143): 0.7065428,\n",
       " (2, 144): 0.086887166,\n",
       " (2, 145): 0.34701842,\n",
       " (2, 146): 0.50424314,\n",
       " (2, 147): 0.61562103,\n",
       " (2, 148): 0.04745999,\n",
       " (2, 149): 0.16303009,\n",
       " (2, 150): 0.47232258,\n",
       " (2, 151): 0.10540041,\n",
       " (2, 152): -0.116725795,\n",
       " (2, 153): 0.1292239,\n",
       " (2, 154): 0.5599538,\n",
       " (2, 155): 0.5594357,\n",
       " (2, 156): 0,\n",
       " (2, 157): 0.6663755,\n",
       " (2, 158): 0,\n",
       " (2, 159): 0.42011985,\n",
       " (2, 160): 0.40358576,\n",
       " (2, 161): 0.056217037,\n",
       " (2, 162): 0,\n",
       " (2, 163): 0,\n",
       " (2, 164): -0.027488533,\n",
       " (2, 165): 0.056217037,\n",
       " (2, 166): 0.54939866,\n",
       " (2, 167): 0.07090029,\n",
       " (2, 168): 0,\n",
       " (2, 169): 0.53964955,\n",
       " (2, 170): 0.545685,\n",
       " (2, 171): 0.56122154,\n",
       " (2, 172): 0.53984946,\n",
       " (2, 173): 0.5545592,\n",
       " (2, 174): 0.08086716,\n",
       " (2, 175): 0.58750796,\n",
       " (2, 176): 0,\n",
       " (2, 177): 0,\n",
       " (2, 178): 0,\n",
       " (2, 179): 0.6072926,\n",
       " (2, 180): 0.43532485,\n",
       " (2, 181): 0.6837182,\n",
       " (2, 182): 0.2062528,\n",
       " (2, 183): 0.25651523,\n",
       " (2, 184): 0.26295054,\n",
       " (2, 185): 0.637709,\n",
       " (2, 186): 0.6171328,\n",
       " (2, 187): 0,\n",
       " (2, 188): 0.63714117,\n",
       " (2, 189): 0.25699237,\n",
       " (2, 190): 0.48522085,\n",
       " (2, 191): 0.51779425,\n",
       " (2, 192): 0.5664178,\n",
       " (2, 193): 0.4968394,\n",
       " (2, 194): 0.46406522,\n",
       " (2, 195): 0.37296405,\n",
       " (2, 196): 0.42619923,\n",
       " (2, 197): 0.2133283,\n",
       " (2, 198): 0.56079525,\n",
       " (2, 199): 0.49685636,\n",
       " (2, 200): 0.033571977,\n",
       " (2, 201): 0.1436196,\n",
       " (2, 202): 0.012259659,\n",
       " (2, 203): 0,\n",
       " (2, 204): 0.6823089,\n",
       " (2, 205): 0.5392957,\n",
       " (2, 206): 0.6349588,\n",
       " (2, 207): 0.43763688,\n",
       " (2, 208): 0.6513677,\n",
       " (2, 209): 0.597955,\n",
       " (2, 210): 0.54023445,\n",
       " (2, 211): 0.3274829,\n",
       " (2, 212): 0.28859058,\n",
       " (2, 213): 0.59667945,\n",
       " (2, 214): 0.6899683,\n",
       " (2, 215): 0,\n",
       " (2, 216): 0,\n",
       " (2, 217): 0.49826816,\n",
       " (2, 218): 0.09230349,\n",
       " (2, 219): 0,\n",
       " (2, 220): 0.30587658,\n",
       " (2, 221): 0,\n",
       " (2, 222): 0.53964955,\n",
       " (2, 223): 0.3101396,\n",
       " (2, 224): 0.70372254,\n",
       " (2, 225): 0.28254,\n",
       " (2, 226): 0.72719884,\n",
       " (2, 227): 0.5111836,\n",
       " (2, 228): 0.7193072,\n",
       " (2, 229): 0.62701833,\n",
       " (2, 230): 0.27332324,\n",
       " (2, 231): -0.041418392,\n",
       " (2, 232): 0.18983497,\n",
       " (2, 233): 0.64486283,\n",
       " (2, 234): 0.4310411,\n",
       " (2, 235): 0.59490246,\n",
       " (2, 236): 0.7568556,\n",
       " (2, 237): 0.65058446,\n",
       " (2, 238): 0.23006189,\n",
       " (2, 239): 0,\n",
       " (2, 240): 0.7231215,\n",
       " (2, 241): 0.5857978,\n",
       " (2, 242): 0,\n",
       " (2, 243): 0.3913326,\n",
       " (2, 244): 0.66434044,\n",
       " (2, 245): 0.67611843,\n",
       " (2, 246): 0.4500382,\n",
       " (2, 247): 0.4763464,\n",
       " (2, 248): 0.45972586,\n",
       " (2, 249): 0.33056533,\n",
       " (2, 250): 0.5564672,\n",
       " (2, 251): 0.24621186,\n",
       " (2, 252): 0.294813,\n",
       " (2, 253): 0.31665838,\n",
       " (2, 254): 0.51535493,\n",
       " (2, 255): 0.21793294,\n",
       " (2, 256): 0.5427517,\n",
       " (2, 257): 0.27701235,\n",
       " (2, 258): 0.18146408,\n",
       " (2, 259): 0.5273954,\n",
       " (2, 260): 0.62536186,\n",
       " (2, 261): 0.7059151,\n",
       " (2, 262): 0.57537305,\n",
       " (2, 263): 0.104880735,\n",
       " (2, 264): 0.67089987,\n",
       " (2, 265): 0.37271166,\n",
       " (2, 266): 0.4732306,\n",
       " (2, 267): 0.5687768,\n",
       " (2, 268): 0.57132685,\n",
       " (3, 0): 0.2537757,\n",
       " (3, 1): 0.23484327,\n",
       " (3, 2): 0.19148919,\n",
       " (3, 3): 0.23093762,\n",
       " (3, 4): 0.14801285,\n",
       " (3, 5): 0.35569444,\n",
       " (3, 6): 0.2797593,\n",
       " (3, 7): 0.38640738,\n",
       " (3, 8): 0.29802287,\n",
       " (3, 9): 0.22335498,\n",
       " (3, 10): 0.24650821,\n",
       " (3, 11): 0.32988548,\n",
       " (3, 12): 0.3438187,\n",
       " (3, 13): -0.10626677,\n",
       " (3, 14): 0.25049683,\n",
       " (3, 15): 0.40500826,\n",
       " (3, 16): 0.3250964,\n",
       " (3, 17): 0.28279734,\n",
       " (3, 18): 0.17488858,\n",
       " (3, 19): 0.36673015,\n",
       " (3, 20): 0.3259961,\n",
       " (3, 21): 0.076792285,\n",
       " (3, 22): 0.18546511,\n",
       " (3, 23): 0.117054515,\n",
       " (3, 24): 0.29027927,\n",
       " (3, 25): 0.23536931,\n",
       " (3, 26): 0.41371927,\n",
       " (3, 27): 0.12340861,\n",
       " (3, 28): -0.06577503,\n",
       " (3, 29): 0.3412015,\n",
       " (3, 30): 0.14396091,\n",
       " (3, 31): 0.02370758,\n",
       " (3, 32): 0.22443338,\n",
       " (3, 33): 0.19494428,\n",
       " (3, 34): 0.2664436,\n",
       " (3, 35): 0.15428925,\n",
       " (3, 36): 0.2498833,\n",
       " (3, 37): 0.28917542,\n",
       " (3, 38): 0.18532306,\n",
       " (3, 39): 0.054299146,\n",
       " (3, 40): 0.32932898,\n",
       " (3, 41): 0.31778958,\n",
       " (3, 42): 0.32087523,\n",
       " (3, 43): 0,\n",
       " (3, 44): 0.13914502,\n",
       " (3, 45): 0.17432727,\n",
       " (3, 46): -0.048673853,\n",
       " (3, 47): 0.0061384863,\n",
       " (3, 48): 0.2688761,\n",
       " (3, 49): 0.073323846,\n",
       " (3, 50): 0.008549986,\n",
       " (3, 51): 0.105380155,\n",
       " (3, 52): 0.35695678,\n",
       " (3, 53): 0.3394831,\n",
       " (3, 54): 0.14801285,\n",
       " (3, 55): 0.276274,\n",
       " (3, 56): 0.29442537,\n",
       " (3, 57): 0.3105214,\n",
       " (3, 58): 0.26185894,\n",
       " (3, 59): 0.16883877,\n",
       " (3, 60): 0.112224154,\n",
       " (3, 61): 0.25800166,\n",
       " (3, 62): 0,\n",
       " (3, 63): 0.041666932,\n",
       " (3, 64): 0.19019881,\n",
       " (3, 65): 0.02236036,\n",
       " (3, 66): -0.06309517,\n",
       " (3, 67): 0.18322502,\n",
       " (3, 68): 0,\n",
       " (3, 69): 0.14390852,\n",
       " (3, 70): 0.16673252,\n",
       " (3, 71): 0.4072913,\n",
       " (3, 72): 0.30742916,\n",
       " (3, 73): 0.35812622,\n",
       " (3, 74): 0.112224154,\n",
       " (3, 75): 0.3018088,\n",
       " (3, 76): 0.15913208,\n",
       " (3, 77): 0.026967932,\n",
       " (3, 78): 0.2773924,\n",
       " (3, 79): 0.25166643,\n",
       " (3, 80): 0.2500095,\n",
       " (3, 81): 0,\n",
       " (3, 82): 0.02370758,\n",
       " (3, 83): 0.18185015,\n",
       " (3, 84): 0.29055795,\n",
       " (3, 85): 0.03125366,\n",
       " (3, 86): 0.22621374,\n",
       " (3, 87): 0.2343134,\n",
       " (3, 88): 0.019647561,\n",
       " (3, 89): 0.23518564,\n",
       " (3, 90): 0.2432479,\n",
       " (3, 91): 0.3341396,\n",
       " (3, 92): 0.24260241,\n",
       " (3, 93): 0.370476,\n",
       " (3, 94): 0.013540812,\n",
       " (3, 95): 0.40246007,\n",
       " (3, 96): 0.15458666,\n",
       " (3, 97): 0.17519857,\n",
       " (3, 98): 0.112224154,\n",
       " (3, 99): 0.1463636,\n",
       " (3, 100): -0.027812751,\n",
       " (3, 101): 0.4345135,\n",
       " (3, 102): 0.27601948,\n",
       " (3, 103): 0.25376466,\n",
       " (3, 104): 0.16341852,\n",
       " (3, 105): 0.10053703,\n",
       " (3, 106): -0.031511,\n",
       " (3, 107): 0.4377308,\n",
       " (3, 108): 0.16382883,\n",
       " (3, 109): 0.34625787,\n",
       " (3, 110): 0.22672552,\n",
       " (3, 111): 0.25987694,\n",
       " (3, 112): 0.16566081,\n",
       " (3, 113): 0.28447092,\n",
       " (3, 114): 0,\n",
       " (3, 115): 0.21769366,\n",
       " (3, 116): 0.117054515,\n",
       " (3, 117): 0.2772888,\n",
       " (3, 118): -0.051425178,\n",
       " (3, 119): 0.2540725,\n",
       " (3, 120): 0,\n",
       " (3, 121): 0.09717938,\n",
       " (3, 122): 0.112224154,\n",
       " (3, 123): 0.39401793,\n",
       " (3, 124): 0.2628974,\n",
       " (3, 125): 0.16204387,\n",
       " (3, 126): 0.25475514,\n",
       " (3, 127): 0.07828936,\n",
       " (3, 128): 0.31057432,\n",
       " (3, 129): 0.14801285,\n",
       " (3, 130): 0.21621254,\n",
       " (3, 131): 0.25225046,\n",
       " (3, 132): -0.002426487,\n",
       " (3, 133): 0.23106681,\n",
       " (3, 134): 0.095831536,\n",
       " (3, 135): 0.2498833,\n",
       " (3, 136): 0.1903905,\n",
       " (3, 137): 0.28597042,\n",
       " (3, 138): 0.30488324,\n",
       " (3, 139): 0,\n",
       " (3, 140): 0.16440156,\n",
       " (3, 141): 0.2714087,\n",
       " (3, 142): -0.09671487,\n",
       " (3, 143): 0.24570027,\n",
       " (3, 144): 0.10724713,\n",
       " (3, 145): 0.01937045,\n",
       " (3, 146): 0.28272483,\n",
       " (3, 147): 0.33576375,\n",
       " (3, 148): -0.090336636,\n",
       " (3, 149): 0.07348972,\n",
       " (3, 150): 0.23672801,\n",
       " (3, 151): 0.06769955,\n",
       " (3, 152): -0.2286536,\n",
       " (3, 153): 0.044243902,\n",
       " (3, 154): 0.39584517,\n",
       " (3, 155): 0.3764841,\n",
       " (3, 156): 0,\n",
       " (3, 157): 0.2637846,\n",
       " (3, 158): 0,\n",
       " (3, 159): 0.3178747,\n",
       " (3, 160): 0.2832041,\n",
       " (3, 161): 0.117054515,\n",
       " (3, 162): 0,\n",
       " (3, 163): 0,\n",
       " (3, 164): 0.0871014,\n",
       " (3, 165): 0.117054515,\n",
       " (3, 166): 0.32222232,\n",
       " (3, 167): 0.084182896,\n",
       " (3, 168): 0,\n",
       " (3, 169): 0.23725274,\n",
       " (3, 170): 0.4254646,\n",
       " (3, 171): 0.30922738,\n",
       " (3, 172): 0.3304729,\n",
       " (3, 173): 0.035014007,\n",
       " (3, 174): 0.2183393,\n",
       " (3, 175): 0.1327348,\n",
       " (3, 176): 0,\n",
       " (3, 177): 0,\n",
       " (3, 178): 0,\n",
       " (3, 179): 0.26186034,\n",
       " (3, 180): 0.35211164,\n",
       " (3, 181): 0.32024783,\n",
       " (3, 182): 0.13040626,\n",
       " (3, 183): 0.28763184,\n",
       " (3, 184): 0.37030292,\n",
       " (3, 185): 0.29615572,\n",
       " (3, 186): 0.3431657,\n",
       " (3, 187): 0,\n",
       " (3, 188): 0.23659994,\n",
       " (3, 189): 0.06773103,\n",
       " (3, 190): 0.44449735,\n",
       " (3, 191): 0.09589833,\n",
       " (3, 192): 0.3132359,\n",
       " ...}"
      ]
     },
     "execution_count": 28,
     "metadata": {},
     "output_type": "execute_result"
    }
   ],
   "source": [
    "dicionario"
   ]
  },
  {
   "cell_type": "code",
   "execution_count": 29,
   "metadata": {
    "ExecuteTime": {
     "end_time": "2022-10-17T00:17:02.775113Z",
     "start_time": "2022-10-17T00:17:02.755084Z"
    }
   },
   "outputs": [
    {
     "data": {
      "text/plain": [
       "[(2, 57), (2, 53), (2, 236)]"
      ]
     },
     "execution_count": 29,
     "metadata": {},
     "output_type": "execute_result"
    }
   ],
   "source": [
    "top_3_indices = sorted(dicionario, key=dicionario.get, reverse=True)[:3]\n",
    "top_3_indices"
   ]
  },
  {
   "cell_type": "code",
   "execution_count": 30,
   "metadata": {
    "ExecuteTime": {
     "end_time": "2022-10-17T00:17:02.784655Z",
     "start_time": "2022-10-17T00:17:02.775113Z"
    }
   },
   "outputs": [
    {
     "name": "stdout",
     "output_type": "stream",
     "text": [
      "0.90256083\n",
      "0.7805617\n",
      "0.7568556\n"
     ]
    }
   ],
   "source": [
    "for i in top_3_indices:\n",
    "    print(dicionario[i])"
   ]
  },
  {
   "cell_type": "code",
   "execution_count": 31,
   "metadata": {
    "ExecuteTime": {
     "end_time": "2022-10-17T00:17:02.794659Z",
     "start_time": "2022-10-17T00:17:02.784655Z"
    }
   },
   "outputs": [],
   "source": [
    "x=[]\n",
    "for i in range(len(top_3_indices)):\n",
    "    x.append(top_3_indices[i][0])\n",
    "indice_abstract = list(set(x))"
   ]
  },
  {
   "cell_type": "code",
   "execution_count": 32,
   "metadata": {
    "ExecuteTime": {
     "end_time": "2022-10-17T00:17:02.804825Z",
     "start_time": "2022-10-17T00:17:02.794659Z"
    }
   },
   "outputs": [
    {
     "data": {
      "text/plain": [
       "[2]"
      ]
     },
     "execution_count": 32,
     "metadata": {},
     "output_type": "execute_result"
    }
   ],
   "source": [
    "indice_abstract"
   ]
  },
  {
   "cell_type": "code",
   "execution_count": 33,
   "metadata": {
    "ExecuteTime": {
     "end_time": "2022-10-17T00:17:02.814675Z",
     "start_time": "2022-10-17T00:17:02.804825Z"
    }
   },
   "outputs": [
    {
     "data": {
      "text/plain": [
       "[array([-0.00962645,  0.0800505 ,  0.0064885 ,  0.0375478 , -0.0078932 ,\n",
       "        -0.02742364,  0.05144411,  0.06793626,  0.01115427, -0.0383215 ,\n",
       "         0.05324918, -0.08750988, -0.01239434,  0.03722005,  0.01039016,\n",
       "        -0.00709946,  0.04263488, -0.03031727, -0.06685444, -0.09578289,\n",
       "         0.06093921,  0.00414337,  0.07533089, -0.0430535 ,  0.01515903,\n",
       "        -0.00712454, -0.00790566, -0.03220507,  0.00206772, -0.04983199,\n",
       "         0.03273975,  0.05258805, -0.02769218, -0.02750591, -0.00363311,\n",
       "         0.08689385,  0.04387812, -0.03550651, -0.02793904, -0.0009504 ,\n",
       "         0.01492737,  0.01752939, -0.04179391,  0.00945677,  0.04516114,\n",
       "         0.01479203,  0.01131102,  0.00339035,  0.00292603,  0.00783648,\n",
       "        -0.01358944, -0.04866775, -0.03895125,  0.00599318,  0.00151136,\n",
       "         0.01479341,  0.0473487 , -0.00889287, -0.0270948 ,  0.00736185,\n",
       "         0.02712566, -0.0181335 ,  0.04093422, -0.04522073, -0.02281453,\n",
       "         0.07284584, -0.01199423,  0.05047654, -0.06271337, -0.00186089,\n",
       "        -0.0444721 ,  0.02507073,  0.00552138, -0.02145605,  0.05738008,\n",
       "        -0.0577543 , -0.00433222, -0.01131342, -0.05129566, -0.04612209,\n",
       "        -0.05783138,  0.00414513,  0.00954264,  0.04887789, -0.01319263,\n",
       "         0.00949173,  0.03624953,  0.00591382,  0.0189176 , -0.00598037,\n",
       "         0.01800632, -0.04409309,  0.0177861 , -0.01481679,  0.07797229,\n",
       "         0.0298207 ,  0.04680118, -0.02718254,  0.03373031,  0.04730097],\n",
       "       dtype=float32)]"
      ]
     },
     "execution_count": 33,
     "metadata": {},
     "output_type": "execute_result"
    }
   ],
   "source": [
    "vetor_frases_objetivo_1=[]\n",
    "for i in range(len(indice_abstract)):\n",
    "    vetor_frases_objetivo_1.append(vetor_intro[indice_abstract[i]])\n",
    "vetor_frases_objetivo_1"
   ]
  },
  {
   "cell_type": "code",
   "execution_count": 34,
   "metadata": {
    "ExecuteTime": {
     "end_time": "2022-10-17T00:17:02.834954Z",
     "start_time": "2022-10-17T00:17:02.814675Z"
    }
   },
   "outputs": [],
   "source": [
    "dicionario = dicionario_similaridade(vetor_abstract, vetor_conclusion)"
   ]
  },
  {
   "cell_type": "code",
   "execution_count": 35,
   "metadata": {
    "ExecuteTime": {
     "end_time": "2022-10-17T00:17:02.845051Z",
     "start_time": "2022-10-17T00:17:02.834954Z"
    }
   },
   "outputs": [
    {
     "data": {
      "text/plain": [
       "[(2, 10), (2, 13), (1, 17)]"
      ]
     },
     "execution_count": 35,
     "metadata": {},
     "output_type": "execute_result"
    }
   ],
   "source": [
    "top_3_indices = sorted(dicionario, key=dicionario.get, reverse=True)[:3]\n",
    "top_3_indices"
   ]
  },
  {
   "cell_type": "code",
   "execution_count": 36,
   "metadata": {
    "ExecuteTime": {
     "end_time": "2022-10-17T00:17:02.864794Z",
     "start_time": "2022-10-17T00:17:02.845051Z"
    }
   },
   "outputs": [
    {
     "data": {
      "text/plain": [
       "['',\n",
       " 'thanks',\n",
       " 'are',\n",
       " 'due',\n",
       " 'to',\n",
       " 'my',\n",
       " 'parents',\n",
       " 'and',\n",
       " 'department',\n",
       " 'for',\n",
       " 'making',\n",
       " 'this',\n",
       " 'work',\n",
       " 'possible',\n",
       " 'jeffrey',\n",
       " 'reynar',\n",
       " 'for',\n",
       " 'discussions',\n",
       " 'and',\n",
       " 'guidance',\n",
       " 'on',\n",
       " 'the',\n",
       " 'segmentation',\n",
       " 'problem',\n",
       " 'hideki',\n",
       " 'kozima',\n",
       " 'for',\n",
       " 'help',\n",
       " 'on',\n",
       " 'the',\n",
       " 'spread',\n",
       " 'activation',\n",
       " 'measure',\n",
       " 'min-yen',\n",
       " 'kan',\n",
       " 'and',\n",
       " 'marti',\n",
       " 'hearst',\n",
       " 'for',\n",
       " 'their',\n",
       " 'segmentation',\n",
       " 'algorithms',\n",
       " 'daniel',\n",
       " 'oram',\n",
       " 'for',\n",
       " 'references',\n",
       " 'to',\n",
       " 'image',\n",
       " 'processing',\n",
       " 'techniques',\n",
       " 'magnus',\n",
       " 'rattray',\n",
       " 'and',\n",
       " 'stephen',\n",
       " 'marsland',\n",
       " 'for',\n",
       " 'help',\n",
       " 'on',\n",
       " 'statistics',\n",
       " 'and',\n",
       " 'mathematics']"
      ]
     },
     "execution_count": 36,
     "metadata": {},
     "output_type": "execute_result"
    }
   ],
   "source": [
    "palavras_conclusion[17]"
   ]
  },
  {
   "cell_type": "code",
   "execution_count": 37,
   "metadata": {
    "ExecuteTime": {
     "end_time": "2022-10-17T00:17:02.874839Z",
     "start_time": "2022-10-17T00:17:02.864794Z"
    }
   },
   "outputs": [
    {
     "data": {
      "text/plain": [
       "['method',\n",
       " 'for',\n",
       " 'linear',\n",
       " 'text',\n",
       " 'segmentation',\n",
       " 'which',\n",
       " 'is',\n",
       " 'twice',\n",
       " 'as',\n",
       " 'accurate',\n",
       " 'and',\n",
       " 'over',\n",
       " 'seven',\n",
       " 'times',\n",
       " 'as',\n",
       " 'fast',\n",
       " 'as',\n",
       " 'the',\n",
       " 'state-of-the-art']"
      ]
     },
     "execution_count": 37,
     "metadata": {},
     "output_type": "execute_result"
    }
   ],
   "source": [
    "palavras_abstract[1]"
   ]
  },
  {
   "cell_type": "code",
   "execution_count": 38,
   "metadata": {
    "ExecuteTime": {
     "end_time": "2022-10-17T00:17:02.894730Z",
     "start_time": "2022-10-17T00:17:02.874839Z"
    }
   },
   "outputs": [
    {
     "name": "stdout",
     "output_type": "stream",
     "text": [
      "0.7059151\n",
      "0.67089987\n",
      "0.66536903\n"
     ]
    }
   ],
   "source": [
    "for i in top_3_indices:\n",
    "    print(dicionario[i])"
   ]
  },
  {
   "cell_type": "code",
   "execution_count": 39,
   "metadata": {
    "ExecuteTime": {
     "end_time": "2022-10-17T00:17:02.904764Z",
     "start_time": "2022-10-17T00:17:02.894730Z"
    }
   },
   "outputs": [],
   "source": [
    "x=[]\n",
    "for i in range(len(top_3_indices)):\n",
    "    x.append(top_3_indices[i][0])\n",
    "indice_abstract = list(set(x))"
   ]
  },
  {
   "cell_type": "code",
   "execution_count": 40,
   "metadata": {
    "ExecuteTime": {
     "end_time": "2022-10-17T00:17:02.924895Z",
     "start_time": "2022-10-17T00:17:02.904764Z"
    }
   },
   "outputs": [
    {
     "data": {
      "text/plain": [
       "[array([-0.03005654,  0.06335381,  0.02538658,  0.03944966,  0.00072528,\n",
       "        -0.07140334,  0.03164456,  0.11321322, -0.03485314, -0.03227675,\n",
       "        -0.00406144, -0.05131771, -0.00821943,  0.04360663,  0.01253923,\n",
       "        -0.01163153, -0.00294549,  0.01970009, -0.02574342, -0.0807506 ,\n",
       "         0.02971597,  0.00457522,  0.02108393, -0.01591911,  0.02304422,\n",
       "        -0.01217359, -0.03186931,  0.02906884, -0.03258471, -0.01571547,\n",
       "         0.03294337, -0.01084572,  0.00773832, -0.03973003, -0.0104775 ,\n",
       "         0.05163279,  0.04089837, -0.05029463, -0.01446893, -0.02907491,\n",
       "        -0.02458826, -0.02734461, -0.05807611, -0.00031107,  0.04903553,\n",
       "        -0.01434697, -0.00390388,  0.01920667,  0.00817441,  0.00824645,\n",
       "         0.01043312, -0.02678019, -0.01400063,  0.04359349, -0.01203894,\n",
       "         0.00447435,  0.01951611, -0.01986977, -0.02017225,  0.02706773,\n",
       "         0.01444036, -0.01069678, -0.00843327, -0.04138195, -0.05193183,\n",
       "         0.04898473,  0.0301705 ,  0.0393674 , -0.04101956,  0.07875953,\n",
       "        -0.02733773,  0.04871455,  0.04102342, -0.00438976,  0.03252328,\n",
       "         0.04658967,  0.01123698,  0.00923019, -0.01248401, -0.02423035,\n",
       "        -0.06035829, -0.00723305, -0.01241303,  0.00835243, -0.00890507,\n",
       "         0.00550774,  0.02260299, -0.03167096,  0.04225066,  0.00545723,\n",
       "         0.02669412,  0.00975254,  0.01659199, -0.03213986,  0.07406232,\n",
       "         0.02060551,  0.02814278, -0.0233879 ,  0.01113687,  0.01421006],\n",
       "       dtype=float32),\n",
       " array([-0.00962645,  0.0800505 ,  0.0064885 ,  0.0375478 , -0.0078932 ,\n",
       "        -0.02742364,  0.05144411,  0.06793626,  0.01115427, -0.0383215 ,\n",
       "         0.05324918, -0.08750988, -0.01239434,  0.03722005,  0.01039016,\n",
       "        -0.00709946,  0.04263488, -0.03031727, -0.06685444, -0.09578289,\n",
       "         0.06093921,  0.00414337,  0.07533089, -0.0430535 ,  0.01515903,\n",
       "        -0.00712454, -0.00790566, -0.03220507,  0.00206772, -0.04983199,\n",
       "         0.03273975,  0.05258805, -0.02769218, -0.02750591, -0.00363311,\n",
       "         0.08689385,  0.04387812, -0.03550651, -0.02793904, -0.0009504 ,\n",
       "         0.01492737,  0.01752939, -0.04179391,  0.00945677,  0.04516114,\n",
       "         0.01479203,  0.01131102,  0.00339035,  0.00292603,  0.00783648,\n",
       "        -0.01358944, -0.04866775, -0.03895125,  0.00599318,  0.00151136,\n",
       "         0.01479341,  0.0473487 , -0.00889287, -0.0270948 ,  0.00736185,\n",
       "         0.02712566, -0.0181335 ,  0.04093422, -0.04522073, -0.02281453,\n",
       "         0.07284584, -0.01199423,  0.05047654, -0.06271337, -0.00186089,\n",
       "        -0.0444721 ,  0.02507073,  0.00552138, -0.02145605,  0.05738008,\n",
       "        -0.0577543 , -0.00433222, -0.01131342, -0.05129566, -0.04612209,\n",
       "        -0.05783138,  0.00414513,  0.00954264,  0.04887789, -0.01319263,\n",
       "         0.00949173,  0.03624953,  0.00591382,  0.0189176 , -0.00598037,\n",
       "         0.01800632, -0.04409309,  0.0177861 , -0.01481679,  0.07797229,\n",
       "         0.0298207 ,  0.04680118, -0.02718254,  0.03373031,  0.04730097],\n",
       "       dtype=float32)]"
      ]
     },
     "execution_count": 40,
     "metadata": {},
     "output_type": "execute_result"
    }
   ],
   "source": [
    "vetor_frases_objetivo_1=[]\n",
    "for i in range(len(indice_abstract)):\n",
    "    vetor_frases_objetivo_1.append(vetor_intro[indice_abstract[i]])\n",
    "vetor_frases_objetivo_1"
   ]
  },
  {
   "cell_type": "code",
   "execution_count": 41,
   "metadata": {
    "ExecuteTime": {
     "end_time": "2022-10-17T00:17:02.934664Z",
     "start_time": "2022-10-17T00:17:02.924895Z"
    }
   },
   "outputs": [
    {
     "name": "stdout",
     "output_type": "stream",
     "text": [
      "method for linear text segmentation which is twice as accurate and over seven times as fast as the state-of-the-art\n",
      "inter-sentence similarity is replaced by rank in the local context\n"
     ]
    }
   ],
   "source": [
    "for i in indice_abstract:\n",
    "    print(frases_abstract[i])"
   ]
  },
  {
   "cell_type": "code",
   "execution_count": 42,
   "metadata": {
    "ExecuteTime": {
     "end_time": "2022-10-17T00:17:03.405218Z",
     "start_time": "2022-10-17T00:17:02.934664Z"
    }
   },
   "outputs": [],
   "source": [
    "from rouge_score import rouge_scorer\n",
    "\n",
    "scorer = rouge_scorer.RougeScorer(['rouge1', 'rougeL'], use_stemmer=True)"
   ]
  },
  {
   "cell_type": "code",
   "execution_count": 43,
   "metadata": {
    "ExecuteTime": {
     "end_time": "2022-10-17T00:17:03.434921Z",
     "start_time": "2022-10-17T00:17:03.405218Z"
    }
   },
   "outputs": [],
   "source": [
    "rouge_score_frases = {}\n",
    "for i in indice_abstract:\n",
    "    for j in range(len(summary1)):\n",
    "        #print(scorer.score(frases_abstract[i],summary1[j])['rouge1'].fmeasure)\n",
    "        rouge_score_frases[i,j] = scorer.score(frases_abstract[i],summary1[j])['rouge1'].fmeasure"
   ]
  },
  {
   "cell_type": "code",
   "execution_count": null,
   "metadata": {},
   "outputs": [],
   "source": []
  },
  {
   "cell_type": "code",
   "execution_count": 44,
   "metadata": {
    "ExecuteTime": {
     "end_time": "2022-10-17T00:17:03.444593Z",
     "start_time": "2022-10-17T00:17:03.434921Z"
    }
   },
   "outputs": [
    {
     "data": {
      "text/plain": [
       "{(1, 0): 0.20689655172413793,\n",
       " (1, 1): 0.88,\n",
       " (1, 2): 0.12121212121212123,\n",
       " (1, 3): 0.0,\n",
       " (1, 4): 0.14285714285714282,\n",
       " (2, 0): 0.1111111111111111,\n",
       " (2, 1): 0.10256410256410255,\n",
       " (2, 2): 1.0,\n",
       " (2, 3): 0.1111111111111111,\n",
       " (2, 4): 0.12903225806451613}"
      ]
     },
     "execution_count": 44,
     "metadata": {},
     "output_type": "execute_result"
    }
   ],
   "source": [
    "rouge_score_frases"
   ]
  },
  {
   "cell_type": "code",
   "execution_count": 45,
   "metadata": {
    "ExecuteTime": {
     "end_time": "2022-10-17T00:17:03.454878Z",
     "start_time": "2022-10-17T00:17:03.444593Z"
    }
   },
   "outputs": [
    {
     "data": {
      "text/plain": [
       "'method for linear text segmentation which is twice as accurate and over seven times as fast as the state-of-the-art'"
      ]
     },
     "execution_count": 45,
     "metadata": {},
     "output_type": "execute_result"
    }
   ],
   "source": [
    "frases_abstract[1]"
   ]
  },
  {
   "cell_type": "code",
   "execution_count": 46,
   "metadata": {
    "ExecuteTime": {
     "end_time": "2022-10-17T00:17:03.464685Z",
     "start_time": "2022-10-17T00:17:03.454878Z"
    }
   },
   "outputs": [
    {
     "data": {
      "text/plain": [
       "'inter-sentence similarity is replaced by rank in the local context'"
      ]
     },
     "execution_count": 46,
     "metadata": {},
     "output_type": "execute_result"
    }
   ],
   "source": [
    "frases_abstract[2]"
   ]
  },
  {
   "cell_type": "code",
   "execution_count": 47,
   "metadata": {
    "ExecuteTime": {
     "end_time": "2022-10-17T00:17:03.474895Z",
     "start_time": "2022-10-17T00:17:03.464685Z"
    }
   },
   "outputs": [
    {
     "data": {
      "text/plain": [
       "['Advances In Domain Independent Linear Text Segmentation\\n',\n",
       " 'This paper describes a method for linear text segmentation which is twice as accurate and over seven times as fast as the state-of-the-art (Reynar, 1998).\\n',\n",
       " 'Inter-sentence similarity is replaced by rank in the local context.\\n',\n",
       " 'Boundary locations are discovered by divisive clustering.\\n',\n",
       " 'We design an artificial dataset, built by concatenating short pieces of texts that have been extracted from the Brown corpus.\\n']"
      ]
     },
     "execution_count": 47,
     "metadata": {},
     "output_type": "execute_result"
    }
   ],
   "source": [
    "summary1"
   ]
  },
  {
   "cell_type": "code",
   "execution_count": 48,
   "metadata": {
    "ExecuteTime": {
     "end_time": "2022-10-17T00:17:03.484939Z",
     "start_time": "2022-10-17T00:17:03.474895Z"
    }
   },
   "outputs": [
    {
     "data": {
      "text/plain": [
       "'Inter-sentence similarity is replaced by rank in the local context.\\n'"
      ]
     },
     "execution_count": 48,
     "metadata": {},
     "output_type": "execute_result"
    }
   ],
   "source": [
    "summary1[2]"
   ]
  },
  {
   "cell_type": "code",
   "execution_count": 49,
   "metadata": {
    "ExecuteTime": {
     "end_time": "2022-10-17T00:17:03.494723Z",
     "start_time": "2022-10-17T00:17:03.484939Z"
    }
   },
   "outputs": [
    {
     "data": {
      "text/plain": [
       "['this paper describes',\n",
       " 'method for linear text segmentation which is twice as accurate and over seven times as fast as the state-of-the-art',\n",
       " 'inter-sentence similarity is replaced by rank in the local context',\n",
       " ' boundary locations are discovered by divisive clustering',\n",
       " '']"
      ]
     },
     "execution_count": 49,
     "metadata": {},
     "output_type": "execute_result"
    }
   ],
   "source": [
    "frases_abstract"
   ]
  },
  {
   "cell_type": "code",
   "execution_count": 50,
   "metadata": {
    "ExecuteTime": {
     "end_time": "2022-10-17T00:17:03.504763Z",
     "start_time": "2022-10-17T00:17:03.494723Z"
    }
   },
   "outputs": [
    {
     "data": {
      "text/plain": [
       "['Advances In Domain Independent Linear Text Segmentation\\n',\n",
       " 'This paper describes a method for linear text segmentation which is twice as accurate and over seven times as fast as the state-of-the-art (Reynar, 1998).\\n',\n",
       " 'Inter-sentence similarity is replaced by rank in the local context.\\n',\n",
       " 'Boundary locations are discovered by divisive clustering.\\n',\n",
       " 'We design an artificial dataset, built by concatenating short pieces of texts that have been extracted from the Brown corpus.\\n']"
      ]
     },
     "execution_count": 50,
     "metadata": {},
     "output_type": "execute_result"
    }
   ],
   "source": [
    "summary1"
   ]
  },
  {
   "cell_type": "code",
   "execution_count": 51,
   "metadata": {
    "ExecuteTime": {
     "end_time": "2022-10-17T00:17:03.524546Z",
     "start_time": "2022-10-17T00:17:03.504763Z"
    }
   },
   "outputs": [
    {
     "data": {
      "text/plain": [
       "'this paper describes.method for linear text segmentation which is twice as accurate and over seven times as fast as the state-of-the-art.inter-sentence similarity is replaced by rank in the local context. boundary locations are discovered by divisive clustering.'"
      ]
     },
     "execution_count": 51,
     "metadata": {},
     "output_type": "execute_result"
    }
   ],
   "source": [
    "abstract"
   ]
  },
  {
   "cell_type": "markdown",
   "metadata": {
    "ExecuteTime": {
     "end_time": "2022-10-14T21:44:29.942141Z",
     "start_time": "2022-10-14T21:44:29.293698Z"
    }
   },
   "source": [
    "from rouge_score import rouge_scorer\n",
    "\n",
    "scorer = rouge_scorer.RougeScorer(['rouge1', 'rougeL'], use_stemmer=True)\n",
    "scores = scorer.score('The quick brown fox jumps over the lazy dog',\n",
    "                      'The quick brown dog jumps on the log.')"
   ]
  },
  {
   "cell_type": "markdown",
   "metadata": {
    "ExecuteTime": {
     "end_time": "2022-10-14T21:44:34.685277Z",
     "start_time": "2022-10-14T21:44:34.678296Z"
    }
   },
   "source": [
    "scores"
   ]
  },
  {
   "cell_type": "code",
   "execution_count": null,
   "metadata": {},
   "outputs": [],
   "source": []
  }
 ],
 "metadata": {
  "hide_input": false,
  "kernelspec": {
   "display_name": "Python 3",
   "language": "python",
   "name": "python3"
  },
  "language_info": {
   "codemirror_mode": {
    "name": "ipython",
    "version": 3
   },
   "file_extension": ".py",
   "mimetype": "text/x-python",
   "name": "python",
   "nbconvert_exporter": "python",
   "pygments_lexer": "ipython3",
   "version": "3.8.5"
  },
  "toc": {
   "base_numbering": 1,
   "nav_menu": {},
   "number_sections": true,
   "sideBar": true,
   "skip_h1_title": false,
   "title_cell": "Table of Contents",
   "title_sidebar": "Contents",
   "toc_cell": false,
   "toc_position": {},
   "toc_section_display": true,
   "toc_window_display": false
  },
  "varInspector": {
   "cols": {
    "lenName": 16,
    "lenType": 16,
    "lenVar": 40
   },
   "kernels_config": {
    "python": {
     "delete_cmd_postfix": "",
     "delete_cmd_prefix": "del ",
     "library": "var_list.py",
     "varRefreshCmd": "print(var_dic_list())"
    },
    "r": {
     "delete_cmd_postfix": ") ",
     "delete_cmd_prefix": "rm(",
     "library": "var_list.r",
     "varRefreshCmd": "cat(var_dic_list()) "
    }
   },
   "types_to_exclude": [
    "module",
    "function",
    "builtin_function_or_method",
    "instance",
    "_Feature"
   ],
   "window_display": false
  }
 },
 "nbformat": 4,
 "nbformat_minor": 4
}
