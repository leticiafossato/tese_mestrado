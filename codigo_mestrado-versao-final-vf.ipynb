{
 "cells": [
  {
   "cell_type": "markdown",
   "metadata": {},
   "source": [
    "# Setup"
   ]
  },
  {
   "cell_type": "markdown",
   "metadata": {},
   "source": [
    "## Importando bibliotecas"
   ]
  },
  {
   "cell_type": "code",
   "execution_count": 2,
   "metadata": {
    "ExecuteTime": {
     "end_time": "2022-10-16T20:54:33.866866Z",
     "start_time": "2022-10-16T20:53:30.476353Z"
    }
   },
   "outputs": [],
   "source": [
    "import pandas as pd\n",
    "import re\n",
    "import os\n",
    "import collections\n",
    "import nltk\n",
    "import urllib\n",
    "import bs4 as bs\n",
    "import re\n",
    "from gensim.models import Word2Vec\n",
    "from nltk.corpus import stopwords\n",
    "import numpy\n",
    "from rouge_score import rouge_scorer\n",
    "from numpy import dot\n",
    "from numpy.linalg import norm"
   ]
  },
  {
   "cell_type": "markdown",
   "metadata": {
    "heading_collapsed": true
   },
   "source": [
    "## Leitura da Base"
   ]
  },
  {
   "cell_type": "markdown",
   "metadata": {
    "heading_collapsed": true,
    "hidden": true
   },
   "source": [
    "### Leitura de Artigos"
   ]
  },
  {
   "cell_type": "code",
   "execution_count": 3,
   "metadata": {
    "ExecuteTime": {
     "end_time": "2022-10-16T20:54:33.984106Z",
     "start_time": "2022-10-16T20:54:33.866866Z"
    },
    "hidden": true
   },
   "outputs": [],
   "source": [
    "list_of_files = os.listdir('../top1000_complete')"
   ]
  },
  {
   "cell_type": "code",
   "execution_count": 4,
   "metadata": {
    "ExecuteTime": {
     "end_time": "2022-10-16T20:55:10.796487Z",
     "start_time": "2022-10-16T20:54:33.988101Z"
    },
    "hidden": true
   },
   "outputs": [],
   "source": [
    "#Leitura dos artigos\n",
    "list_of_files2= []\n",
    "for i in list_of_files:\n",
    "    nome = '../top1000_complete/' + i + '/' + 'Documents_xml/' +os.listdir(f'../top1000_complete/{i}/Documents_xml')[0]\n",
    "    list_of_files2.append(nome)\n",
    "    \n",
    "    \n",
    "lines = []\n",
    "for file in list_of_files2:\n",
    "    f= open(file,'r')\n",
    "    lines.append(f.readlines())\n",
    "    f.close()"
   ]
  },
  {
   "cell_type": "markdown",
   "metadata": {
    "hidden": true
   },
   "source": [
    "### Leitura dos Sumários"
   ]
  },
  {
   "cell_type": "code",
   "execution_count": 5,
   "metadata": {
    "ExecuteTime": {
     "end_time": "2022-10-16T20:55:44.406208Z",
     "start_time": "2022-10-16T20:55:10.796487Z"
    },
    "hidden": true
   },
   "outputs": [],
   "source": [
    "#Leitura do padrão ouro\n",
    "list_of_files3= []\n",
    "for i in list_of_files:\n",
    "    nome = '../top1000_complete/' + i + '/' + 'summary/' +os.listdir(f'../top1000_complete/{i}/summary')[0]\n",
    "    list_of_files3.append(nome)\n",
    "    \n",
    "    \n",
    "lines3 = []\n",
    "for file in list_of_files3:\n",
    "    f= open(file,'r',encoding='utf-8')\n",
    "    lines3.append(f.readlines())\n",
    "    f.close()"
   ]
  },
  {
   "cell_type": "markdown",
   "metadata": {},
   "source": [
    "## Seleção da base\n",
    "Identificando quais papers possuem as três seções `Resumo`, `Introdução` e `Conclusão`"
   ]
  },
  {
   "cell_type": "code",
   "execution_count": 59,
   "metadata": {
    "ExecuteTime": {
     "end_time": "2022-10-16T23:47:45.611563Z",
     "start_time": "2022-10-16T23:47:45.604581Z"
    }
   },
   "outputs": [],
   "source": [
    "paper1= lines"
   ]
  },
  {
   "cell_type": "code",
   "execution_count": 7,
   "metadata": {
    "ExecuteTime": {
     "end_time": "2022-10-16T20:55:44.451195Z",
     "start_time": "2022-10-16T20:55:44.431209Z"
    }
   },
   "outputs": [],
   "source": [
    "summary1= lines3[2]"
   ]
  },
  {
   "cell_type": "code",
   "execution_count": 60,
   "metadata": {
    "ExecuteTime": {
     "end_time": "2022-10-16T23:47:50.746659Z",
     "start_time": "2022-10-16T23:47:50.514023Z"
    }
   },
   "outputs": [],
   "source": [
    "lista_papers=[]\n",
    "for j in paper1:\n",
    "    texto=''\n",
    "    for i in j:\n",
    "        texto = texto + str(i)\n",
    "    lista_papers.append(texto)"
   ]
  },
  {
   "cell_type": "markdown",
   "metadata": {
    "ExecuteTime": {
     "end_time": "2022-10-16T17:10:51.238514Z",
     "start_time": "2022-10-16T17:10:51.084477Z"
    }
   },
   "source": [
    "texto=''\n",
    "for i in paper1:\n",
    "    texto = texto + str(i)"
   ]
  },
  {
   "cell_type": "code",
   "execution_count": 98,
   "metadata": {
    "ExecuteTime": {
     "end_time": "2022-10-17T00:28:07.894927Z",
     "start_time": "2022-10-17T00:28:07.873980Z"
    },
    "hide_input": true
   },
   "outputs": [],
   "source": [
    "def preprocessa_intro(corpus: str):\n",
    "    regIter = re.finditer('(<SECTION.*Introduction.*?>(.*)<\\/SECTION>)', corpus, re.DOTALL|re.MULTILINE)\n",
    "    textos = [ t.group(2) for t in regIter]\n",
    "    lista = []\n",
    "    for texto in textos:\n",
    "        txt = re.sub('\\\\n',' ', texto)\n",
    "        txt = re.sub(',','', txt)\n",
    "        txt = re.sub(';','', txt)\n",
    "        txt = re.sub(':','', txt)\n",
    "        txt = re.sub('[ ]+',' ', txt)\n",
    "        txt = re.sub(r'\\([^)]*\\)', \"\",txt)\n",
    "        txt = re.sub(r'\\<(.*?)\\>',\"\",txt)\n",
    "        txt = re.sub(r'small\\&',\"\",txt)\n",
    "        txt = re.sub(r'tagger&amp',\"\",txt)\n",
    "        txt = re.sub(r';quot',\"\",txt)\n",
    "        txt = re.sub(r'\\&amp',\"\",txt)\n",
    "        txt = re.sub(' +', ' ', txt)\n",
    "        txt = re.sub('\\.',txt)\n",
    "        txt = txt.lower()\n",
    "        #txt = '<sos> ' + txt.strip() + ' <eos>'\n",
    "        txt = txt.strip()\n",
    "        txt = re.sub(' . ', '.', txt).strip()\n",
    "        #txt = '<sos> ' + txt.strip() + ' <eos>'\n",
    "        return txt\n",
    "    return txt\n",
    "\n",
    "def preprocessa_abstract(corpus: str):\n",
    "    regIter = re.finditer(\"(<ABSTRACT>)(.+?)(</ABSTRACT>)\", corpus, re.DOTALL|re.MULTILINE)\n",
    "    textos = [ t.group(2) for t in regIter]\n",
    "    lista = []\n",
    "    for texto in textos:\n",
    "        txt = re.sub('\\\\n',' ', texto)\n",
    "        txt = re.sub(',','', txt)\n",
    "        txt = re.sub(';',' ;', txt)\n",
    "        txt = re.sub('[ ]+',' ', txt)\n",
    "        txt = re.sub(r'\\([^)]*\\)', \"\",txt)\n",
    "        txt = re.sub(r'\\<(.*?)\\>',\"\",txt)\n",
    "        txt = txt.lower()\n",
    "        txt = re.sub('\\.',txt)\n",
    "        txt = re.sub(' . ', '.', txt).strip()\n",
    "        #txt = '<sos> ' + txt.strip() + ' <eos>'\n",
    "        lista.append(txt)\n",
    "    return txt\n",
    "\n",
    "\n",
    "def preprocessa_conclusion(corpus: str):\n",
    "    regIter = re.finditer('(<SECTION.*Conclusion.*?>(.*)<\\/SECTION>)', corpus, re.DOTALL|re.MULTILINE)\n",
    "    textos = [ t.group(2) for t in regIter]\n",
    "    lista = []\n",
    "    for texto in textos:\n",
    "        txt = re.sub('\\\\n',' ', texto)\n",
    "        txt = re.sub(',','', txt)\n",
    "        txt = re.sub(';','', txt)\n",
    "        txt = re.sub(':','', txt)\n",
    "        txt = re.sub('[ ]+',' ', txt)\n",
    "        txt = re.sub(r'\\([^)]*\\)', \"\",txt)\n",
    "        txt = re.sub(r'\\<(.*?)\\>',\"\",txt)\n",
    "        txt = re.sub(r'small\\&',\"\",txt)\n",
    "        txt = re.sub(r'tagger&amp',\"\",txt)\n",
    "        txt = re.sub(r';quot',\"\",txt)\n",
    "        txt = re.sub(r'\\&amp',\"\",txt)\n",
    "        txt = re.sub(' +', ' ', txt)\n",
    "        txt = re.sub('\\.',txt)\n",
    "        txt = txt.lower()\n",
    "        txt = re.sub(' . ', '.', txt).strip()\n",
    "        #txt = '<sos> ' + txt.strip() + ' <eos>'\n",
    "        txt = txt.strip()\n",
    "        #txt = '<sos> ' + txt.strip() + ' <eos>'\n",
    "        return txt\n",
    "    return txt"
   ]
  },
  {
   "cell_type": "code",
   "execution_count": 63,
   "metadata": {
    "ExecuteTime": {
     "end_time": "2022-10-16T23:47:55.306821Z",
     "start_time": "2022-10-16T23:47:55.293325Z"
    }
   },
   "outputs": [],
   "source": [
    "#Aplicando indices aos papers\n",
    "indices           = range(0,len(lista_papers))\n",
    "papers_com_indice = dict(zip(indices, lista_papers))"
   ]
  },
  {
   "cell_type": "code",
   "execution_count": 64,
   "metadata": {
    "ExecuteTime": {
     "end_time": "2022-10-16T23:47:59.306638Z",
     "start_time": "2022-10-16T23:47:56.771561Z"
    }
   },
   "outputs": [],
   "source": [
    "introducao_papers=[]\n",
    "x=[]\n",
    "for i,j in zip(list(papers_com_indice.keys()),list(papers_com_indice.values())):\n",
    "    try:\n",
    "        introducao_papers.append(preprocessa_intro(j))\n",
    "        x.append(i)\n",
    "    except:\n",
    "        None"
   ]
  },
  {
   "cell_type": "code",
   "execution_count": 65,
   "metadata": {
    "ExecuteTime": {
     "end_time": "2022-10-16T23:48:00.687508Z",
     "start_time": "2022-10-16T23:48:00.657587Z"
    }
   },
   "outputs": [],
   "source": [
    " filtro_tem_introducao = dict((key,value) for key, value in papers_com_indice.items() if key  in  x)"
   ]
  },
  {
   "cell_type": "code",
   "execution_count": 66,
   "metadata": {
    "ExecuteTime": {
     "end_time": "2022-10-16T23:48:02.226855Z",
     "start_time": "2022-10-16T23:48:02.123628Z"
    }
   },
   "outputs": [],
   "source": [
    "abstract_papers=[]\n",
    "x=[]\n",
    "for i,j in zip(list(filtro_tem_introducao.keys()),list(filtro_tem_introducao.values())):\n",
    "    try:\n",
    "        abstract_papers.append(preprocessa_abstract(j))\n",
    "        x.append(i)\n",
    "    except:\n",
    "        None"
   ]
  },
  {
   "cell_type": "code",
   "execution_count": 67,
   "metadata": {
    "ExecuteTime": {
     "end_time": "2022-10-16T23:48:03.642182Z",
     "start_time": "2022-10-16T23:48:03.613261Z"
    }
   },
   "outputs": [],
   "source": [
    "filtro_tem_introducao_e_abstract = dict((key,value) for key, value in papers_com_indice.items() if key  in  x)"
   ]
  },
  {
   "cell_type": "code",
   "execution_count": 92,
   "metadata": {
    "ExecuteTime": {
     "end_time": "2022-10-17T00:21:56.684440Z",
     "start_time": "2022-10-17T00:21:56.376495Z"
    }
   },
   "outputs": [],
   "source": [
    "conclusion_papers=[]\n",
    "indices_conclusao=[]\n",
    "for i,j in zip(list(filtro_tem_introducao_e_abstract.keys()),list(filtro_tem_introducao_e_abstract.values())):\n",
    "    try:\n",
    "        conclusion_papers.append(preprocessa_conclusion(j))\n",
    "        indices_conclusao.append(i)\n",
    "    except:\n",
    "        None"
   ]
  },
  {
   "cell_type": "code",
   "execution_count": 72,
   "metadata": {
    "ExecuteTime": {
     "end_time": "2022-10-16T23:48:37.491693Z",
     "start_time": "2022-10-16T23:48:37.480722Z"
    }
   },
   "outputs": [
    {
     "name": "stdout",
     "output_type": "stream",
     "text": [
      "qtd de papers com introdução: 1009\n",
      "qtd de papers com introdução: 744\n",
      "qtd de papers com introdução e abstract: 728\n",
      "qtd de papers com introduçã, abstract e conclusão: 571\n"
     ]
    }
   ],
   "source": [
    "print('qtd de papers com introdução:',len(papers_com_indice.keys()))\n",
    "print('qtd de papers com introdução:',len(introducao_papers))\n",
    "print('qtd de papers com introdução e abstract:',len(abstract_papers))\n",
    "print('qtd de papers com introduçã, abstract e conclusão:',len(conclusion_papers))"
   ]
  },
  {
   "cell_type": "code",
   "execution_count": 93,
   "metadata": {
    "ExecuteTime": {
     "end_time": "2022-10-17T00:22:03.521897Z",
     "start_time": "2022-10-17T00:22:03.501955Z"
    }
   },
   "outputs": [],
   "source": [
    "total_papers = dict((key,value) for key, value in papers_com_indice.items() if key  in indices_conclusao)"
   ]
  },
  {
   "cell_type": "code",
   "execution_count": 88,
   "metadata": {
    "ExecuteTime": {
     "end_time": "2022-10-17T00:20:43.764542Z",
     "start_time": "2022-10-17T00:20:43.594594Z"
    }
   },
   "outputs": [],
   "source": [
    "#Definição do abstract\n",
    "abstract=[]\n",
    "for i in total_papers.values():\n",
    "    abstract.append(preprocessa_abstract(i))"
   ]
  },
  {
   "cell_type": "code",
   "execution_count": 89,
   "metadata": {
    "ExecuteTime": {
     "end_time": "2022-10-17T00:21:07.063652Z",
     "start_time": "2022-10-17T00:21:04.472509Z"
    }
   },
   "outputs": [],
   "source": [
    "#Definição da Introdução\n",
    "intro=[]\n",
    "for i in total_papers.values():\n",
    "    intro.append(preprocessa_intro(i))"
   ]
  },
  {
   "cell_type": "code",
   "execution_count": 94,
   "metadata": {
    "ExecuteTime": {
     "end_time": "2022-10-17T00:24:19.594490Z",
     "start_time": "2022-10-17T00:24:19.395289Z"
    }
   },
   "outputs": [],
   "source": [
    "#Definição da Conclusao\n",
    "conclusion=[]\n",
    "for i in total_papers.values():\n",
    "    conclusion.append(preprocessa_conclusion(i))"
   ]
  },
  {
   "cell_type": "code",
   "execution_count": 13,
   "metadata": {
    "ExecuteTime": {
     "end_time": "2022-10-16T17:10:51.534135Z",
     "start_time": "2022-10-16T17:10:51.522168Z"
    }
   },
   "outputs": [],
   "source": [
    "token_abstract   = []\n",
    "for texto in total_papers.values():\n",
    "    token_abstract.append(preprocessa_abstract(texto).split())"
   ]
  },
  {
   "cell_type": "code",
   "execution_count": 95,
   "metadata": {
    "ExecuteTime": {
     "end_time": "2022-10-17T00:25:50.614552Z",
     "start_time": "2022-10-17T00:25:48.167866Z"
    }
   },
   "outputs": [],
   "source": [
    "token_intro   = []\n",
    "for texto in total_papers.values():\n",
    "    token_intro.append(preprocessa_intro(texto).split())"
   ]
  },
  {
   "cell_type": "code",
   "execution_count": 96,
   "metadata": {
    "ExecuteTime": {
     "end_time": "2022-10-17T00:26:08.854385Z",
     "start_time": "2022-10-17T00:26:08.601123Z"
    }
   },
   "outputs": [],
   "source": [
    "token_conclusion   = []\n",
    "for texto in total_papers.values():\n",
    "    token_conclusion.append(preprocessa_conclusion(texto).split())"
   ]
  },
  {
   "cell_type": "code",
   "execution_count": 97,
   "metadata": {
    "ExecuteTime": {
     "end_time": "2022-10-17T00:26:34.270537Z",
     "start_time": "2022-10-17T00:26:34.265550Z"
    }
   },
   "outputs": [
    {
     "name": "stdout",
     "output_type": "stream",
     "text": [
      "[\"trigrams'n'tags\", 'is', 'an', 'efficient', 'statistical', 'part-of-speech', 'tagger.', 'contrary', 'to', 'claims', 'found', 'elsewhere', 'in', 'the', 'literature', 'we', 'argue', 'that.tagger', 'based', 'on', 'markov', 'models', 'performs', 'at', 'least', 'as', 'well', 'as', 'other', 'current', 'approaches', 'including', 'the', 'maximum', 'entropy', 'framework..recent', 'comparison', 'has', 'even', 'shown', 'that', 'tnt', 'performs', 'significantly', 'better', 'for', 'the', 'tested', 'corpora.', 'we', 'describe', 'the', 'basic', 'model', 'of', 'tnt', 'the', 'techniques', 'used', 'for', 'smoothing', 'and', 'for', 'handling', 'unknown', 'words.', 'furthermore', 'we', 'present', 'evaluations', 'on', 'two', 'corpora.']\n",
      "['this', 'paper', 'describes.method', 'for', 'linear', 'text', 'segmentation', 'which', 'is', 'twice', 'as', 'accurate', 'and', 'over', 'seven', 'times', 'as', 'fast', 'as', 'the', 'state-of-the-art.inter-sentence', 'similarity', 'is', 'replaced', 'by', 'rank', 'in', 'the', 'local', 'context.', 'boundary', 'locations', 'are', 'discovered', 'by', 'divisive', 'clustering.']\n"
     ]
    }
   ],
   "source": [
    "for i in token_abstract[0:2]:\n",
    "    print(i)"
   ]
  },
  {
   "cell_type": "code",
   "execution_count": 103,
   "metadata": {
    "ExecuteTime": {
     "end_time": "2022-10-17T00:29:13.898821Z",
     "start_time": "2022-10-17T00:29:13.886852Z"
    }
   },
   "outputs": [],
   "source": [
    "tokens = token_abstract+token_intro+token_conclusion"
   ]
  },
  {
   "cell_type": "code",
   "execution_count": 104,
   "metadata": {
    "ExecuteTime": {
     "end_time": "2022-10-17T00:29:28.573849Z",
     "start_time": "2022-10-17T00:29:16.327500Z"
    }
   },
   "outputs": [],
   "source": [
    "model = Word2Vec(tokens, min_count=1)"
   ]
  },
  {
   "cell_type": "code",
   "execution_count": 105,
   "metadata": {
    "ExecuteTime": {
     "end_time": "2022-10-17T00:29:31.395259Z",
     "start_time": "2022-10-17T00:29:31.375313Z"
    }
   },
   "outputs": [
    {
     "data": {
      "text/plain": [
       "123347"
      ]
     },
     "execution_count": 105,
     "metadata": {},
     "output_type": "execute_result"
    }
   ],
   "source": [
    "len(model.wv.key_to_index)"
   ]
  },
  {
   "cell_type": "code",
   "execution_count": 109,
   "metadata": {
    "ExecuteTime": {
     "end_time": "2022-10-17T00:29:49.910833Z",
     "start_time": "2022-10-17T00:29:49.904850Z"
    }
   },
   "outputs": [
    {
     "data": {
      "text/plain": [
       "9"
      ]
     },
     "execution_count": 109,
     "metadata": {},
     "output_type": "execute_result"
    }
   ],
   "source": [
    "model.wv.key_to_index['are']"
   ]
  },
  {
   "cell_type": "markdown",
   "metadata": {
    "ExecuteTime": {
     "end_time": "2022-10-14T22:10:22.891664Z",
     "start_time": "2022-10-14T22:10:22.831824Z"
    }
   },
   "source": [
    "model.wv.key_to_index"
   ]
  },
  {
   "cell_type": "markdown",
   "metadata": {},
   "source": [
    "frases_abstract = abstract.split('.')\n",
    "palavras_frases=[]\n",
    "for i in frases_abstract:\n",
    "    palavras_frases.append(i.split(' '))\n",
    "palavras_frases"
   ]
  },
  {
   "cell_type": "markdown",
   "metadata": {},
   "source": [
    "## Definição de Funções"
   ]
  },
  {
   "cell_type": "code",
   "execution_count": 110,
   "metadata": {
    "ExecuteTime": {
     "end_time": "2022-10-17T00:37:40.874674Z",
     "start_time": "2022-10-17T00:37:40.855725Z"
    }
   },
   "outputs": [],
   "source": [
    "def remove_values_from_list(the_list, val):\n",
    "    return [value for value in the_list if value != val]"
   ]
  },
  {
   "cell_type": "code",
   "execution_count": 124,
   "metadata": {
    "ExecuteTime": {
     "end_time": "2022-10-17T01:25:55.432396Z",
     "start_time": "2022-10-17T01:25:55.410419Z"
    }
   },
   "outputs": [],
   "source": [
    "def funcao_frase_palavra(abstract):\n",
    "    \"\"\"input: lista de frases\n",
    "        output: lista de palavras de cada frase\"\"\"\n",
    "    frases_abstract = abstract.split('.')\n",
    "    palavras_frases=[]\n",
    "    for i in frases_abstract:\n",
    "        palavras_frases.append(i.split(' '))\n",
    "    try:\n",
    "        palavras_frases.remove('')\n",
    "    except:\n",
    "        return palavras_frases\n",
    "    return palavras_frases"
   ]
  },
  {
   "cell_type": "code",
   "execution_count": 18,
   "metadata": {
    "ExecuteTime": {
     "end_time": "2022-10-16T17:10:51.722382Z",
     "start_time": "2022-10-16T17:10:51.709793Z"
    }
   },
   "outputs": [],
   "source": [
    "def vetor_frases(palavras_frases):\n",
    "    \"\"\"input: lista de palavras de cada frase\n",
    "        output: lista de vetores de cada frase\"\"\"\n",
    "    x=[]\n",
    "    for i in palavras_frases:\n",
    "        soma=0\n",
    "        for j in i:\n",
    "            try:\n",
    "                soma = soma +model.wv[j]\n",
    "            except:\n",
    "                soma=soma+0\n",
    "        x.append(soma)\n",
    "    return x"
   ]
  },
  {
   "cell_type": "code",
   "execution_count": 19,
   "metadata": {
    "ExecuteTime": {
     "end_time": "2022-10-16T17:10:51.738337Z",
     "start_time": "2022-10-16T17:10:51.724376Z"
    }
   },
   "outputs": [],
   "source": [
    "def funcao_sim_coseno(a,b):\n",
    "    valor_coseno = (numpy.dot(a, b))/(numpy.linalg.norm(a)* numpy.linalg.norm(b))\n",
    "    if valor_coseno is None:\n",
    "        return 0\n",
    "    else:\n",
    "        return valor_coseno"
   ]
  },
  {
   "cell_type": "code",
   "execution_count": 23,
   "metadata": {
    "ExecuteTime": {
     "end_time": "2022-10-16T17:10:51.894025Z",
     "start_time": "2022-10-16T17:10:51.888046Z"
    }
   },
   "outputs": [],
   "source": [
    "def funcao_sim_coseno(a,b):\n",
    "    if ((numpy.linalg.norm(a)==0) |(numpy.linalg.norm(b)==0)):\n",
    "        return 0\n",
    "    else:\n",
    "        valor_coseno = (numpy.dot(a, b))/(numpy.linalg.norm(a)* numpy.linalg.norm(b))\n",
    "        return valor_coseno"
   ]
  },
  {
   "cell_type": "code",
   "execution_count": 26,
   "metadata": {
    "ExecuteTime": {
     "end_time": "2022-10-16T17:10:51.986407Z",
     "start_time": "2022-10-16T17:10:51.974255Z"
    }
   },
   "outputs": [],
   "source": [
    "def dicionario_similaridade(vetor_a,vetor_b):\n",
    "    \"\"\"Input: vetor correspondente às frases das seções a e b\n",
    "    Output: \n",
    "    \"\"\"\n",
    "    dicionario={}\n",
    "    for i in range(len(vetor_a)):\n",
    "        for j in range(len(vetor_b)):\n",
    "            dicionario[i,j]= funcao_sim_coseno(vetor_a[i],vetor_b[j])\n",
    "    return dicionario"
   ]
  },
  {
   "cell_type": "markdown",
   "metadata": {},
   "source": [
    "# Vetor de frases"
   ]
  },
  {
   "cell_type": "code",
   "execution_count": 114,
   "metadata": {
    "ExecuteTime": {
     "end_time": "2022-10-17T01:22:12.286684Z",
     "start_time": "2022-10-17T01:22:12.246792Z"
    }
   },
   "outputs": [],
   "source": [
    "def preprocessa_intro(corpus: str):\n",
    "    regIter = re.finditer('(<SECTION.*Introduction.*?>(.*)<\\/SECTION>)', corpus, re.DOTALL|re.MULTILINE)\n",
    "    textos = [ t.group(2) for t in regIter]\n",
    "    lista = []\n",
    "    for texto in textos:\n",
    "        txt = re.sub('\\\\n',' ', texto)\n",
    "        txt = re.sub(',','', txt)\n",
    "        txt = re.sub(';','', txt)\n",
    "        txt = re.sub(':','', txt)\n",
    "        txt = re.sub('[ ]+',' ', txt)\n",
    "        txt = re.sub(r'\\([^)]*\\)', \"\",txt)\n",
    "        txt = re.sub(r'\\<(.*?)\\>',\"\",txt)\n",
    "        txt = re.sub(r'small\\&',\"\",txt)\n",
    "        txt = re.sub(r'tagger&amp',\"\",txt)\n",
    "        txt = re.sub(r';quot',\"\",txt)\n",
    "        txt = re.sub(r'\\&amp',\"\",txt)\n",
    "        txt = re.sub(' +', ' ', txt)\n",
    "        txt = txt.lower()\n",
    "        #txt = '<sos> ' + txt.strip() + ' <eos>'\n",
    "        txt = txt.strip()\n",
    "        txt = re.sub(' . ', '.', txt).strip()\n",
    "        #txt = '<sos> ' + txt.strip() + ' <eos>'\n",
    "        return txt\n",
    "    return txt\n",
    "\n",
    "def preprocessa_abstract(corpus: str):\n",
    "    regIter = re.finditer(\"(<ABSTRACT>)(.+?)(</ABSTRACT>)\", corpus, re.DOTALL|re.MULTILINE)\n",
    "    textos = [ t.group(2) for t in regIter]\n",
    "    lista = []\n",
    "    for texto in textos:\n",
    "        txt = re.sub('\\\\n',' ', texto)\n",
    "        txt = re.sub(',','', txt)\n",
    "        txt = re.sub(';',' ;', txt)\n",
    "        txt = re.sub('[ ]+',' ', txt)\n",
    "        txt = re.sub(r'\\([^)]*\\)', \"\",txt)\n",
    "        txt = re.sub(r'\\<(.*?)\\>',\"\",txt)\n",
    "        txt = txt.lower()\n",
    "        txt = re.sub(' . ', '.', txt).strip()\n",
    "        #txt = '<sos> ' + txt.strip() + ' <eos>'\n",
    "        lista.append(txt)\n",
    "    return txt\n",
    "\n",
    "\n",
    "def preprocessa_conclusion(corpus: str):\n",
    "    regIter = re.finditer('(<SECTION.*Conclusion.*?>(.*)<\\/SECTION>)', corpus, re.DOTALL|re.MULTILINE)\n",
    "    textos = [ t.group(2) for t in regIter]\n",
    "    lista = []\n",
    "    for texto in textos:\n",
    "        txt = re.sub('\\\\n',' ', texto)\n",
    "        txt = re.sub(',','', txt)\n",
    "        txt = re.sub(';','', txt)\n",
    "        txt = re.sub(':','', txt)\n",
    "        txt = re.sub('[ ]+',' ', txt)\n",
    "        txt = re.sub(r'\\([^)]*\\)', \"\",txt)\n",
    "        txt = re.sub(r'\\<(.*?)\\>',\"\",txt)\n",
    "        txt = re.sub(r'small\\&',\"\",txt)\n",
    "        txt = re.sub(r'tagger&amp',\"\",txt)\n",
    "        txt = re.sub(r';quot',\"\",txt)\n",
    "        txt = re.sub(r'\\&amp',\"\",txt)\n",
    "        txt = re.sub(' +', ' ', txt)\n",
    "        txt = txt.lower()\n",
    "        txt = re.sub(' . ', '.', txt).strip()\n",
    "        #txt = '<sos> ' + txt.strip() + ' <eos>'\n",
    "        txt = txt.strip()\n",
    "        #txt = '<sos> ' + txt.strip() + ' <eos>'\n",
    "        return txt\n",
    "    return txt"
   ]
  },
  {
   "cell_type": "code",
   "execution_count": 154,
   "metadata": {
    "ExecuteTime": {
     "end_time": "2022-10-17T02:39:13.206268Z",
     "start_time": "2022-10-17T02:39:13.192836Z"
    }
   },
   "outputs": [],
   "source": [
    "def vetor_frases(palavras_frases):\n",
    "    \"\"\"input: lista de palavras de cada frase\n",
    "        output: lista de vetores de cada frase\"\"\"\n",
    "    x=[]\n",
    "    for i in palavras_frases:\n",
    "        soma=0\n",
    "        for j in i:\n",
    "            try:\n",
    "                soma = soma +model.wv[j]\n",
    "            except:\n",
    "                soma=soma+0\n",
    "        x.append(soma)\n",
    "    return x"
   ]
  },
  {
   "cell_type": "code",
   "execution_count": 164,
   "metadata": {
    "ExecuteTime": {
     "end_time": "2022-10-17T02:42:40.903423Z",
     "start_time": "2022-10-17T02:42:40.879189Z"
    }
   },
   "outputs": [],
   "source": [
    "def dicionario_similaridade(vetor_a,vetor_b):\n",
    "    \"\"\"Input: vetor correspondente às frases das seções a e b\n",
    "    Output: \n",
    "    \"\"\"\n",
    "    dicionario={}\n",
    "    for i in range(len(vetor_a)):\n",
    "        for j in range(len(vetor_b)):\n",
    "            dicionario[i,j]= funcao_sim_coseno(vetor_a[i],vetor_b[j])\n",
    "    return dicionario"
   ]
  },
  {
   "cell_type": "code",
   "execution_count": 171,
   "metadata": {
    "ExecuteTime": {
     "end_time": "2022-10-17T02:43:30.251168Z",
     "start_time": "2022-10-17T02:43:30.217312Z"
    }
   },
   "outputs": [],
   "source": [
    "def funcao_sim_coseno(a,b):\n",
    "    if ((numpy.linalg.norm(a)==0) |(numpy.linalg.norm(b)==0)):\n",
    "        return 0\n",
    "    else:\n",
    "        valor_coseno = (numpy.dot(a, b))/(numpy.linalg.norm(a)* numpy.linalg.norm(b))\n",
    "        return valor_coseno"
   ]
  },
  {
   "cell_type": "markdown",
   "metadata": {},
   "source": [
    "# Aplicando"
   ]
  },
  {
   "cell_type": "code",
   "execution_count": 165,
   "metadata": {
    "ExecuteTime": {
     "end_time": "2022-10-17T02:42:51.573001Z",
     "start_time": "2022-10-17T02:42:51.566134Z"
    }
   },
   "outputs": [],
   "source": [
    "try2 = funcao_frase_palavra(abstract[0])"
   ]
  },
  {
   "cell_type": "code",
   "execution_count": 166,
   "metadata": {
    "ExecuteTime": {
     "end_time": "2022-10-17T02:42:56.453110Z",
     "start_time": "2022-10-17T02:42:56.439528Z"
    }
   },
   "outputs": [],
   "source": [
    "palavras_abstract = remove_values_from_list(try2, [''])"
   ]
  },
  {
   "cell_type": "code",
   "execution_count": 167,
   "metadata": {
    "ExecuteTime": {
     "end_time": "2022-10-17T02:43:01.359222Z",
     "start_time": "2022-10-17T02:43:01.337566Z"
    }
   },
   "outputs": [],
   "source": [
    "vetor_abstract    = vetor_frases(palavras_abstract)"
   ]
  },
  {
   "cell_type": "code",
   "execution_count": 168,
   "metadata": {
    "ExecuteTime": {
     "end_time": "2022-10-17T02:43:06.826216Z",
     "start_time": "2022-10-17T02:43:06.773401Z"
    }
   },
   "outputs": [],
   "source": [
    "palavras_intro = funcao_frase_palavra(intro[0])\n",
    "palavras_intro = remove_values_from_list(palavras_intro, [''])\n",
    "vetor_intro    = vetor_frases(palavras_intro)"
   ]
  },
  {
   "cell_type": "code",
   "execution_count": 169,
   "metadata": {
    "ExecuteTime": {
     "end_time": "2022-10-17T02:43:12.073264Z",
     "start_time": "2022-10-17T02:43:12.054000Z"
    }
   },
   "outputs": [],
   "source": [
    "palavras_conclusion = funcao_frase_palavra(conclusion[0])\n",
    "palavras_conclusion = remove_values_from_list(palavras_conclusion, [''])\n",
    "vetor_conclusion    = vetor_frases(palavras_conclusion)"
   ]
  },
  {
   "cell_type": "code",
   "execution_count": 172,
   "metadata": {
    "ExecuteTime": {
     "end_time": "2022-10-17T02:43:35.751100Z",
     "start_time": "2022-10-17T02:43:35.546667Z"
    }
   },
   "outputs": [],
   "source": [
    "dicionario = dicionario_similaridade(vetor_abstract, vetor_intro)"
   ]
  },
  {
   "cell_type": "code",
   "execution_count": 173,
   "metadata": {
    "ExecuteTime": {
     "end_time": "2022-10-17T02:43:41.539819Z",
     "start_time": "2022-10-17T02:43:41.284570Z"
    }
   },
   "outputs": [
    {
     "data": {
      "text/plain": [
       "{(0, 0): 0.63350624,\n",
       " (0, 1): 0.7179656,\n",
       " (0, 2): 0.699696,\n",
       " (0, 3): 0.6022672,\n",
       " (0, 4): 0.45069775,\n",
       " (0, 5): 0.4719327,\n",
       " (0, 6): 0.6292231,\n",
       " (0, 7): 0.56552005,\n",
       " (0, 8): 0.5293787,\n",
       " (0, 9): 0.67780405,\n",
       " (0, 10): 0.71689826,\n",
       " (0, 11): 0.6157202,\n",
       " (0, 12): 0.40322313,\n",
       " (0, 13): 0.5034377,\n",
       " (0, 14): 0.70514774,\n",
       " (0, 15): 0.4914741,\n",
       " (0, 16): 0.49190983,\n",
       " (0, 17): 0.527207,\n",
       " (0, 18): 0.70384824,\n",
       " (0, 19): 0.5452292,\n",
       " (0, 20): 0.64986145,\n",
       " (0, 21): 0.68420947,\n",
       " (0, 22): 0.6046043,\n",
       " (0, 23): 0.6519313,\n",
       " (0, 24): 0.66439277,\n",
       " (0, 25): 0.66808933,\n",
       " (0, 26): 0.49999288,\n",
       " (0, 27): 0.6261904,\n",
       " (0, 28): 0.6146812,\n",
       " (0, 29): 0.6012775,\n",
       " (0, 30): 0.6147374,\n",
       " (0, 31): 0.5938282,\n",
       " (0, 32): 0.5438574,\n",
       " (0, 33): 0.67976594,\n",
       " (0, 34): 0.40149057,\n",
       " (0, 35): 0.6169873,\n",
       " (0, 36): 0.79474854,\n",
       " (0, 37): 0.5419512,\n",
       " (0, 38): 0.5446912,\n",
       " (0, 39): 0.58619744,\n",
       " (0, 40): 0.5532664,\n",
       " (0, 41): 0.43225262,\n",
       " (0, 42): 0.50647944,\n",
       " (0, 43): 0.5890183,\n",
       " (0, 44): 0.5290954,\n",
       " (0, 45): 0.33332938,\n",
       " (0, 46): 0.524503,\n",
       " (0, 47): 0,\n",
       " (0, 48): 0.3100925,\n",
       " (0, 49): 0.35635504,\n",
       " (0, 50): 0.4689068,\n",
       " (0, 51): 0.36239088,\n",
       " (0, 52): 0.3100925,\n",
       " (0, 53): 0.5898937,\n",
       " (0, 54): 0.49161604,\n",
       " (0, 55): 0.49423414,\n",
       " (0, 56): 0.3589052,\n",
       " (0, 57): 0.5405023,\n",
       " (0, 58): 0.3100925,\n",
       " (0, 59): 0.53488195,\n",
       " (0, 60): 0.37921175,\n",
       " (0, 61): 0.6563226,\n",
       " (0, 62): 0.5691234,\n",
       " (0, 63): 0.6313647,\n",
       " (0, 64): 0.6711082,\n",
       " (0, 65): 0.5413626,\n",
       " (0, 66): 0.65226424,\n",
       " (0, 67): 0.56081676,\n",
       " (0, 68): 0.3729502,\n",
       " (0, 69): 0.63630754,\n",
       " (0, 70): 0.44401264,\n",
       " (0, 71): 0.55751026,\n",
       " (0, 72): 0.5294274,\n",
       " (0, 73): 0.4029791,\n",
       " (0, 74): 0.42044446,\n",
       " (0, 75): 0.45103747,\n",
       " (0, 76): 0.6049662,\n",
       " (0, 77): 0.25133055,\n",
       " (0, 78): 0.50723183,\n",
       " (0, 79): 0.53170645,\n",
       " (0, 80): 0.5700283,\n",
       " (0, 81): 0.49186486,\n",
       " (0, 82): 0.58894086,\n",
       " (0, 83): 0.6582939,\n",
       " (0, 84): 0.50555027,\n",
       " (0, 85): 0.4657861,\n",
       " (0, 86): 0.51853037,\n",
       " (0, 87): 0.44501796,\n",
       " (0, 88): 0.5570098,\n",
       " (0, 89): 0.5665181,\n",
       " (0, 90): 0.47162348,\n",
       " (0, 91): 0.6063839,\n",
       " (0, 92): 0.42200142,\n",
       " (0, 93): 0.42659274,\n",
       " (0, 94): 0.6055456,\n",
       " (0, 95): 0.66650516,\n",
       " (0, 96): 0.6039766,\n",
       " (0, 97): 0.5133581,\n",
       " (0, 98): 0.6276794,\n",
       " (0, 99): 0.5405857,\n",
       " (0, 100): 0,\n",
       " (0, 101): 0.48783138,\n",
       " (0, 102): 0.55044514,\n",
       " (0, 103): 0.52984583,\n",
       " (0, 104): 0.603904,\n",
       " (0, 105): 0.47950086,\n",
       " (0, 106): 0.51500523,\n",
       " (0, 107): 0.41992116,\n",
       " (0, 108): 0.5279328,\n",
       " (0, 109): 0.53125805,\n",
       " (0, 110): 0.42130724,\n",
       " (0, 111): 0.21237995,\n",
       " (0, 112): 0.6623509,\n",
       " (0, 113): 0.36911592,\n",
       " (0, 114): 0.5157971,\n",
       " (0, 115): 0.56492895,\n",
       " (0, 116): 0.5965143,\n",
       " (0, 117): 0.4456807,\n",
       " (0, 118): 0.48996726,\n",
       " (0, 119): 0.38921514,\n",
       " (0, 120): 0.49238983,\n",
       " (0, 121): 0.48723003,\n",
       " (0, 122): 0.547604,\n",
       " (0, 123): 0.60395133,\n",
       " (0, 124): 0.48991585,\n",
       " (0, 125): 0.63961494,\n",
       " (0, 126): 0.6090087,\n",
       " (0, 127): 0.54520386,\n",
       " (0, 128): 0.78357846,\n",
       " (0, 129): 0.48537353,\n",
       " (0, 130): 0.6793043,\n",
       " (0, 131): 0.44697702,\n",
       " (0, 132): 0.41031045,\n",
       " (0, 133): 0.5805885,\n",
       " (0, 134): 0.25133055,\n",
       " (0, 135): 0.39026216,\n",
       " (0, 136): 0.48723003,\n",
       " (0, 137): 0.49913427,\n",
       " (0, 138): 0.37561125,\n",
       " (0, 139): 0.36472183,\n",
       " (0, 140): 0.51469535,\n",
       " (0, 141): 0.50732964,\n",
       " (0, 142): 0.07225287,\n",
       " (0, 143): 0.5000499,\n",
       " (0, 144): 0.25133055,\n",
       " (0, 145): 0.46584895,\n",
       " (0, 146): 0.6634656,\n",
       " (0, 147): 0.61234915,\n",
       " (0, 148): 0.5411421,\n",
       " (0, 149): 0.47500998,\n",
       " (0, 150): 0.52464694,\n",
       " (0, 151): 0.3566346,\n",
       " (0, 152): 0.40868112,\n",
       " (0, 153): 0.5817468,\n",
       " (0, 154): 0.6915834,\n",
       " (0, 155): 0.44018036,\n",
       " (0, 156): 0.5220491,\n",
       " (0, 157): 0.5871543,\n",
       " (0, 158): 0.42617396,\n",
       " (0, 159): 0.47907063,\n",
       " (0, 160): 0.47376233,\n",
       " (0, 161): 0.6000255,\n",
       " (0, 162): 0.6345886,\n",
       " (0, 163): 0.5653522,\n",
       " (0, 164): 0.49812084,\n",
       " (0, 165): 0.33973682,\n",
       " (0, 166): 0.37786284,\n",
       " (0, 167): 0.6259945,\n",
       " (0, 168): 0.6716415,\n",
       " (0, 169): 0.5859968,\n",
       " (0, 170): 0.5190843,\n",
       " (0, 171): 0.5562275,\n",
       " (0, 172): 0.43684432,\n",
       " (0, 173): 0.34179205,\n",
       " (0, 174): 0.5643346,\n",
       " (0, 175): 0.52234936,\n",
       " (0, 176): 0.42953554,\n",
       " (0, 177): 0.48688996,\n",
       " (0, 178): 0.5478936,\n",
       " (0, 179): 0.55225545,\n",
       " (0, 180): 0.5699351,\n",
       " (0, 181): 0.5806974,\n",
       " (0, 182): 0.6155408,\n",
       " (0, 183): 0.50520897,\n",
       " (0, 184): 0.5588828,\n",
       " (0, 185): 0.5705463,\n",
       " (0, 186): 0.5819828,\n",
       " (0, 187): 0.49582937,\n",
       " (0, 188): 0.41729742,\n",
       " (0, 189): 0.6832106,\n",
       " (0, 190): 0.49333826,\n",
       " (0, 191): 0.49564633,\n",
       " (0, 192): 0.64134836,\n",
       " (0, 193): 0.6120875,\n",
       " (0, 194): 0.40842992,\n",
       " (0, 195): 0.57262844,\n",
       " (0, 196): 0.37345737,\n",
       " (0, 197): 0.45603666,\n",
       " (0, 198): 0.6227678,\n",
       " (0, 199): 0.5062558,\n",
       " (0, 200): 0.55052906,\n",
       " (0, 201): 0.58712894,\n",
       " (0, 202): 0.48311362,\n",
       " (0, 203): 0.5501489,\n",
       " (0, 204): 0.5397852,\n",
       " (0, 205): 0.6344939,\n",
       " (0, 206): 0.5720655,\n",
       " (0, 207): 0.22348712,\n",
       " (0, 208): 0.6909946,\n",
       " (0, 209): 0.25133055,\n",
       " (0, 210): 0.5398674,\n",
       " (0, 211): 0.57011557,\n",
       " (0, 212): 0.43149534,\n",
       " (0, 213): 0.5748596,\n",
       " (0, 214): 0.4447569,\n",
       " (0, 215): 0.6470513,\n",
       " (0, 216): 0.47443438,\n",
       " (0, 217): 0.5438436,\n",
       " (0, 218): 0.54573625,\n",
       " (0, 219): 0.4550903,\n",
       " (0, 220): 0.5844737,\n",
       " (0, 221): 0.6374709,\n",
       " (0, 222): 0.6412796,\n",
       " (0, 223): 0.55744016,\n",
       " (0, 224): 0.47421345,\n",
       " (0, 225): 0.70209765,\n",
       " (0, 226): 0.60694045,\n",
       " (0, 227): 0.22348712,\n",
       " (0, 228): 0.4527563,\n",
       " (0, 229): 0.58339673,\n",
       " (0, 230): 0.5563166,\n",
       " (0, 231): 0.5563166,\n",
       " (0, 232): 0.20099285,\n",
       " (0, 233): 0.64385813,\n",
       " (0, 234): 0.54647434,\n",
       " (0, 235): 0.4733522,\n",
       " (0, 236): 0.5563166,\n",
       " (0, 237): 0.5563166,\n",
       " (0, 238): 0.4649746,\n",
       " (0, 239): 0.5951204,\n",
       " (0, 240): 0,\n",
       " (0, 241): 0.7236439,\n",
       " (0, 242): 0.5505601,\n",
       " (0, 243): 0.4621501,\n",
       " (0, 244): 0.53524274,\n",
       " (0, 245): 0.55992436,\n",
       " (0, 246): 0.629017,\n",
       " (0, 247): 0.44166255,\n",
       " (0, 248): 0.19207315,\n",
       " (0, 249): 0.5743912,\n",
       " (0, 250): 0.22348712,\n",
       " (0, 251): 0.6909946,\n",
       " (0, 252): 0.25133055,\n",
       " (0, 253): 0.5398674,\n",
       " (0, 254): 0.57011557,\n",
       " (0, 255): 0.47465047,\n",
       " (0, 256): 0.41087303,\n",
       " (0, 257): 0.5748596,\n",
       " (0, 258): 0.4447569,\n",
       " (0, 259): 0.6271715,\n",
       " (0, 260): 0.5844737,\n",
       " (0, 261): 0.22348712,\n",
       " (0, 262): 0.4527563,\n",
       " (0, 263): 0.55070406,\n",
       " (0, 264): 0.5918054,\n",
       " (0, 265): 0.5401006,\n",
       " (0, 266): 0.6855677,\n",
       " (0, 267): 0.7301845,\n",
       " (0, 268): 0.4341861,\n",
       " (0, 269): 0.60307807,\n",
       " (0, 270): 0.5531589,\n",
       " (0, 271): 0.57296383,\n",
       " (0, 272): 0.5328899,\n",
       " (0, 273): 0.6016758,\n",
       " (0, 274): 0.57710296,\n",
       " (0, 275): 0.55995214,\n",
       " (0, 276): 0.67806125,\n",
       " (0, 277): 0.45047134,\n",
       " (0, 278): 0.6342047,\n",
       " (0, 279): 0.53800017,\n",
       " (0, 280): 0.40149057,\n",
       " (0, 281): 0.67240876,\n",
       " (0, 282): 0.56710416,\n",
       " (0, 283): 0.53376305,\n",
       " (0, 284): 0,\n",
       " (0, 285): 0.64563316,\n",
       " (0, 286): 0.6651009,\n",
       " (0, 287): 0.43404582,\n",
       " (0, 288): 0.6606504,\n",
       " (0, 289): 0.63420504,\n",
       " (0, 290): 0.49841577,\n",
       " (0, 291): 0.66675925,\n",
       " (0, 292): 0.6008885,\n",
       " (0, 293): 0.5669484,\n",
       " (0, 294): 0.51343834,\n",
       " (0, 295): 0.5861959,\n",
       " (0, 296): 0.4158815,\n",
       " (0, 297): 0.5072052,\n",
       " (0, 298): 0.63939726,\n",
       " (0, 299): 0.5585569,\n",
       " (0, 300): 0.56196934,\n",
       " (0, 301): 0.49073333,\n",
       " (0, 302): 0.6480748,\n",
       " (0, 303): 0.6185371,\n",
       " (0, 304): 0.54668856,\n",
       " (0, 305): 0.45777935,\n",
       " (0, 306): 0.6069714,\n",
       " (0, 307): 0.4169225,\n",
       " (0, 308): 0.52234674,\n",
       " (0, 309): 0.3619463,\n",
       " (0, 310): 0.518175,\n",
       " (1, 0): 0.7124705,\n",
       " (1, 1): 0.44040745,\n",
       " (1, 2): 0.6827623,\n",
       " (1, 3): 0.82996947,\n",
       " (1, 4): 0.26714998,\n",
       " (1, 5): 0.55706817,\n",
       " (1, 6): 0.6336159,\n",
       " (1, 7): 0.6571448,\n",
       " (1, 8): 0.6082659,\n",
       " (1, 9): 0.752319,\n",
       " (1, 10): 0.8410188,\n",
       " (1, 11): 0.79833966,\n",
       " (1, 12): 0.6902395,\n",
       " (1, 13): 0.40147045,\n",
       " (1, 14): 0.6995336,\n",
       " (1, 15): 0.66290355,\n",
       " (1, 16): 0.6316984,\n",
       " (1, 17): 0.7058519,\n",
       " (1, 18): 0.74073035,\n",
       " (1, 19): 0.756607,\n",
       " (1, 20): 0.8395678,\n",
       " (1, 21): 0.6025248,\n",
       " (1, 22): 0.84569925,\n",
       " (1, 23): 0.79335314,\n",
       " (1, 24): 0.8220062,\n",
       " (1, 25): 0.8662136,\n",
       " (1, 26): 0.8591655,\n",
       " (1, 27): 0.8055091,\n",
       " (1, 28): 0.85487956,\n",
       " (1, 29): 0.9076848,\n",
       " (1, 30): 0.8828123,\n",
       " (1, 31): 0.8243344,\n",
       " (1, 32): 0.75722706,\n",
       " (1, 33): 0.83940285,\n",
       " (1, 34): 0.40516797,\n",
       " (1, 35): 0.87695897,\n",
       " (1, 36): 0.6700466,\n",
       " (1, 37): 0.7621431,\n",
       " (1, 38): 0.7200803,\n",
       " (1, 39): 0.76288635,\n",
       " (1, 40): 0.8054939,\n",
       " (1, 41): 0.644488,\n",
       " (1, 42): 0.762309,\n",
       " (1, 43): 0.80154395,\n",
       " (1, 44): 0.870348,\n",
       " (1, 45): 0.6402501,\n",
       " (1, 46): 0.8097177,\n",
       " (1, 47): 0,\n",
       " (1, 48): 0.33773652,\n",
       " (1, 49): 0.3425843,\n",
       " (1, 50): 0.5579664,\n",
       " (1, 51): 0.35407576,\n",
       " (1, 52): 0.33773652,\n",
       " (1, 53): 0.7281343,\n",
       " (1, 54): 0.8213938,\n",
       " (1, 55): 0.7094093,\n",
       " (1, 56): 0.65112525,\n",
       " (1, 57): 0.6988078,\n",
       " (1, 58): 0.33773652,\n",
       " (1, 59): 0.7639357,\n",
       " (1, 60): 0.5006344,\n",
       " (1, 61): 0.8303646,\n",
       " (1, 62): 0.8562692,\n",
       " (1, 63): 0.7025114,\n",
       " (1, 64): 0.83334345,\n",
       " (1, 65): 0.72572654,\n",
       " (1, 66): 0.7932085,\n",
       " (1, 67): 0.81015223,\n",
       " (1, 68): 0.3340111,\n",
       " (1, 69): 0.87086993,\n",
       " (1, 70): 0.7541929,\n",
       " (1, 71): 0.44092962,\n",
       " (1, 72): 0.6251051,\n",
       " (1, 73): 0.38632864,\n",
       " (1, 74): 0.7154115,\n",
       " (1, 75): 0.49582148,\n",
       " (1, 76): 0.8127116,\n",
       " (1, 77): 0.048005644,\n",
       " (1, 78): 0.83210015,\n",
       " (1, 79): 0.8294475,\n",
       " (1, 80): 0.82307005,\n",
       " (1, 81): 0.690463,\n",
       " (1, 82): 0.81003886,\n",
       " (1, 83): 0.8699342,\n",
       " (1, 84): 0.8750898,\n",
       " (1, 85): 0.6658084,\n",
       " (1, 86): 0.8080525,\n",
       " (1, 87): 0.64575917,\n",
       " (1, 88): 0.81061363,\n",
       " (1, 89): 0.77479833,\n",
       " (1, 90): 0.77194947,\n",
       " (1, 91): 0.7229014,\n",
       " (1, 92): 0.75684005,\n",
       " (1, 93): 0.5888607,\n",
       " (1, 94): 0.84569997,\n",
       " (1, 95): 0.89999294,\n",
       " (1, 96): 0.73712814,\n",
       " (1, 97): 0.7046798,\n",
       " (1, 98): 0.64956135,\n",
       " (1, 99): 0.6292556,\n",
       " (1, 100): 0,\n",
       " (1, 101): 0.76045763,\n",
       " (1, 102): 0.6162931,\n",
       " (1, 103): 0.83704406,\n",
       " (1, 104): 0.7623795,\n",
       " (1, 105): 0.6782114,\n",
       " (1, 106): 0.50031847,\n",
       " (1, 107): 0.40984294,\n",
       " (1, 108): 0.769674,\n",
       " (1, 109): 0.381588,\n",
       " (1, 110): 0.73454833,\n",
       " (1, 111): 0.33598223,\n",
       " (1, 112): 0.46888953,\n",
       " (1, 113): 0.4101256,\n",
       " (1, 114): 0.79006696,\n",
       " (1, 115): 0.57475805,\n",
       " (1, 116): 0.6523799,\n",
       " (1, 117): 0.39316088,\n",
       " (1, 118): 0.42430708,\n",
       " (1, 119): 0.45149413,\n",
       " (1, 120): 0.76723486,\n",
       " (1, 121): 0.38844034,\n",
       " (1, 122): 0.57066745,\n",
       " (1, 123): 0.8224141,\n",
       " (1, 124): 0.5846645,\n",
       " (1, 125): 0.74278533,\n",
       " (1, 126): 0.7177026,\n",
       " (1, 127): 0.91174126,\n",
       " (1, 128): 0.6481855,\n",
       " (1, 129): 0.6766877,\n",
       " (1, 130): 0.8229109,\n",
       " (1, 131): 0.68416953,\n",
       " (1, 132): 0.7610582,\n",
       " (1, 133): 0.79855037,\n",
       " (1, 134): 0.048005644,\n",
       " (1, 135): 0.68295425,\n",
       " (1, 136): 0.38844034,\n",
       " (1, 137): 0.5540867,\n",
       " (1, 138): 0.37491676,\n",
       " (1, 139): 0.5509601,\n",
       " (1, 140): 0.82873666,\n",
       " (1, 141): 0.40779606,\n",
       " (1, 142): 0.28394786,\n",
       " (1, 143): 0.7829364,\n",
       " (1, 144): 0.048005644,\n",
       " (1, 145): 0.8252919,\n",
       " (1, 146): 0.7634912,\n",
       " (1, 147): 0.8971461,\n",
       " (1, 148): 0.8373707,\n",
       " (1, 149): 0.70445424,\n",
       " (1, 150): 0.90153,\n",
       " (1, 151): 0.63668936,\n",
       " (1, 152): 0.7157788,\n",
       " (1, 153): 0.7924958,\n",
       " (1, 154): 0.82594854,\n",
       " (1, 155): 0.6912606,\n",
       " (1, 156): 0.7679574,\n",
       " (1, 157): 0.77342755,\n",
       " (1, 158): 0.56640923,\n",
       " (1, 159): 0.7846483,\n",
       " (1, 160): 0.76794606,\n",
       " (1, 161): 0.849911,\n",
       " (1, 162): 0.732461,\n",
       " (1, 163): 0.4351573,\n",
       " (1, 164): 0.6567847,\n",
       " (1, 165): 0.5797492,\n",
       " (1, 166): 0.5716874,\n",
       " (1, 167): 0.66292804,\n",
       " (1, 168): 0.80744326,\n",
       " (1, 169): 0.79437774,\n",
       " (1, 170): 0.7705612,\n",
       " (1, 171): 0.40394533,\n",
       " (1, 172): 0.5553989,\n",
       " (1, 173): 0.5518271,\n",
       " (1, 174): 0.83885175,\n",
       " (1, 175): 0.70560217,\n",
       " (1, 176): 0.3854592,\n",
       " (1, 177): 0.72402304,\n",
       " (1, 178): 0.8355715,\n",
       " (1, 179): 0.807853,\n",
       " (1, 180): 0.7235943,\n",
       " (1, 181): 0.8377474,\n",
       " (1, 182): 0.9093672,\n",
       " (1, 183): 0.8413222,\n",
       " (1, 184): 0.78592193,\n",
       " (1, 185): 0.7930226,\n",
       " (1, 186): 0.79511416,\n",
       " (1, 187): 0.7360963,\n",
       " (1, 188): 0.6984051,\n",
       " (1, 189): 0.7078868,\n",
       " (1, 190): 0.7253405,\n",
       " (1, 191): 0.79961854,\n",
       " (1, 192): 0.8113148,\n",
       " (1, 193): 0.8076763,\n",
       " (1, 194): 0.5509332,\n",
       " (1, 195): 0.73909944,\n",
       " (1, 196): 0.5624918,\n",
       " (1, 197): 0.7485652,\n",
       " (1, 198): 0.7777138,\n",
       " (1, 199): 0.81048167,\n",
       " (1, 200): 0.8128423,\n",
       " (1, 201): 0.80670047,\n",
       " (1, 202): 0.6928823,\n",
       " (1, 203): 0.7188083,\n",
       " (1, 204): 0.66485727,\n",
       " (1, 205): 0.82412857,\n",
       " (1, 206): 0.7195313,\n",
       " (1, 207): 0.28067887,\n",
       " (1, 208): 0.74318373,\n",
       " (1, 209): 0.048005644,\n",
       " (1, 210): 0.7072595,\n",
       " (1, 211): 0.6738489,\n",
       " (1, 212): 0.5465508,\n",
       " (1, 213): 0.6647127,\n",
       " (1, 214): 0.46607426,\n",
       " (1, 215): 0.72874707,\n",
       " (1, 216): 0.83667594,\n",
       " (1, 217): 0.79467237,\n",
       " (1, 218): 0.6706805,\n",
       " (1, 219): 0.7410525,\n",
       " (1, 220): 0.888735,\n",
       " (1, 221): 0.64468867,\n",
       " (1, 222): 0.8359993,\n",
       " (1, 223): 0.7665055,\n",
       " (1, 224): 0.7790561,\n",
       " (1, 225): 0.737525,\n",
       " (1, 226): 0.7382207,\n",
       " (1, 227): 0.28067887,\n",
       " (1, 228): 0.71773964,\n",
       " (1, 229): 0.845046,\n",
       " (1, 230): 0.39903066,\n",
       " (1, 231): 0.39903066,\n",
       " (1, 232): 0.3899176,\n",
       " (1, 233): 0.5589402,\n",
       " (1, 234): 0.7557526,\n",
       " (1, 235): 0.64077586,\n",
       " (1, 236): 0.39903066,\n",
       " (1, 237): 0.39903066,\n",
       " (1, 238): 0.5984128,\n",
       " (1, 239): 0.6103399,\n",
       " (1, 240): 0,\n",
       " (1, 241): 0.8155494,\n",
       " (1, 242): 0.7257271,\n",
       " (1, 243): 0.6538502,\n",
       " (1, 244): 0.72054195,\n",
       " (1, 245): 0.7680137,\n",
       " (1, 246): 0.80580056,\n",
       " (1, 247): 0.49238902,\n",
       " (1, 248): 0.3798406,\n",
       " (1, 249): 0.68287754,\n",
       " (1, 250): 0.28067887,\n",
       " (1, 251): 0.74318373,\n",
       " (1, 252): 0.048005644,\n",
       " (1, 253): 0.7072595,\n",
       " (1, 254): 0.6738489,\n",
       " (1, 255): 0.49264467,\n",
       " (1, 256): 0.53531533,\n",
       " (1, 257): 0.6647127,\n",
       " (1, 258): 0.46607426,\n",
       " (1, 259): 0.7322075,\n",
       " (1, 260): 0.888735,\n",
       " (1, 261): 0.28067887,\n",
       " (1, 262): 0.71773964,\n",
       " (1, 263): 0.78707165,\n",
       " (1, 264): 0.6776192,\n",
       " (1, 265): 0.82355165,\n",
       " (1, 266): 0.6192652,\n",
       " (1, 267): 0.7334928,\n",
       " (1, 268): 0.39293885,\n",
       " (1, 269): 0.88492006,\n",
       " (1, 270): 0.8008142,\n",
       " (1, 271): 0.70026344,\n",
       " (1, 272): 0.6815324,\n",
       " (1, 273): 0.8160137,\n",
       " (1, 274): 0.7076991,\n",
       " (1, 275): 0.742305,\n",
       " (1, 276): 0.8354779,\n",
       " (1, 277): 0.6239634,\n",
       " (1, 278): 0.67524403,\n",
       " (1, 279): 0.8852185,\n",
       " (1, 280): 0.40516797,\n",
       " (1, 281): 0.8058744,\n",
       " (1, 282): 0.75963074,\n",
       " (1, 283): 0.6395542,\n",
       " (1, 284): 0,\n",
       " (1, 285): 0.8315735,\n",
       " (1, 286): 0.5541132,\n",
       " (1, 287): 0.8212141,\n",
       " (1, 288): 0.7432748,\n",
       " (1, 289): 0.8230617,\n",
       " (1, 290): 0.83397275,\n",
       " (1, 291): 0.9237128,\n",
       " (1, 292): 0.9056458,\n",
       " (1, 293): 0.87868714,\n",
       " (1, 294): 0.7581343,\n",
       " (1, 295): 0.87960994,\n",
       " (1, 296): 0.6318384,\n",
       " (1, 297): 0.7746498,\n",
       " (1, 298): 0.929208,\n",
       " (1, 299): 0.45028555,\n",
       " (1, 300): 0.89876175,\n",
       " (1, 301): 0.74682564,\n",
       " (1, 302): 0.7122129,\n",
       " (1, 303): 0.77657574,\n",
       " (1, 304): 0.7822617,\n",
       " (1, 305): 0.7736837,\n",
       " (1, 306): 0.74434316,\n",
       " (1, 307): 0.7690522,\n",
       " (1, 308): 0.8161422,\n",
       " (1, 309): 0.7148524,\n",
       " (1, 310): 0.7197151,\n",
       " (2, 0): 0.7937625,\n",
       " (2, 1): 0.6374815,\n",
       " (2, 2): 0.7785013,\n",
       " (2, 3): 0.722128,\n",
       " (2, 4): 0.43605778,\n",
       " (2, 5): 0.45158675,\n",
       " (2, 6): 0.6671796,\n",
       " (2, 7): 0.7549517,\n",
       " (2, 8): 0.63057834,\n",
       " (2, 9): 0.7475479,\n",
       " (2, 10): 0.8050304,\n",
       " (2, 11): 0.8422171,\n",
       " (2, 12): 0.6788254,\n",
       " (2, 13): 0.5127588,\n",
       " (2, 14): 0.86134166,\n",
       " (2, 15): 0.6023127,\n",
       " (2, 16): 0.5831665,\n",
       " (2, 17): 0.7331074,\n",
       " (2, 18): 0.85818803,\n",
       " (2, 19): 0.77371436,\n",
       " (2, 20): 0.7638631,\n",
       " (2, 21): 0.755018,\n",
       " (2, 22): 0.7618677,\n",
       " (2, 23): 0.8499307,\n",
       " (2, 24): 0.7570936,\n",
       " (2, 25): 0.77190477,\n",
       " (2, 26): 0.58883363,\n",
       " (2, 27): 0.8404301,\n",
       " (2, 28): 0.8335379,\n",
       " (2, 29): 0.79888606,\n",
       " (2, 30): 0.6943936,\n",
       " (2, 31): 0.7983762,\n",
       " (2, 32): 0.7283657,\n",
       " (2, 33): 0.84939504,\n",
       " (2, 34): 0.38502058,\n",
       " (2, 35): 0.7240436,\n",
       " (2, 36): 0.8464567,\n",
       " (2, 37): 0.7570666,\n",
       " (2, 38): 0.7726689,\n",
       " (2, 39): 0.7831889,\n",
       " (2, 40): 0.58893955,\n",
       " (2, 41): 0.6399875,\n",
       " (2, 42): 0.70198077,\n",
       " (2, 43): 0.79060155,\n",
       " (2, 44): 0.7533826,\n",
       " (2, 45): 0.592049,\n",
       " (2, 46): 0.66266775,\n",
       " (2, 47): 0,\n",
       " (2, 48): 0.5644679,\n",
       " (2, 49): 0.43823126,\n",
       " (2, 50): 0.66747314,\n",
       " (2, 51): 0.351512,\n",
       " (2, 52): 0.5644679,\n",
       " (2, 53): 0.6956344,\n",
       " (2, 54): 0.73390174,\n",
       " (2, 55): 0.61237466,\n",
       " (2, 56): 0.4498746,\n",
       " (2, 57): 0.6575059,\n",
       " (2, 58): 0.5644679,\n",
       " (2, 59): 0.72769195,\n",
       " (2, 60): 0.5762633,\n",
       " (2, 61): 0.77209,\n",
       " (2, 62): 0.6896811,\n",
       " (2, 63): 0.7187861,\n",
       " (2, 64): 0.7350204,\n",
       " (2, 65): 0.6628963,\n",
       " (2, 66): 0.6643686,\n",
       " (2, 67): 0.69563067,\n",
       " (2, 68): 0.40528643,\n",
       " (2, 69): 0.8214561,\n",
       " (2, 70): 0.5420303,\n",
       " (2, 71): 0.6702569,\n",
       " (2, 72): 0.7302693,\n",
       " (2, 73): 0.5039739,\n",
       " (2, 74): 0.6180805,\n",
       " (2, 75): 0.56856775,\n",
       " (2, 76): 0.77961224,\n",
       " (2, 77): 0.16485943,\n",
       " (2, 78): 0.8122917,\n",
       " (2, 79): 0.7148665,\n",
       " (2, 80): 0.6755979,\n",
       " (2, 81): 0.71978104,\n",
       " (2, 82): 0.7861799,\n",
       " (2, 83): 0.80935585,\n",
       " (2, 84): 0.75526714,\n",
       " (2, 85): 0.5806148,\n",
       " (2, 86): 0.8125315,\n",
       " (2, 87): 0.7048113,\n",
       " (2, 88): 0.7756685,\n",
       " (2, 89): 0.73888844,\n",
       " (2, 90): 0.69246274,\n",
       " (2, 91): 0.64125794,\n",
       " (2, 92): 0.54748875,\n",
       " (2, 93): 0.60352767,\n",
       " (2, 94): 0.74789214,\n",
       " (2, 95): 0.8003583,\n",
       " (2, 96): 0.80091286,\n",
       " (2, 97): 0.65920883,\n",
       " (2, 98): 0.5939285,\n",
       " (2, 99): 0.63773435,\n",
       " (2, 100): 0,\n",
       " (2, 101): 0.70275784,\n",
       " (2, 102): 0.6230445,\n",
       " (2, 103): 0.7363713,\n",
       " (2, 104): 0.8127337,\n",
       " (2, 105): 0.5720701,\n",
       " (2, 106): 0.54334396,\n",
       " (2, 107): 0.55170226,\n",
       " (2, 108): 0.65374684,\n",
       " (2, 109): 0.47820294,\n",
       " (2, 110): 0.6215731,\n",
       " (2, 111): 0.3802848,\n",
       " (2, 112): 0.4619854,\n",
       " (2, 113): 0.4266176,\n",
       " (2, 114): 0.7172361,\n",
       " (2, 115): 0.67584336,\n",
       " (2, 116): 0.6066743,\n",
       " (2, 117): 0.51721,\n",
       " (2, 118): 0.558466,\n",
       " (2, 119): 0.54996777,\n",
       " (2, 120): 0.76363,\n",
       " (2, 121): 0.52127826,\n",
       " (2, 122): 0.7209628,\n",
       " (2, 123): 0.7979446,\n",
       " (2, 124): 0.6722004,\n",
       " (2, 125): 0.7925738,\n",
       " (2, 126): 0.57454354,\n",
       " (2, 127): 0.7497574,\n",
       " (2, 128): 0.5748291,\n",
       " (2, 129): 0.5786903,\n",
       " (2, 130): 0.81174046,\n",
       " (2, 131): 0.45958924,\n",
       " (2, 132): 0.58470666,\n",
       " (2, 133): 0.74188834,\n",
       " (2, 134): 0.16485943,\n",
       " (2, 135): 0.5279096,\n",
       " (2, 136): 0.52127826,\n",
       " (2, 137): 0.61273706,\n",
       " (2, 138): 0.5559507,\n",
       " (2, 139): 0.5590142,\n",
       " (2, 140): 0.7380296,\n",
       " (2, 141): 0.5373652,\n",
       " (2, 142): 0.2545395,\n",
       " (2, 143): 0.71616024,\n",
       " (2, 144): 0.16485943,\n",
       " (2, 145): 0.741663,\n",
       " (2, 146): 0.705417,\n",
       " (2, 147): 0.7726623,\n",
       " (2, 148): 0.74715495,\n",
       " (2, 149): 0.72362804,\n",
       " (2, 150): 0.7017194,\n",
       " (2, 151): 0.5757064,\n",
       " (2, 152): 0.4971137,\n",
       " (2, 153): 0.6428459,\n",
       " (2, 154): 0.72724587,\n",
       " (2, 155): 0.66431165,\n",
       " (2, 156): 0.69675833,\n",
       " (2, 157): 0.64179647,\n",
       " (2, 158): 0.5593685,\n",
       " (2, 159): 0.6815004,\n",
       " (2, 160): 0.6821216,\n",
       " (2, 161): 0.8015712,\n",
       " (2, 162): 0.73954153,\n",
       " (2, 163): 0.5106148,\n",
       " (2, 164): 0.59397334,\n",
       " (2, 165): 0.59244287,\n",
       " (2, 166): 0.5481665,\n",
       " (2, 167): 0.6585583,\n",
       " (2, 168): 0.7279115,\n",
       " (2, 169): 0.75398916,\n",
       " (2, 170): 0.6870844,\n",
       " (2, 171): 0.5520284,\n",
       " (2, 172): 0.53557396,\n",
       " (2, 173): 0.55813706,\n",
       " (2, 174): 0.74764353,\n",
       " (2, 175): 0.7479167,\n",
       " (2, 176): 0.50615263,\n",
       " (2, 177): 0.7530052,\n",
       " (2, 178): 0.74329877,\n",
       " (2, 179): 0.75698555,\n",
       " (2, 180): 0.8258713,\n",
       " (2, 181): 0.8132176,\n",
       " (2, 182): 0.75189465,\n",
       " (2, 183): 0.7380102,\n",
       " (2, 184): 0.7700902,\n",
       " (2, 185): 0.74105626,\n",
       " (2, 186): 0.7698058,\n",
       " (2, 187): 0.71225923,\n",
       " (2, 188): 0.657492,\n",
       " (2, 189): 0.6551461,\n",
       " (2, 190): 0.64718664,\n",
       " (2, 191): 0.6738709,\n",
       " (2, 192): 0.7941222,\n",
       " (2, 193): 0.62864596,\n",
       " (2, 194): 0.5157762,\n",
       " (2, 195): 0.76603365,\n",
       " (2, 196): 0.5451526,\n",
       " (2, 197): 0.6533745,\n",
       " (2, 198): 0.6695175,\n",
       " (2, 199): 0.73903084,\n",
       " (2, 200): 0.7068178,\n",
       " (2, 201): 0.7180013,\n",
       " (2, 202): 0.6666879,\n",
       " (2, 203): 0.6751886,\n",
       " (2, 204): 0.6448035,\n",
       " (2, 205): 0.7728549,\n",
       " (2, 206): 0.6943258,\n",
       " (2, 207): 0.2194097,\n",
       " (2, 208): 0.7834432,\n",
       " (2, 209): 0.16485943,\n",
       " (2, 210): 0.7204827,\n",
       " (2, 211): 0.6557024,\n",
       " (2, 212): 0.5693533,\n",
       " (2, 213): 0.69272983,\n",
       " (2, 214): 0.53260183,\n",
       " (2, 215): 0.682104,\n",
       " (2, 216): 0.5984251,\n",
       " (2, 217): 0.68282914,\n",
       " (2, 218): 0.65178084,\n",
       " (2, 219): 0.68043655,\n",
       " (2, 220): 0.7520682,\n",
       " (2, 221): 0.5418437,\n",
       " (2, 222): 0.81576645,\n",
       " (2, 223): 0.7338869,\n",
       " (2, 224): 0.72814363,\n",
       " (2, 225): 0.71960175,\n",
       " (2, 226): 0.724945,\n",
       " (2, 227): 0.2194097,\n",
       " (2, 228): 0.70363265,\n",
       " (2, 229): 0.7792155,\n",
       " (2, 230): 0.56253076,\n",
       " (2, 231): 0.56253076,\n",
       " (2, 232): 0.33713233,\n",
       " (2, 233): 0.6637283,\n",
       " (2, 234): 0.79448277,\n",
       " (2, 235): 0.648628,\n",
       " (2, 236): 0.56253076,\n",
       " (2, 237): 0.56253076,\n",
       " (2, 238): 0.6318822,\n",
       " (2, 239): 0.4684812,\n",
       " (2, 240): 0,\n",
       " (2, 241): 0.8100878,\n",
       " (2, 242): 0.7179696,\n",
       " (2, 243): 0.6537727,\n",
       " (2, 244): 0.70953417,\n",
       " (2, 245): 0.7378745,\n",
       " (2, 246): 0.7237276,\n",
       " (2, 247): 0.5760857,\n",
       " (2, 248): 0.24509554,\n",
       " (2, 249): 0.68851805,\n",
       " (2, 250): 0.2194097,\n",
       " (2, 251): 0.7834432,\n",
       " (2, 252): 0.16485943,\n",
       " (2, 253): 0.7204827,\n",
       " (2, 254): 0.6557024,\n",
       " (2, 255): 0.53849345,\n",
       " (2, 256): 0.55404645,\n",
       " (2, 257): 0.69272983,\n",
       " (2, 258): 0.53260183,\n",
       " (2, 259): 0.7383939,\n",
       " (2, 260): 0.7520682,\n",
       " (2, 261): 0.2194097,\n",
       " (2, 262): 0.70363265,\n",
       " (2, 263): 0.7111157,\n",
       " (2, 264): 0.8093023,\n",
       " (2, 265): 0.76734734,\n",
       " (2, 266): 0.66119725,\n",
       " (2, 267): 0.83432776,\n",
       " (2, 268): 0.49039713,\n",
       " (2, 269): 0.6621366,\n",
       " (2, 270): 0.7448518,\n",
       " (2, 271): 0.71759635,\n",
       " (2, 272): 0.64425516,\n",
       " (2, 273): 0.73826146,\n",
       " (2, 274): 0.67906773,\n",
       " (2, 275): 0.7585457,\n",
       " (2, 276): 0.7295319,\n",
       " (2, 277): 0.61632234,\n",
       " (2, 278): 0.70362115,\n",
       " (2, 279): 0.7044568,\n",
       " (2, 280): 0.38502058,\n",
       " (2, 281): 0.8192923,\n",
       " (2, 282): 0.70668024,\n",
       " (2, 283): 0.5244657,\n",
       " (2, 284): 0,\n",
       " (2, 285): 0.6459557,\n",
       " (2, 286): 0.6208128,\n",
       " (2, 287): 0.6398832,\n",
       " (2, 288): 0.88503283,\n",
       " (2, 289): 0.8570741,\n",
       " (2, 290): 0.60244554,\n",
       " (2, 291): 0.7815822,\n",
       " (2, 292): 0.80688775,\n",
       " (2, 293): 0.7466097,\n",
       " (2, 294): 0.7585784,\n",
       " (2, 295): 0.706061,\n",
       " (2, 296): 0.6034564,\n",
       " (2, 297): 0.6823227,\n",
       " (2, 298): 0.8131232,\n",
       " (2, 299): 0.4035478,\n",
       " (2, 300): 0.7401013,\n",
       " (2, 301): 0.7495246,\n",
       " (2, 302): 0.68003446,\n",
       " (2, 303): 0.6916411,\n",
       " (2, 304): 0.7383196,\n",
       " (2, 305): 0.66454613,\n",
       " (2, 306): 0.78909975,\n",
       " (2, 307): 0.5414616,\n",
       " (2, 308): 0.6841169,\n",
       " (2, 309): 0.6187151,\n",
       " (2, 310): 0.6354536,\n",
       " (3, 0): 0.7836812,\n",
       " (3, 1): 0.57076985,\n",
       " (3, 2): 0.69092125,\n",
       " (3, 3): 0.63879853,\n",
       " (3, 4): 0.38317674,\n",
       " (3, 5): 0.61838114,\n",
       " (3, 6): 0.7443735,\n",
       " (3, 7): 0.773001,\n",
       " (3, 8): 0.72191906,\n",
       " (3, 9): 0.80615956,\n",
       " (3, 10): 0.7973954,\n",
       " (3, 11): 0.924776,\n",
       " (3, 12): 0.69965404,\n",
       " (3, 13): 0.46807525,\n",
       " (3, 14): 0.7938658,\n",
       " (3, 15): 0.7031874,\n",
       " (3, 16): 0.6959435,\n",
       " (3, 17): 0.78701824,\n",
       " (3, 18): 0.9006886,\n",
       " (3, 19): 0.77776706,\n",
       " (3, 20): 0.84217465,\n",
       " (3, 21): 0.6794205,\n",
       " (3, 22): 0.7249251,\n",
       " (3, 23): 0.77849805,\n",
       " (3, 24): 0.6906156,\n",
       " (3, 25): 0.78490263,\n",
       " (3, 26): 0.6506778,\n",
       " (3, 27): 0.81720126,\n",
       " (3, 28): 0.8315035,\n",
       " (3, 29): 0.81328803,\n",
       " (3, 30): 0.71965754,\n",
       " (3, 31): 0.7506273,\n",
       " (3, 32): 0.75896376,\n",
       " (3, 33): 0.8552048,\n",
       " (3, 34): 0.48353338,\n",
       " (3, 35): 0.72859526,\n",
       " (3, 36): 0.74588853,\n",
       " (3, 37): 0.6414173,\n",
       " (3, 38): 0.6406087,\n",
       " (3, 39): 0.75267863,\n",
       " (3, 40): 0.5899861,\n",
       " (3, 41): 0.53563935,\n",
       " (3, 42): 0.638972,\n",
       " (3, 43): 0.86484116,\n",
       " (3, 44): 0.7922707,\n",
       " (3, 45): 0.55439764,\n",
       " (3, 46): 0.66039646,\n",
       " (3, 47): 0,\n",
       " (3, 48): 0.33171502,\n",
       " (3, 49): 0.27114254,\n",
       " (3, 50): 0.53035456,\n",
       " (3, 51): 0.4186393,\n",
       " (3, 52): 0.33171502,\n",
       " (3, 53): 0.5482541,\n",
       " (3, 54): 0.7090714,\n",
       " (3, 55): 0.6339968,\n",
       " (3, 56): 0.3663206,\n",
       " (3, 57): 0.5593881,\n",
       " (3, 58): 0.33171502,\n",
       " (3, 59): 0.6826294,\n",
       " (3, 60): 0.44692054,\n",
       " (3, 61): 0.7481441,\n",
       " (3, 62): 0.72431225,\n",
       " (3, 63): 0.79235864,\n",
       " (3, 64): 0.7520527,\n",
       " (3, 65): 0.6194862,\n",
       " (3, 66): 0.6418834,\n",
       " ...}"
      ]
     },
     "execution_count": 173,
     "metadata": {},
     "output_type": "execute_result"
    }
   ],
   "source": [
    "dicionario"
   ]
  },
  {
   "cell_type": "code",
   "execution_count": 174,
   "metadata": {
    "ExecuteTime": {
     "end_time": "2022-10-17T02:43:46.623621Z",
     "start_time": "2022-10-17T02:43:46.596122Z"
    }
   },
   "outputs": [
    {
     "data": {
      "text/plain": [
       "[(1, 298), (3, 11), (4, 130)]"
      ]
     },
     "execution_count": 174,
     "metadata": {},
     "output_type": "execute_result"
    }
   ],
   "source": [
    "top_3_indices = sorted(dicionario, key=dicionario.get, reverse=True)[:3]\n",
    "top_3_indices"
   ]
  },
  {
   "cell_type": "code",
   "execution_count": 175,
   "metadata": {
    "ExecuteTime": {
     "end_time": "2022-10-17T02:43:52.956728Z",
     "start_time": "2022-10-17T02:43:52.939441Z"
    }
   },
   "outputs": [
    {
     "name": "stdout",
     "output_type": "stream",
     "text": [
      "0.929208\n",
      "0.924776\n",
      "0.92446077\n"
     ]
    }
   ],
   "source": [
    "for i in top_3_indices:\n",
    "    print(dicionario[i])"
   ]
  },
  {
   "cell_type": "code",
   "execution_count": 183,
   "metadata": {
    "ExecuteTime": {
     "end_time": "2022-10-17T02:45:21.584472Z",
     "start_time": "2022-10-17T02:45:21.575531Z"
    }
   },
   "outputs": [
    {
     "data": {
      "text/plain": [
       "['',\n",
       " 'we',\n",
       " 'describe',\n",
       " 'the',\n",
       " 'basic',\n",
       " 'model',\n",
       " 'of',\n",
       " 'tnt',\n",
       " 'the',\n",
       " 'techniques',\n",
       " 'used',\n",
       " 'for',\n",
       " 'smoothing',\n",
       " 'and',\n",
       " 'for',\n",
       " 'handling',\n",
       " 'unknown',\n",
       " 'words']"
      ]
     },
     "execution_count": 183,
     "metadata": {},
     "output_type": "execute_result"
    }
   ],
   "source": [
    "palavras_abstract[4]"
   ]
  },
  {
   "cell_type": "code",
   "execution_count": 184,
   "metadata": {
    "ExecuteTime": {
     "end_time": "2022-10-17T02:45:27.423037Z",
     "start_time": "2022-10-17T02:45:27.410234Z"
    }
   },
   "outputs": [
    {
     "data": {
      "text/plain": [
       "['context-independent',\n",
       " 'approach',\n",
       " 'for',\n",
       " '0&#8222',\n",
       " 'as',\n",
       " 'we',\n",
       " 'did',\n",
       " 'for',\n",
       " 'the',\n",
       " 'contextual',\n",
       " 'weights',\n",
       " 'a']"
      ]
     },
     "execution_count": 184,
     "metadata": {},
     "output_type": "execute_result"
    }
   ],
   "source": [
    "palavras_intro[130]"
   ]
  },
  {
   "cell_type": "code",
   "execution_count": 185,
   "metadata": {
    "ExecuteTime": {
     "end_time": "2022-10-17T02:46:18.541829Z",
     "start_time": "2022-10-17T02:46:18.527560Z"
    }
   },
   "outputs": [],
   "source": [
    "x=[]\n",
    "for i in range(len(top_3_indices)):\n",
    "    x.append(top_3_indices[i][0])\n",
    "indice_abstract = list(set(x))"
   ]
  },
  {
   "cell_type": "code",
   "execution_count": 186,
   "metadata": {
    "ExecuteTime": {
     "end_time": "2022-10-17T02:46:23.527611Z",
     "start_time": "2022-10-17T02:46:23.510961Z"
    }
   },
   "outputs": [
    {
     "data": {
      "text/plain": [
       "[1, 3, 4]"
      ]
     },
     "execution_count": 186,
     "metadata": {},
     "output_type": "execute_result"
    }
   ],
   "source": [
    "indice_abstract"
   ]
  },
  {
   "cell_type": "code",
   "execution_count": 187,
   "metadata": {
    "ExecuteTime": {
     "end_time": "2022-10-17T02:46:28.410313Z",
     "start_time": "2022-10-17T02:46:28.374598Z"
    }
   },
   "outputs": [
    {
     "data": {
      "text/plain": [
       "[array([ 9.76164222e-01, -1.54301739e+00, -1.15254784e+00, -3.48976135e+00,\n",
       "         5.48465586e+00, -2.86121511e+00, -2.23197043e-03,  6.75335646e+00,\n",
       "        -1.61694407e+00, -6.83200932e+00,  2.73714375e+00, -1.07148552e+00,\n",
       "        -2.93583632e+00,  6.55707419e-01,  5.37931347e+00,  4.19831944e+00,\n",
       "         1.68964207e+00, -1.01991653e+00,  9.03090775e-01, -3.11060810e+00,\n",
       "         4.84238535e-01,  4.03218806e-01,  1.11081541e+00,  4.82035995e-01,\n",
       "         1.35956562e+00,  6.09692216e-01, -4.18299055e+00, -2.62711549e+00,\n",
       "         1.18423367e+00,  1.75045812e+00,  4.01760876e-01, -1.57490826e+00,\n",
       "        -1.91594958e+00,  5.24013710e+00, -4.23396444e+00, -9.19395626e-01,\n",
       "         4.21606213e-01, -5.07869673e+00, -5.58111238e+00, -4.56943750e+00,\n",
       "        -3.16378146e-01, -3.73953700e+00,  1.33787632e+00, -4.47359037e+00,\n",
       "         1.98470855e+00,  2.27969074e+00, -2.88339996e+00, -2.16939330e+00,\n",
       "        -6.85466886e-01,  1.74061394e+00,  3.05320692e+00, -3.41664124e+00,\n",
       "        -1.30013871e+00, -4.27791238e-01,  2.54554200e+00, -5.08185744e-01,\n",
       "        -2.67019451e-01, -3.69823718e+00,  6.49546862e-01, -1.19581449e+00,\n",
       "        -2.35841250e+00, -1.60231614e+00,  1.93052769e+00, -1.93717465e-01,\n",
       "        -2.75522852e+00,  2.89731050e+00,  1.00189006e+00,  1.49661624e+00,\n",
       "        -6.35467958e+00,  1.39298171e-01,  3.36951160e+00, -1.81783688e+00,\n",
       "        -9.12367165e-01, -1.39820194e+00, -9.67635214e-01, -3.38021898e+00,\n",
       "         3.89692163e+00,  1.06964862e+00, -4.05862570e+00,  1.13971412e+00,\n",
       "        -1.30452430e+00, -6.51638508e-01,  1.90221548e-01,  1.89463377e+00,\n",
       "         1.41451001e+00, -2.36588144e+00,  2.73110104e+00,  1.51910186e+00,\n",
       "         1.15751195e+00,  4.21141982e-02, -1.07695505e-01,  3.75739193e+00,\n",
       "        -2.88414741e+00,  7.41774321e-01,  7.97410905e-01,  1.51510322e+00,\n",
       "         2.52279830e+00, -6.34691656e-01, -1.63707423e+00,  2.02649307e+00],\n",
       "       dtype=float32),\n",
       " array([ -5.29668   ,   9.365815  ,  -0.22155988, -16.860746  ,\n",
       "          2.9002879 , -11.025019  ,   1.3857096 ,  25.927015  ,\n",
       "        -11.849061  , -27.94812   ,  -6.8361554 , -17.1808    ,\n",
       "          2.3887913 ,  15.353955  ,  16.130465  ,   9.872535  ,\n",
       "         17.034794  ,  -9.042183  ,   0.72872204, -13.927554  ,\n",
       "          6.2122965 ,   5.8134284 ,   0.20101279,   4.52281   ,\n",
       "         -4.437465  ,   2.9988072 ,  -0.14149618,   0.98812294,\n",
       "         -5.6478634 ,  -1.0430137 ,  22.512562  , -18.578733  ,\n",
       "         14.870271  ,  -8.863438  , -16.302036  ,  -1.6485121 ,\n",
       "         17.444473  , -18.900871  , -23.582016  , -23.780937  ,\n",
       "        -23.552017  ,  -3.8564582 ,   5.8120866 ,  -9.939536  ,\n",
       "          4.671794  ,  14.8369255 ,  -8.951071  ,  13.929807  ,\n",
       "         -2.8154268 ,   6.2512097 ,   1.1000046 ,  -2.6557446 ,\n",
       "        -22.218927  , -10.764436  ,   2.7415264 , -10.00551   ,\n",
       "         17.752384  ,  -7.665445  ,  -9.270934  ,   2.5399814 ,\n",
       "         -0.08997315, -11.641794  ,   3.142991  ,   6.3081207 ,\n",
       "        -25.974064  ,  15.648411  ,  18.55974   ,  -2.2890234 ,\n",
       "         -7.444001  ,  14.649068  ,   1.7130078 ,  -3.7097127 ,\n",
       "          4.327145  , -19.546589  ,  -0.7859864 ,   5.5180798 ,\n",
       "         17.531153  ,  -1.2105725 , -10.06292   ,  12.2655945 ,\n",
       "        -15.420153  ,   5.169607  ,  -0.4939446 ,   7.2966366 ,\n",
       "         -1.8949713 ,   8.438763  ,   1.2341635 ,   8.891893  ,\n",
       "          2.895749  ,  -2.7763858 ,  14.144332  ,   9.934919  ,\n",
       "          0.6910031 ,  -9.568923  ,  13.0336685 ,  14.287232  ,\n",
       "          7.9620442 , -29.286987  ,  -4.074383  ,  13.416891  ],\n",
       "       dtype=float32),\n",
       " array([ 0.47038147,  1.014125  , -1.6760534 , -1.8381413 , -0.25104314,\n",
       "        -0.43699247, -0.9589421 ,  3.176396  , -0.09694949, -1.9599648 ,\n",
       "        -0.24969466,  0.27781862, -0.62226653, -0.05287612, -0.41058645,\n",
       "         2.699198  , -0.70411855, -0.3464582 , -1.1461588 ,  1.4669654 ,\n",
       "        -1.4673731 ,  2.5574536 , -1.4901235 ,  1.2152554 ,  1.9678812 ,\n",
       "        -0.19844082,  1.7468762 , -2.4688668 , -0.19272704,  1.1072799 ,\n",
       "        -2.3519495 , -2.4214203 , -1.4179981 , -0.06768067, -0.63373435,\n",
       "        -2.4634664 , -0.48304003, -1.1075792 , -0.5357878 , -2.3806827 ,\n",
       "         3.0758874 , -1.0493809 , -1.174201  ,  0.929514  ,  0.8309788 ,\n",
       "        -0.6119689 , -1.7893152 ,  0.6574483 ,  0.3346344 ,  0.49467817,\n",
       "         2.4546506 , -0.16732574, -0.6902961 , -2.0540264 , -0.23259771,\n",
       "         1.483701  ,  1.2163361 ,  0.4840251 , -0.05330184,  0.24255842,\n",
       "        -1.498121  , -0.86988854, -0.5808581 , -0.4559664 , -0.6628586 ,\n",
       "         0.26433814, -0.06873702,  3.3907435 ,  0.275902  ,  0.3116059 ,\n",
       "         0.23781522, -1.7869788 ,  0.9626052 , -0.3490494 ,  0.38092116,\n",
       "         0.09073859,  2.2372975 ,  1.0897323 ,  0.31029215,  0.19352181,\n",
       "        -3.3520095 ,  1.1661626 ,  2.0489674 ,  2.185224  , -0.89559406,\n",
       "        -1.8908637 ,  0.06094345,  0.4961445 , -1.6191603 ,  0.18251258,\n",
       "        -0.3087658 ,  1.9523227 , -0.7025958 , -0.42242032,  1.6872203 ,\n",
       "         0.7072293 ,  2.2930996 , -1.2889594 ,  0.2548773 , -0.45690063],\n",
       "       dtype=float32)]"
      ]
     },
     "execution_count": 187,
     "metadata": {},
     "output_type": "execute_result"
    }
   ],
   "source": [
    "vetor_frases_objetivo_1=[]\n",
    "for i in range(len(indice_abstract)):\n",
    "    vetor_frases_objetivo_1.append(vetor_intro[indice_abstract[i]])\n",
    "vetor_frases_objetivo_1"
   ]
  },
  {
   "cell_type": "code",
   "execution_count": 188,
   "metadata": {
    "ExecuteTime": {
     "end_time": "2022-10-17T02:46:33.411314Z",
     "start_time": "2022-10-17T02:46:33.366328Z"
    }
   },
   "outputs": [],
   "source": [
    "dicionario = dicionario_similaridade(vetor_abstract, vetor_conclusion)"
   ]
  },
  {
   "cell_type": "code",
   "execution_count": 189,
   "metadata": {
    "ExecuteTime": {
     "end_time": "2022-10-17T02:46:39.060414Z",
     "start_time": "2022-10-17T02:46:39.035864Z"
    }
   },
   "outputs": [
    {
     "data": {
      "text/plain": [
       "[(1, 11), (1, 4), (1, 5)]"
      ]
     },
     "execution_count": 189,
     "metadata": {},
     "output_type": "execute_result"
    }
   ],
   "source": [
    "top_3_indices = sorted(dicionario, key=dicionario.get, reverse=True)[:3]\n",
    "top_3_indices"
   ]
  },
  {
   "cell_type": "code",
   "execution_count": 196,
   "metadata": {
    "ExecuteTime": {
     "end_time": "2022-10-17T02:47:17.706956Z",
     "start_time": "2022-10-17T02:47:17.686954Z"
    }
   },
   "outputs": [
    {
     "data": {
      "text/plain": [
       "['comparsion',\n",
       " 'of',\n",
       " 'the',\n",
       " 'results',\n",
       " 'presented',\n",
       " 'here',\n",
       " 'with',\n",
       " 'those',\n",
       " 'in',\n",
       " 'the',\n",
       " 'maximum',\n",
       " 'entropy',\n",
       " 'framework',\n",
       " 'seems',\n",
       " 'to',\n",
       " 'be',\n",
       " 'the',\n",
       " 'only',\n",
       " 'other',\n",
       " 'approach',\n",
       " 'yielding',\n",
       " 'comparable',\n",
       " 'results',\n",
       " 'to',\n",
       " 'the',\n",
       " 'one',\n",
       " 'presented',\n",
       " 'here']"
      ]
     },
     "execution_count": 196,
     "metadata": {},
     "output_type": "execute_result"
    }
   ],
   "source": [
    "palavras_conclusion[11]"
   ]
  },
  {
   "cell_type": "code",
   "execution_count": 197,
   "metadata": {
    "ExecuteTime": {
     "end_time": "2022-10-17T02:47:24.774193Z",
     "start_time": "2022-10-17T02:47:24.755829Z"
    }
   },
   "outputs": [
    {
     "data": {
      "text/plain": [
       "['',\n",
       " 'contrary',\n",
       " 'to',\n",
       " 'claims',\n",
       " 'found',\n",
       " 'elsewhere',\n",
       " 'in',\n",
       " 'the',\n",
       " 'literature',\n",
       " 'we',\n",
       " 'argue',\n",
       " 'that']"
      ]
     },
     "execution_count": 197,
     "metadata": {},
     "output_type": "execute_result"
    }
   ],
   "source": [
    "palavras_abstract[1]"
   ]
  },
  {
   "cell_type": "code",
   "execution_count": 192,
   "metadata": {
    "ExecuteTime": {
     "end_time": "2022-10-17T02:46:56.267082Z",
     "start_time": "2022-10-17T02:46:56.247660Z"
    }
   },
   "outputs": [
    {
     "name": "stdout",
     "output_type": "stream",
     "text": [
      "0.929208\n",
      "0.9237128\n",
      "0.9056458\n"
     ]
    }
   ],
   "source": [
    "for i in top_3_indices:\n",
    "    print(dicionario[i])"
   ]
  },
  {
   "cell_type": "code",
   "execution_count": 193,
   "metadata": {
    "ExecuteTime": {
     "end_time": "2022-10-17T02:47:01.971020Z",
     "start_time": "2022-10-17T02:47:01.959505Z"
    }
   },
   "outputs": [],
   "source": [
    "x=[]\n",
    "for i in range(len(top_3_indices)):\n",
    "    x.append(top_3_indices[i][0])\n",
    "indice_abstract = list(set(x))"
   ]
  },
  {
   "cell_type": "code",
   "execution_count": 194,
   "metadata": {
    "ExecuteTime": {
     "end_time": "2022-10-17T02:47:08.421935Z",
     "start_time": "2022-10-17T02:47:08.379963Z"
    }
   },
   "outputs": [
    {
     "data": {
      "text/plain": [
       "[array([ 9.76164222e-01, -1.54301739e+00, -1.15254784e+00, -3.48976135e+00,\n",
       "         5.48465586e+00, -2.86121511e+00, -2.23197043e-03,  6.75335646e+00,\n",
       "        -1.61694407e+00, -6.83200932e+00,  2.73714375e+00, -1.07148552e+00,\n",
       "        -2.93583632e+00,  6.55707419e-01,  5.37931347e+00,  4.19831944e+00,\n",
       "         1.68964207e+00, -1.01991653e+00,  9.03090775e-01, -3.11060810e+00,\n",
       "         4.84238535e-01,  4.03218806e-01,  1.11081541e+00,  4.82035995e-01,\n",
       "         1.35956562e+00,  6.09692216e-01, -4.18299055e+00, -2.62711549e+00,\n",
       "         1.18423367e+00,  1.75045812e+00,  4.01760876e-01, -1.57490826e+00,\n",
       "        -1.91594958e+00,  5.24013710e+00, -4.23396444e+00, -9.19395626e-01,\n",
       "         4.21606213e-01, -5.07869673e+00, -5.58111238e+00, -4.56943750e+00,\n",
       "        -3.16378146e-01, -3.73953700e+00,  1.33787632e+00, -4.47359037e+00,\n",
       "         1.98470855e+00,  2.27969074e+00, -2.88339996e+00, -2.16939330e+00,\n",
       "        -6.85466886e-01,  1.74061394e+00,  3.05320692e+00, -3.41664124e+00,\n",
       "        -1.30013871e+00, -4.27791238e-01,  2.54554200e+00, -5.08185744e-01,\n",
       "        -2.67019451e-01, -3.69823718e+00,  6.49546862e-01, -1.19581449e+00,\n",
       "        -2.35841250e+00, -1.60231614e+00,  1.93052769e+00, -1.93717465e-01,\n",
       "        -2.75522852e+00,  2.89731050e+00,  1.00189006e+00,  1.49661624e+00,\n",
       "        -6.35467958e+00,  1.39298171e-01,  3.36951160e+00, -1.81783688e+00,\n",
       "        -9.12367165e-01, -1.39820194e+00, -9.67635214e-01, -3.38021898e+00,\n",
       "         3.89692163e+00,  1.06964862e+00, -4.05862570e+00,  1.13971412e+00,\n",
       "        -1.30452430e+00, -6.51638508e-01,  1.90221548e-01,  1.89463377e+00,\n",
       "         1.41451001e+00, -2.36588144e+00,  2.73110104e+00,  1.51910186e+00,\n",
       "         1.15751195e+00,  4.21141982e-02, -1.07695505e-01,  3.75739193e+00,\n",
       "        -2.88414741e+00,  7.41774321e-01,  7.97410905e-01,  1.51510322e+00,\n",
       "         2.52279830e+00, -6.34691656e-01, -1.63707423e+00,  2.02649307e+00],\n",
       "       dtype=float32)]"
      ]
     },
     "execution_count": 194,
     "metadata": {},
     "output_type": "execute_result"
    }
   ],
   "source": [
    "vetor_frases_objetivo_1=[]\n",
    "for i in range(len(indice_abstract)):\n",
    "    vetor_frases_objetivo_1.append(vetor_intro[indice_abstract[i]])\n",
    "vetor_frases_objetivo_1"
   ]
  },
  {
   "cell_type": "code",
   "execution_count": 195,
   "metadata": {
    "ExecuteTime": {
     "end_time": "2022-10-17T02:47:14.444304Z",
     "start_time": "2022-10-17T02:47:14.405978Z"
    }
   },
   "outputs": [
    {
     "ename": "NameError",
     "evalue": "name 'frases_abstract' is not defined",
     "output_type": "error",
     "traceback": [
      "\u001b[1;31m---------------------------------------------------------------------------\u001b[0m",
      "\u001b[1;31mNameError\u001b[0m                                 Traceback (most recent call last)",
      "\u001b[1;32m<ipython-input-195-f33ae4a4822d>\u001b[0m in \u001b[0;36m<module>\u001b[1;34m\u001b[0m\n\u001b[0;32m      1\u001b[0m \u001b[1;32mfor\u001b[0m \u001b[0mi\u001b[0m \u001b[1;32min\u001b[0m \u001b[0mindice_abstract\u001b[0m\u001b[1;33m:\u001b[0m\u001b[1;33m\u001b[0m\u001b[1;33m\u001b[0m\u001b[0m\n\u001b[1;32m----> 2\u001b[1;33m     \u001b[0mprint\u001b[0m\u001b[1;33m(\u001b[0m\u001b[0mfrases_abstract\u001b[0m\u001b[1;33m[\u001b[0m\u001b[0mi\u001b[0m\u001b[1;33m]\u001b[0m\u001b[1;33m)\u001b[0m\u001b[1;33m\u001b[0m\u001b[1;33m\u001b[0m\u001b[0m\n\u001b[0m",
      "\u001b[1;31mNameError\u001b[0m: name 'frases_abstract' is not defined"
     ]
    }
   ],
   "source": [
    "for i in indice_abstract:\n",
    "    print(frases_abstract[i])"
   ]
  },
  {
   "cell_type": "code",
   "execution_count": null,
   "metadata": {
    "ExecuteTime": {
     "end_time": "2022-10-17T02:47:14.458163Z",
     "start_time": "2022-10-17T02:46:28.286Z"
    }
   },
   "outputs": [],
   "source": [
    "from rouge_score import rouge_scorer\n",
    "\n",
    "scorer = rouge_scorer.RougeScorer(['rouge1', 'rougeL'], use_stemmer=True)"
   ]
  },
  {
   "cell_type": "code",
   "execution_count": null,
   "metadata": {
    "ExecuteTime": {
     "end_time": "2022-10-17T02:47:14.465877Z",
     "start_time": "2022-10-17T02:46:28.691Z"
    }
   },
   "outputs": [],
   "source": [
    "rouge_score_frases = {}\n",
    "for i in indice_abstract:\n",
    "    for j in range(len(summary1)):\n",
    "        #print(scorer.score(frases_abstract[i],summary1[j])['rouge1'].fmeasure)\n",
    "        rouge_score_frases[i,j] = scorer.score(frases_abstract[i],summary1[j])['rouge1'].fmeasure"
   ]
  },
  {
   "cell_type": "code",
   "execution_count": null,
   "metadata": {},
   "outputs": [],
   "source": []
  },
  {
   "cell_type": "code",
   "execution_count": null,
   "metadata": {
    "ExecuteTime": {
     "end_time": "2022-10-17T02:47:14.482837Z",
     "start_time": "2022-10-17T02:46:30.265Z"
    }
   },
   "outputs": [],
   "source": [
    "rouge_score_frases"
   ]
  },
  {
   "cell_type": "code",
   "execution_count": null,
   "metadata": {
    "ExecuteTime": {
     "end_time": "2022-10-17T02:47:14.494925Z",
     "start_time": "2022-10-17T02:46:30.925Z"
    }
   },
   "outputs": [],
   "source": [
    "frases_abstract[1]"
   ]
  },
  {
   "cell_type": "code",
   "execution_count": null,
   "metadata": {
    "ExecuteTime": {
     "end_time": "2022-10-17T02:47:14.521259Z",
     "start_time": "2022-10-17T02:46:31.401Z"
    }
   },
   "outputs": [],
   "source": [
    "frases_abstract[2]"
   ]
  },
  {
   "cell_type": "code",
   "execution_count": null,
   "metadata": {
    "ExecuteTime": {
     "end_time": "2022-10-17T02:47:14.531491Z",
     "start_time": "2022-10-17T02:46:31.769Z"
    }
   },
   "outputs": [],
   "source": [
    "summary1"
   ]
  },
  {
   "cell_type": "code",
   "execution_count": 48,
   "metadata": {
    "ExecuteTime": {
     "end_time": "2022-10-16T17:10:54.073861Z",
     "start_time": "2022-10-16T17:10:53.983492Z"
    }
   },
   "outputs": [
    {
     "data": {
      "text/plain": [
       "'Inter-sentence similarity is replaced by rank in the local context.\\n'"
      ]
     },
     "execution_count": 48,
     "metadata": {},
     "output_type": "execute_result"
    }
   ],
   "source": [
    "summary1[2]"
   ]
  },
  {
   "cell_type": "code",
   "execution_count": 49,
   "metadata": {
    "ExecuteTime": {
     "end_time": "2022-10-16T17:10:54.137018Z",
     "start_time": "2022-10-16T17:10:54.079855Z"
    }
   },
   "outputs": [
    {
     "data": {
      "text/plain": [
       "['this paper describes',\n",
       " 'method for linear text segmentation which is twice as accurate and over seven times as fast as the state-of-the-art',\n",
       " 'inter-sentence similarity is replaced by rank in the local context',\n",
       " ' boundary locations are discovered by divisive clustering',\n",
       " '']"
      ]
     },
     "execution_count": 49,
     "metadata": {},
     "output_type": "execute_result"
    }
   ],
   "source": [
    "frases_abstract"
   ]
  },
  {
   "cell_type": "code",
   "execution_count": 50,
   "metadata": {
    "ExecuteTime": {
     "end_time": "2022-10-16T17:10:54.152014Z",
     "start_time": "2022-10-16T17:10:54.142003Z"
    }
   },
   "outputs": [
    {
     "data": {
      "text/plain": [
       "['Advances In Domain Independent Linear Text Segmentation\\n',\n",
       " 'This paper describes a method for linear text segmentation which is twice as accurate and over seven times as fast as the state-of-the-art (Reynar, 1998).\\n',\n",
       " 'Inter-sentence similarity is replaced by rank in the local context.\\n',\n",
       " 'Boundary locations are discovered by divisive clustering.\\n',\n",
       " 'We design an artificial dataset, built by concatenating short pieces of texts that have been extracted from the Brown corpus.\\n']"
      ]
     },
     "execution_count": 50,
     "metadata": {},
     "output_type": "execute_result"
    }
   ],
   "source": [
    "summary1"
   ]
  },
  {
   "cell_type": "code",
   "execution_count": 51,
   "metadata": {
    "ExecuteTime": {
     "end_time": "2022-10-16T17:10:54.276522Z",
     "start_time": "2022-10-16T17:10:54.154970Z"
    }
   },
   "outputs": [
    {
     "data": {
      "text/plain": [
       "'this paper describes.method for linear text segmentation which is twice as accurate and over seven times as fast as the state-of-the-art.inter-sentence similarity is replaced by rank in the local context. boundary locations are discovered by divisive clustering.'"
      ]
     },
     "execution_count": 51,
     "metadata": {},
     "output_type": "execute_result"
    }
   ],
   "source": [
    "abstract"
   ]
  },
  {
   "cell_type": "markdown",
   "metadata": {
    "ExecuteTime": {
     "end_time": "2022-10-14T21:44:29.942141Z",
     "start_time": "2022-10-14T21:44:29.293698Z"
    }
   },
   "source": [
    "from rouge_score import rouge_scorer\n",
    "\n",
    "scorer = rouge_scorer.RougeScorer(['rouge1', 'rougeL'], use_stemmer=True)\n",
    "scores = scorer.score('The quick brown fox jumps over the lazy dog',\n",
    "                      'The quick brown dog jumps on the log.')"
   ]
  },
  {
   "cell_type": "markdown",
   "metadata": {
    "ExecuteTime": {
     "end_time": "2022-10-14T21:44:34.685277Z",
     "start_time": "2022-10-14T21:44:34.678296Z"
    }
   },
   "source": [
    "scores"
   ]
  },
  {
   "cell_type": "code",
   "execution_count": null,
   "metadata": {},
   "outputs": [],
   "source": []
  }
 ],
 "metadata": {
  "hide_input": false,
  "kernelspec": {
   "display_name": "Python 3",
   "language": "python",
   "name": "python3"
  },
  "language_info": {
   "codemirror_mode": {
    "name": "ipython",
    "version": 3
   },
   "file_extension": ".py",
   "mimetype": "text/x-python",
   "name": "python",
   "nbconvert_exporter": "python",
   "pygments_lexer": "ipython3",
   "version": "3.8.5"
  },
  "toc": {
   "base_numbering": 1,
   "nav_menu": {},
   "number_sections": true,
   "sideBar": true,
   "skip_h1_title": false,
   "title_cell": "Table of Contents",
   "title_sidebar": "Contents",
   "toc_cell": false,
   "toc_position": {},
   "toc_section_display": true,
   "toc_window_display": false
  },
  "varInspector": {
   "cols": {
    "lenName": 16,
    "lenType": 16,
    "lenVar": 40
   },
   "kernels_config": {
    "python": {
     "delete_cmd_postfix": "",
     "delete_cmd_prefix": "del ",
     "library": "var_list.py",
     "varRefreshCmd": "print(var_dic_list())"
    },
    "r": {
     "delete_cmd_postfix": ") ",
     "delete_cmd_prefix": "rm(",
     "library": "var_list.r",
     "varRefreshCmd": "cat(var_dic_list()) "
    }
   },
   "types_to_exclude": [
    "module",
    "function",
    "builtin_function_or_method",
    "instance",
    "_Feature"
   ],
   "window_display": false
  }
 },
 "nbformat": 4,
 "nbformat_minor": 4
}
